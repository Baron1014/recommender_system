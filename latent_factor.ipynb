{
 "cells": [
  {
   "cell_type": "markdown",
   "id": "60aa6fb8-85b1-46de-9707-06d4c579f0b1",
   "metadata": {},
   "source": [
    "# 0. Preparation"
   ]
  },
  {
   "cell_type": "code",
   "execution_count": 2,
   "id": "93391d63-9c0b-44d3-8583-8f1184a95d4c",
   "metadata": {
    "execution": {
     "iopub.execute_input": "2021-10-14T08:22:24.868947Z",
     "iopub.status.busy": "2021-10-14T08:22:24.868947Z",
     "iopub.status.idle": "2021-10-14T08:22:28.717693Z",
     "shell.execute_reply": "2021-10-14T08:22:28.717315Z",
     "shell.execute_reply.started": "2021-10-14T08:22:24.868947Z"
    },
    "tags": []
   },
   "outputs": [],
   "source": [
    "import numpy as np\n",
    "import heapq\n",
    "import pandas as pd\n",
    "import seaborn as sns\n",
    "import scipy\n",
    "import matplotlib.pyplot as plt\n",
    "from tqdm import tqdm\n",
    "import copy\n",
    "from sklearn.model_selection import train_test_split\n",
    "from sklearn.metrics import mean_squared_error as mse"
   ]
  },
  {
   "cell_type": "markdown",
   "id": "6e5fe571-06f7-4208-85da-b4a59f2edfac",
   "metadata": {},
   "source": [
    "## 0.1. load data"
   ]
  },
  {
   "cell_type": "code",
   "execution_count": 3,
   "id": "9ff26504-f3e0-4e8f-98b6-c1392deb1922",
   "metadata": {
    "execution": {
     "iopub.execute_input": "2021-10-14T08:22:28.718701Z",
     "iopub.status.busy": "2021-10-14T08:22:28.718701Z",
     "iopub.status.idle": "2021-10-14T08:22:29.158728Z",
     "shell.execute_reply": "2021-10-14T08:22:29.158728Z",
     "shell.execute_reply.started": "2021-10-14T08:22:28.718701Z"
    },
    "tags": []
   },
   "outputs": [
    {
     "name": "stdout",
     "output_type": "stream",
     "text": [
      "(100000, 4)\n",
      "[[      196       242         3 881250949]\n",
      " [      186       302         3 891717742]\n",
      " [       22       377         1 878887116]\n",
      " [      244        51         2 880606923]\n",
      " [      166       346         1 886397596]]\n"
     ]
    }
   ],
   "source": [
    "# 資料位置設置\n",
    "data_path = \"../data/ratings.data\"\n",
    "\n",
    "# 讀取資料\n",
    "data = np.loadtxt(data_path, dtype=int)\n",
    "print(data.shape)\n",
    "print(data[:5])"
   ]
  },
  {
   "cell_type": "code",
   "execution_count": 4,
   "id": "cce71308-9800-4f23-97ba-075fc7d6e476",
   "metadata": {
    "execution": {
     "iopub.execute_input": "2021-10-14T08:22:29.159699Z",
     "iopub.status.busy": "2021-10-14T08:22:29.159699Z",
     "iopub.status.idle": "2021-10-14T08:22:29.190698Z",
     "shell.execute_reply": "2021-10-14T08:22:29.189699Z",
     "shell.execute_reply.started": "2021-10-14T08:22:29.159699Z"
    },
    "tags": []
   },
   "outputs": [
    {
     "name": "stdout",
     "output_type": "stream",
     "text": [
      "(943,) (1682,)\n"
     ]
    }
   ],
   "source": [
    "# 存取使用者及電影名稱\n",
    "user = np.unique(data[:,0])\n",
    "movie = np.unique(data[:,1])\n",
    "print(user.shape, movie.shape)"
   ]
  },
  {
   "cell_type": "markdown",
   "id": "14fc9e6f-0b90-47e0-b4dc-33b147d7f6d5",
   "metadata": {
    "tags": []
   },
   "source": [
    "## 0.2. split training data & testing data"
   ]
  },
  {
   "cell_type": "code",
   "execution_count": 5,
   "id": "6ecc1b03-c97a-46f8-8489-549ad1102567",
   "metadata": {
    "execution": {
     "iopub.execute_input": "2021-10-14T08:22:29.192707Z",
     "iopub.status.busy": "2021-10-14T08:22:29.192707Z",
     "iopub.status.idle": "2021-10-14T08:22:29.206701Z",
     "shell.execute_reply": "2021-10-14T08:22:29.205699Z",
     "shell.execute_reply.started": "2021-10-14T08:22:29.192707Z"
    },
    "tags": []
   },
   "outputs": [
    {
     "name": "stdout",
     "output_type": "stream",
     "text": [
      "(75000, 4) (25000, 4)\n"
     ]
    }
   ],
   "source": [
    "# 將資料切分為訓練資料及測試資料\n",
    "train_data, test_data = train_test_split(data, test_size = 0.25, random_state=42)\n",
    "print(train_data.shape, test_data.shape)"
   ]
  },
  {
   "cell_type": "markdown",
   "id": "f2474969-7a95-4f57-b1a5-0c9c84e8a40a",
   "metadata": {},
   "source": [
    "# 1. Collaborative Filtering (CF)"
   ]
  },
  {
   "cell_type": "code",
   "execution_count": 6,
   "id": "93489fd8-4997-4ce2-bdf2-2c20ffdb0fc6",
   "metadata": {
    "execution": {
     "iopub.execute_input": "2021-10-14T08:22:29.207698Z",
     "iopub.status.busy": "2021-10-14T08:22:29.206701Z",
     "iopub.status.idle": "2021-10-14T08:22:29.222702Z",
     "shell.execute_reply": "2021-10-14T08:22:29.221705Z",
     "shell.execute_reply.started": "2021-10-14T08:22:29.207698Z"
    },
    "tags": []
   },
   "outputs": [],
   "source": [
    "# 針對向量非0地方做計算\n",
    "def non_zero_mean(arr):\n",
    "    exist = arr != 0\n",
    "    total = arr.sum(axis = 1)\n",
    "    exist_number = exist.sum(axis=1)\n",
    "    \n",
    "    return np.reshape(total/exist_number, (-1, 1))\n",
    "\n",
    "# 針對單一向量非0地方做計算\n",
    "def non_zero_vec_mean(vec):\n",
    "    exist = vec != 0\n",
    "    total = vec.sum()\n",
    "    if total == 0: return 0\n",
    "    exist_number = exist.sum()\n",
    "    \n",
    "    return total/exist_number\n",
    "\n",
    "\n",
    "# 取得整體平均\n",
    "def get_u():    \n",
    "    return np.mean(non_zero_mean(user_matrix))\n",
    "    \n",
    "    \n",
    "# 計算向量長度\n",
    "def norm(v):\n",
    "    return np.sqrt(np.sum(np.power(v, 2)))\n",
    "\n",
    "# 計算兩個向量的 cosine 相似度\n",
    "def cos_sim(a, b):\n",
    "    s = norm(a)*norm(b)\n",
    "    if s == 0:\n",
    "        return 0\n",
    "    \n",
    "    return np.inner(a,b) / s\n",
    "\n",
    "# 計算兩個向量的 Pearson Correlation Coefficient 相似度\n",
    "def pcc_sim(a, b):\n",
    "    mean_a = non_zero_vec_mean(a)\n",
    "    mean_b = non_zero_vec_mean(b)\n",
    "    s = np.sqrt(np.sum(np.power((a-mean_a), 2))) * np.sqrt(np.sum(np.power((b-mean_b), 2)))\n",
    "    if s == 0:\n",
    "        return 0\n",
    "    \n",
    "    return np.inner(a-mean_a, b-mean_b) / s\n",
    "    \n",
    "\n",
    "# 計算兩兩之間的相似度，且自己與自己的相似度調整為0\n",
    "def get_sim_dict(target, arr):\n",
    "    # init 目標相似度名單(cos & pcc)\n",
    "    cos_dict = dict()\n",
    "    pcc_dict = dict()\n",
    "    \n",
    "    for u in tqdm(range(len(target)), desc='caculator u & v similar'):\n",
    "        # init 目標 u 跟 v 的相似度\n",
    "        uv_cos = list()\n",
    "        uv_pcc = list()\n",
    "        for v in range(len(target)):\n",
    "            if u != v:\n",
    "                # 計算使用者u、v的cosine\n",
    "                uv_cos.append(cos_sim(arr[u], arr[v]))\n",
    "                uv_pcc.append(pcc_sim(arr[u], arr[v]))\n",
    "            else:\n",
    "                # 為了保持index不會跑掉，因此在自己的位置不做計算且補0\n",
    "                uv_cos.append(0)\n",
    "                uv_pcc.append(0)\n",
    "\n",
    "        cos_dict[u] = uv_cos\n",
    "        pcc_dict[u] = uv_pcc        \n",
    "    \n",
    "    return cos_dict, pcc_dict\n",
    "\n",
    "# 推測評分\n",
    "def predict(S, R):\n",
    "    s = np.sum(S)\n",
    "    if s == 0:\n",
    "        return 0\n",
    "    \n",
    "    return np.dot(S,R)/ s\n",
    "\n",
    "# Vistualize Result\n",
    "def plot_result(df, title):\n",
    "    sns.set_style('whitegrid')\n",
    "    sns.set_context('talk')\n",
    "    plt.figure(figsize=(15,10))\n",
    "    plt.title(title)\n",
    "    for c in df.columns:\n",
    "        if c != \"K\":\n",
    "            g = sns.lineplot(data=df, x=\"K\", y=c, label=c)\n",
    "    g.set(ylabel = \"RMSE\")\n",
    "\n",
    "# Vistualize Testing & Training Result\n",
    "def plot_training_testing(df, ax, title):\n",
    "    sns.set_style('whitegrid')\n",
    "    sns.set_context('talk')\n",
    "    ax.set_title(title)\n",
    "    for c in df.columns:\n",
    "        if c != \"K\":\n",
    "            g = sns.lineplot(ax=ax, data=df, x=\"K\", y=c, label=c)\n",
    "    g.set(ylabel = \"RMSE\")\n",
    "    \n",
    "# item bias\n",
    "def get_ibias(i):\n",
    "    return non_zero_vec_mean(user_matrix[:,i]) \n",
    "\n",
    "# user bias\n",
    "def get_ubias(u):\n",
    "    return non_zero_vec_mean(user_matrix[u]) \n",
    "\n",
    "# 偏差修正\n",
    "def get_bias(arr):\n",
    "    # 計算bias\n",
    "    bias_matrix = np.zeros((len(user), len(movie)))\n",
    "    mean = get_u()\n",
    "\n",
    "     # init u + bu\n",
    "    for u in range(bias_matrix.shape[0]):\n",
    "        bias_matrix[u] = get_ubias(u)\n",
    "\n",
    "    # Bias = u + bu + bi\n",
    "    for i in range(bias_matrix.shape[1]):\n",
    "        bias_matrix[:,i] += get_ibias(i) - mean\n",
    "\n",
    "    # 刪除原本沒有評分的bias\n",
    "    for i in range(arr.shape[0]):\n",
    "        for j in range(arr.shape[1]):\n",
    "            if arr[i,j] == 0:\n",
    "                bias_matrix[i,j] = 0\n",
    "    \n",
    "    return bias_matrix\n",
    "\n",
    "# square error\n",
    "def se(t, p):\n",
    "    return (p-t)**2\n",
    "\n",
    "# rmse\n",
    "def rmse(delta_list):\n",
    "    if len(delta_list)==0:\n",
    "        return None\n",
    "    \n",
    "    return (sum(delta_list)/len(delta_list))**0.5"
   ]
  },
  {
   "cell_type": "markdown",
   "id": "af059e84-c80b-4111-9f9a-c2f366a45877",
   "metadata": {
    "tags": []
   },
   "source": [
    "## 1.1. User-based Collaborative Filtering (U-CF)"
   ]
  },
  {
   "cell_type": "code",
   "execution_count": 10,
   "id": "a84b0fb5-9d73-41f8-8a61-27ccb1737bc5",
   "metadata": {
    "execution": {
     "iopub.execute_input": "2021-10-14T08:23:05.526643Z",
     "iopub.status.busy": "2021-10-14T08:23:05.526643Z",
     "iopub.status.idle": "2021-10-14T08:23:18.831638Z",
     "shell.execute_reply": "2021-10-14T08:23:18.831638Z",
     "shell.execute_reply.started": "2021-10-14T08:23:05.526643Z"
    },
    "tags": []
   },
   "outputs": [
    {
     "name": "stderr",
     "output_type": "stream",
     "text": [
      "data transfer user matrix: 100%|█████████████████████████████████████████████████████████████████████████████████████████████████████████████████████████████████████████████████| 943/943 [00:13<00:00, 70.98it/s]\n"
     ]
    }
   ],
   "source": [
    "# init user_matrix as zero matrix\n",
    "user_matrix = np.zeros((len(user), len(movie)))\n",
    "\n",
    "for u in tqdm(user, desc='data transfer user matrix'):\n",
    "    '''\n",
    "    train_data[train_data[:,0] == u] : 過濾出u使用者所有的評分資料\n",
    "    train_data[train_data[:,0] == u][:,1]: 取得u使用者所有評分過的電影名稱\n",
    "    '''\n",
    "    rate_index = train_data[train_data[:,0] == u][:,1]\n",
    "    for rate in rate_index:\n",
    "        '''\n",
    "        user_matrix[u-1, rate-1]: 欲設置的rateing位置\n",
    "        train_data[(train_data[:,0] == u) & (train_data[:,1] == rate)]: 取出u使用者對於評論過特定電影的資料\n",
    "        '''\n",
    "        user_matrix[u-1, rate-1] = train_data[(train_data[:,0] == u) & (train_data[:,1] == rate)][:,2].item()"
   ]
  },
  {
   "cell_type": "code",
   "execution_count": 52,
   "id": "48102b89-9d5b-4ccc-b806-e907510cd87b",
   "metadata": {
    "execution": {
     "iopub.execute_input": "2021-10-13T08:54:24.883916Z",
     "iopub.status.busy": "2021-10-13T08:54:24.883916Z",
     "iopub.status.idle": "2021-10-13T08:54:24.902511Z",
     "shell.execute_reply": "2021-10-13T08:54:24.902511Z",
     "shell.execute_reply.started": "2021-10-13T08:54:24.883916Z"
    },
    "tags": []
   },
   "outputs": [
    {
     "name": "stdout",
     "output_type": "stream",
     "text": [
      "user_matrix:\n",
      "[[0. 3. 4. ... 0. 0. 0.]\n",
      " [4. 0. 0. ... 0. 0. 0.]\n",
      " [0. 0. 0. ... 0. 0. 0.]\n",
      " ...\n",
      " [5. 0. 0. ... 0. 0. 0.]\n",
      " [0. 0. 0. ... 0. 0. 0.]\n",
      " [0. 5. 0. ... 0. 0. 0.]] \n",
      "\n",
      "after adjust:\n",
      "[[-0.4351962   2.5648038   3.5648038  ... -0.4351962  -0.4351962\n",
      "  -0.4351962 ]\n",
      " [ 3.9019025  -0.0980975  -0.0980975  ... -0.0980975  -0.0980975\n",
      "  -0.0980975 ]\n",
      " [-0.07015458 -0.07015458 -0.07015458 ... -0.07015458 -0.07015458\n",
      "  -0.07015458]\n",
      " ...\n",
      " [ 4.96016647 -0.03983353 -0.03983353 ... -0.03983353 -0.03983353\n",
      "  -0.03983353]\n",
      " [-0.15338882 -0.15338882 -0.15338882 ... -0.15338882 -0.15338882\n",
      "  -0.15338882]\n",
      " [-0.25743163  4.74256837 -0.25743163 ... -0.25743163 -0.25743163\n",
      "  -0.25743163]]\n"
     ]
    }
   ],
   "source": [
    "# 計算使用者平均評分\n",
    "user_mean = non_zero_mean(user_matrix)\n",
    "# 使用個別使用者平均校正使用者對電影的評分\n",
    "# user_adjust = np.where(user_matrix == 0, user_matrix, user_matrix-user_mean)\n",
    "user_adjust = user_matrix - np.mean(user_matrix, axis=1).reshape(-1, 1)\n",
    "print(f\"user_matrix:\\n{user_matrix} \\n\\nafter adjust:\\n{user_adjust}\")"
   ]
  },
  {
   "cell_type": "code",
   "execution_count": 110,
   "id": "40f5d0fe-8c3d-4612-845a-7aae2f23052a",
   "metadata": {
    "execution": {
     "iopub.execute_input": "2021-10-13T09:54:12.662278Z",
     "iopub.status.busy": "2021-10-13T09:54:12.662278Z",
     "iopub.status.idle": "2021-10-13T09:56:40.995132Z",
     "shell.execute_reply": "2021-10-13T09:56:40.995132Z",
     "shell.execute_reply.started": "2021-10-13T09:54:12.662278Z"
    },
    "tags": []
   },
   "outputs": [
    {
     "name": "stderr",
     "output_type": "stream",
     "text": [
      "caculator u & v similar: 100%|███████████████████████████████████████████████████████████████████████████████████████████████████████████████████████████████████████████████████| 943/943 [02:27<00:00,  6.38it/s]\n"
     ]
    }
   ],
   "source": [
    "# 計算bias\n",
    "bias_matrix = get_bias(user_matrix)\n",
    "\n",
    "# 取得user間的相似度名單\n",
    "cos_dict, pcc_dict = get_sim_dict(user, user_matrix)"
   ]
  },
  {
   "cell_type": "markdown",
   "id": "72a9bca1-e79b-4954-a6f2-dfa82368bae7",
   "metadata": {
    "tags": []
   },
   "source": [
    "### 1.1.1.  User‐Based CF use Cosine result"
   ]
  },
  {
   "cell_type": "code",
   "execution_count": 122,
   "id": "9745cd8e-2709-46e2-a060-84e6c18232cd",
   "metadata": {
    "execution": {
     "iopub.execute_input": "2021-10-13T10:52:20.415906Z",
     "iopub.status.busy": "2021-10-13T10:52:20.415906Z",
     "iopub.status.idle": "2021-10-13T10:54:04.366411Z",
     "shell.execute_reply": "2021-10-13T10:54:04.366411Z",
     "shell.execute_reply.started": "2021-10-13T10:52:20.415906Z"
    },
    "tags": []
   },
   "outputs": [
    {
     "name": "stderr",
     "output_type": "stream",
     "text": [
      "predicting K = 3: 100%|█████████████████████████████████████████████████████████████████████████████████████████████████████████████████████████████████████████████████████████| 943/943 [00:01<00:00, 513.07it/s]\n",
      "predicting K = 4: 100%|█████████████████████████████████████████████████████████████████████████████████████████████████████████████████████████████████████████████████████████| 943/943 [00:02<00:00, 455.49it/s]\n",
      "predicting K = 5: 100%|█████████████████████████████████████████████████████████████████████████████████████████████████████████████████████████████████████████████████████████| 943/943 [00:02<00:00, 441.86it/s]\n",
      "predicting K = 6: 100%|█████████████████████████████████████████████████████████████████████████████████████████████████████████████████████████████████████████████████████████| 943/943 [00:02<00:00, 399.93it/s]\n",
      "predicting K = 7: 100%|█████████████████████████████████████████████████████████████████████████████████████████████████████████████████████████████████████████████████████████| 943/943 [00:02<00:00, 384.84it/s]\n",
      "predicting K = 8: 100%|█████████████████████████████████████████████████████████████████████████████████████████████████████████████████████████████████████████████████████████| 943/943 [00:02<00:00, 368.01it/s]\n",
      "predicting K = 9: 100%|█████████████████████████████████████████████████████████████████████████████████████████████████████████████████████████████████████████████████████████| 943/943 [00:02<00:00, 340.64it/s]\n",
      "predicting K = 10: 100%|████████████████████████████████████████████████████████████████████████████████████████████████████████████████████████████████████████████████████████| 943/943 [00:02<00:00, 329.73it/s]\n",
      "predicting K = 20: 100%|████████████████████████████████████████████████████████████████████████████████████████████████████████████████████████████████████████████████████████| 943/943 [00:04<00:00, 221.59it/s]\n",
      "predicting K = 30: 100%|████████████████████████████████████████████████████████████████████████████████████████████████████████████████████████████████████████████████████████| 943/943 [00:05<00:00, 171.84it/s]\n",
      "predicting K = 40: 100%|████████████████████████████████████████████████████████████████████████████████████████████████████████████████████████████████████████████████████████| 943/943 [00:06<00:00, 137.76it/s]\n",
      "predicting K = 50: 100%|████████████████████████████████████████████████████████████████████████████████████████████████████████████████████████████████████████████████████████| 943/943 [00:08<00:00, 115.76it/s]\n",
      "predicting K = 60: 100%|████████████████████████████████████████████████████████████████████████████████████████████████████████████████████████████████████████████████████████| 943/943 [00:09<00:00, 101.02it/s]\n",
      "predicting K = 70: 100%|█████████████████████████████████████████████████████████████████████████████████████████████████████████████████████████████████████████████████████████| 943/943 [00:10<00:00, 87.96it/s]\n",
      "predicting K = 80: 100%|█████████████████████████████████████████████████████████████████████████████████████████████████████████████████████████████████████████████████████████| 943/943 [00:12<00:00, 78.53it/s]\n",
      "predicting K = 90: 100%|█████████████████████████████████████████████████████████████████████████████████████████████████████████████████████████████████████████████████████████| 943/943 [00:13<00:00, 70.24it/s]\n",
      "predicting K = 100: 100%|████████████████████████████████████████████████████████████████████████████████████████████████████████████████████████████████████████████████████████| 943/943 [00:14<00:00, 64.70it/s]\n"
     ]
    }
   ],
   "source": [
    "# 與不同K個使用者相似程度比較\n",
    "K = [3,4,5,6,7,8,9,10,20,30,40,50, 60,70,80,90,100]\n",
    "ucf_cos = list()\n",
    "\n",
    "# 針對不同相似使用者個數進行分析\n",
    "for k in K:\n",
    "    predict_matrix = np.zeros((len(user), len(movie)))\n",
    "    delta_list = list()\n",
    "    # 取出前K個相似度最大的電影名稱，並設置於N\n",
    "    for i in tqdm(cos_dict.keys(), desc=f\"predicting K = {k}\"):\n",
    "        # Suv: 取出前K個最相似的使用者相似度 ex:K=3, output=[0.378, 0.353, 0.336]\n",
    "        Suv = heapq.nlargest(k,cos_dict[i])\n",
    "        # top_sim_index: 取出前K個最相似的使用者相似度(index) ex:K=3, output=[915, 406, 214]\n",
    "        top_sim_index = list(map(cos_dict[i].index, heapq.nlargest(k,cos_dict[i])))\n",
    "        # 利用相似的使用者對使用者i的每一部電影做評分預測\n",
    "        for m in range(len(movie)):\n",
    "            # ground truth\n",
    "            rth = user_matrix[i, m]\n",
    "            # 如果原始評分不為0，則納入計算RMSE\n",
    "            if rth != 0:\n",
    "                # copy Suv\n",
    "                copy_Suv = copy.deepcopy(Suv)\n",
    "                # R: 若相似使用者對電影 m 有評分則進行調整\n",
    "                R = list()\n",
    "                for c, j in enumerate(top_sim_index):\n",
    "                    if  user_matrix[j, m] == 0:\n",
    "                        R.append(0)\n",
    "                        copy_Suv[c] = 0\n",
    "                    else:\n",
    "                        R.append(user_matrix[j, m] - bias_matrix[j, m])\n",
    "\n",
    "                # 預測使用者u對於第m部電影的評分 + 使用者i及電影m的偏差\n",
    "                Rui = predict(copy_Suv, R) + bias_matrix[i, m]\n",
    "                # predict_matrix[i, m] = Rui\n",
    "                # 計算RMSE\n",
    "                delta_list.append(se(rth, Rui))\n",
    "    ucf_cos.append(rmse(delta_list))"
   ]
  },
  {
   "cell_type": "markdown",
   "id": "65173eef-ddd9-409b-a156-36875ab7e299",
   "metadata": {},
   "source": [
    "### 1.1.2. User‐Based CF use Pearson Correlation Coefficient result"
   ]
  },
  {
   "cell_type": "code",
   "execution_count": 121,
   "id": "82f6e2f3-6c7f-4c16-b7d0-7e528557e09f",
   "metadata": {
    "execution": {
     "iopub.execute_input": "2021-10-13T10:50:43.511103Z",
     "iopub.status.busy": "2021-10-13T10:50:43.511103Z",
     "iopub.status.idle": "2021-10-13T10:52:20.414902Z",
     "shell.execute_reply": "2021-10-13T10:52:20.414902Z",
     "shell.execute_reply.started": "2021-10-13T10:50:43.511103Z"
    },
    "tags": []
   },
   "outputs": [
    {
     "name": "stderr",
     "output_type": "stream",
     "text": [
      "predicting K = 3: 100%|█████████████████████████████████████████████████████████████████████████████████████████████████████████████████████████████████████████████████████████| 943/943 [00:01<00:00, 572.85it/s]\n",
      "predicting K = 4: 100%|█████████████████████████████████████████████████████████████████████████████████████████████████████████████████████████████████████████████████████████| 943/943 [00:01<00:00, 530.44it/s]\n",
      "predicting K = 5: 100%|█████████████████████████████████████████████████████████████████████████████████████████████████████████████████████████████████████████████████████████| 943/943 [00:01<00:00, 484.58it/s]\n",
      "predicting K = 6: 100%|█████████████████████████████████████████████████████████████████████████████████████████████████████████████████████████████████████████████████████████| 943/943 [00:02<00:00, 454.23it/s]\n",
      "predicting K = 7: 100%|█████████████████████████████████████████████████████████████████████████████████████████████████████████████████████████████████████████████████████████| 943/943 [00:02<00:00, 424.98it/s]\n",
      "predicting K = 8: 100%|█████████████████████████████████████████████████████████████████████████████████████████████████████████████████████████████████████████████████████████| 943/943 [00:02<00:00, 390.86it/s]\n",
      "predicting K = 9: 100%|█████████████████████████████████████████████████████████████████████████████████████████████████████████████████████████████████████████████████████████| 943/943 [00:02<00:00, 383.32it/s]\n",
      "predicting K = 10: 100%|████████████████████████████████████████████████████████████████████████████████████████████████████████████████████████████████████████████████████████| 943/943 [00:02<00:00, 360.35it/s]\n",
      "predicting K = 20: 100%|████████████████████████████████████████████████████████████████████████████████████████████████████████████████████████████████████████████████████████| 943/943 [00:03<00:00, 242.63it/s]\n",
      "predicting K = 30: 100%|████████████████████████████████████████████████████████████████████████████████████████████████████████████████████████████████████████████████████████| 943/943 [00:05<00:00, 180.50it/s]\n",
      "predicting K = 40: 100%|████████████████████████████████████████████████████████████████████████████████████████████████████████████████████████████████████████████████████████| 943/943 [00:06<00:00, 148.46it/s]\n",
      "predicting K = 50: 100%|████████████████████████████████████████████████████████████████████████████████████████████████████████████████████████████████████████████████████████| 943/943 [00:07<00:00, 123.90it/s]\n",
      "predicting K = 60: 100%|████████████████████████████████████████████████████████████████████████████████████████████████████████████████████████████████████████████████████████| 943/943 [00:08<00:00, 106.82it/s]\n",
      "predicting K = 70: 100%|█████████████████████████████████████████████████████████████████████████████████████████████████████████████████████████████████████████████████████████| 943/943 [00:10<00:00, 93.64it/s]\n",
      "predicting K = 80: 100%|█████████████████████████████████████████████████████████████████████████████████████████████████████████████████████████████████████████████████████████| 943/943 [00:11<00:00, 82.90it/s]\n",
      "predicting K = 90: 100%|█████████████████████████████████████████████████████████████████████████████████████████████████████████████████████████████████████████████████████████| 943/943 [00:12<00:00, 75.42it/s]\n",
      "predicting K = 100: 100%|████████████████████████████████████████████████████████████████████████████████████████████████████████████████████████████████████████████████████████| 943/943 [00:13<00:00, 68.42it/s]\n"
     ]
    }
   ],
   "source": [
    "# 與不同K個使用者相似程度比較\n",
    "K = [3,4,5,6,7,8,9,10,20,30,40,50, 60,70,80,90,100]\n",
    "ucf_pcc = list()\n",
    "\n",
    "# 針對不同相似使用者個數進行分析\n",
    "for k in K:\n",
    "    predict_matrix = np.zeros((len(user), len(movie)))\n",
    "    delta_list = list()\n",
    "    # 取出前K個相似度最大的電影名稱，並設置於N\n",
    "    for i in tqdm(pcc_dict.keys(), desc=f\"predicting K = {k}\"):\n",
    "        # Suv: 取出前K個最相似的使用者相似度 ex:K=3, output=[0.378, 0.353, 0.336]\n",
    "        Suv = heapq.nlargest(k,pcc_dict[i])\n",
    "        # top_sim_index: 取出前K個最相似的使用者相似度(index) ex:K=3, output=[915, 406, 214]\n",
    "        top_sim_index = list(map(pcc_dict[i].index, heapq.nlargest(k,pcc_dict[i])))\n",
    "        # 利用相似的使用者對使用者u的每一部電影做評分預測\n",
    "        for m in range(len(movie)):\n",
    "            # ground truth\n",
    "            rth = user_matrix[i, m]\n",
    "            # 如果原始評分不為0，則納入計算RMSE\n",
    "            if rth != 0:\n",
    "                # copy Suv\n",
    "                copy_Suv = copy.deepcopy(Suv)\n",
    "                # R: 若相似使用者對電影 m 有評分則進行調整\n",
    "                R = list()\n",
    "                for c, j in enumerate(top_sim_index):\n",
    "                    if  user_matrix[j, m] == 0:\n",
    "                        R.append(0)\n",
    "                        copy_Suv[c] = 0\n",
    "                    else:\n",
    "                        R.append(user_matrix[j, m] - bias_matrix[j, m])\n",
    "\n",
    "                # 預測使用者u對於第m部電影的評分\n",
    "                Rui = predict(copy_Suv, R) + bias_matrix[i, m]\n",
    "                # predict_matrix[i, m] = Rui\n",
    "                # 計算RMSE\n",
    "                delta_list.append(se(rth, Rui))\n",
    "    ucf_pcc.append(rmse(delta_list))"
   ]
  },
  {
   "cell_type": "code",
   "execution_count": 123,
   "id": "42532276-0dea-4692-b327-3b05479b2888",
   "metadata": {
    "execution": {
     "iopub.execute_input": "2021-10-13T10:54:04.367415Z",
     "iopub.status.busy": "2021-10-13T10:54:04.367415Z",
     "iopub.status.idle": "2021-10-13T10:54:04.614669Z",
     "shell.execute_reply": "2021-10-13T10:54:04.614669Z",
     "shell.execute_reply.started": "2021-10-13T10:54:04.367415Z"
    },
    "tags": []
   },
   "outputs": [
    {
     "data": {
      "image/png": "[encoded data removed]",
      "text/plain": [
       "<Figure size 1080x720 with 1 Axes>"
      ]
     },
     "metadata": {},
     "output_type": "display_data"
    }
   ],
   "source": [
    "# 將K轉成字串形式\n",
    "str_k = list(map(lambda x:str(x), K))\n",
    "# numpy to pandas\n",
    "df = pd.DataFrame({\"K\": str_k, \"U-CF-cos\":ucf_cos, \"U-CF-pcc\":ucf_pcc})\n",
    "# Visualize\n",
    "plot_result(df, \"Training MSE\")"
   ]
  },
  {
   "cell_type": "markdown",
   "id": "cc1e69f1-de0e-41d9-a4e8-19ee2631b231",
   "metadata": {
    "tags": []
   },
   "source": [
    "## 1.2. Item-based Collaborative Filtering (I-CF)"
   ]
  },
  {
   "cell_type": "code",
   "execution_count": 15,
   "id": "41e9a112-6d6f-454d-b303-3a2bb40a7c0b",
   "metadata": {
    "execution": {
     "iopub.execute_input": "2021-10-14T08:47:20.896000Z",
     "iopub.status.busy": "2021-10-14T08:47:20.896000Z",
     "iopub.status.idle": "2021-10-14T08:47:20.908031Z",
     "shell.execute_reply": "2021-10-14T08:47:20.908031Z",
     "shell.execute_reply.started": "2021-10-14T08:47:20.896000Z"
    },
    "tags": []
   },
   "outputs": [
    {
     "data": {
      "text/plain": [
       "((1682, 943), (1682, 943))"
      ]
     },
     "execution_count": 15,
     "metadata": {},
     "output_type": "execute_result"
    }
   ],
   "source": [
    "# Transpose user_matrix as movie_matrix, bias_matrix as movie_bias.\n",
    "movie_matrix = user_matrix.T\n",
    "movie_bias = bias_matrix.T\n",
    "movie_matrix.shape, movie_bias.shape"
   ]
  },
  {
   "cell_type": "markdown",
   "id": "474c938e-6fd7-45ae-af04-e654256b79ab",
   "metadata": {},
   "source": [
    "#### ＃電影校正後會產生zero vec故在這裡不採用校正後matrix算相似度 "
   ]
  },
  {
   "cell_type": "code",
   "execution_count": 37,
   "id": "3de545a0-ff5b-4be6-9560-ed0f978705b6",
   "metadata": {
    "execution": {
     "iopub.execute_input": "2021-10-13T06:22:28.794878Z",
     "iopub.status.busy": "2021-10-13T06:22:28.794878Z",
     "iopub.status.idle": "2021-10-13T06:22:28.840880Z",
     "shell.execute_reply": "2021-10-13T06:22:28.839906Z",
     "shell.execute_reply.started": "2021-10-13T06:22:28.794878Z"
    },
    "tags": []
   },
   "outputs": [
    {
     "name": "stdout",
     "output_type": "stream",
     "text": [
      "movie_matrix:\n",
      "[[0. 4. 0. ... 5. 0. 0.]\n",
      " [3. 0. 0. ... 0. 0. 5.]\n",
      " [4. 0. 0. ... 0. 0. 0.]\n",
      " ...\n",
      " [0. 0. 0. ... 0. 0. 0.]\n",
      " [0. 0. 0. ... 0. 0. 0.]\n",
      " [0. 0. 0. ... 0. 0. 0.]] \n",
      "\n",
      "after adjust:\n",
      "[[-1.30965005e+00  2.69034995e+00 -1.30965005e+00 ...  3.69034995e+00\n",
      "  -1.30965005e+00 -1.30965005e+00]\n",
      " [ 2.67020148e+00 -3.29798515e-01 -3.29798515e-01 ... -3.29798515e-01\n",
      "  -3.29798515e-01  4.67020148e+00]\n",
      " [ 3.78685048e+00 -2.13149523e-01 -2.13149523e-01 ... -2.13149523e-01\n",
      "  -2.13149523e-01 -2.13149523e-01]\n",
      " ...\n",
      " [-2.12089077e-03 -2.12089077e-03 -2.12089077e-03 ... -2.12089077e-03\n",
      "  -2.12089077e-03 -2.12089077e-03]\n",
      " [-3.18133616e-03 -3.18133616e-03 -3.18133616e-03 ... -3.18133616e-03\n",
      "  -3.18133616e-03 -3.18133616e-03]\n",
      " [ 0.00000000e+00  0.00000000e+00  0.00000000e+00 ...  0.00000000e+00\n",
      "   0.00000000e+00  0.00000000e+00]]\n"
     ]
    },
    {
     "name": "stderr",
     "output_type": "stream",
     "text": [
      "C:\\Users\\Baron\\AppData\\Local\\Temp/ipykernel_3124/2283623911.py:7: RuntimeWarning: invalid value encountered in true_divide\n",
      "  return np.reshape(total/exist_number, (-1, 1))\n"
     ]
    }
   ],
   "source": [
    "# 計算電影平均評分\n",
    "# movie_mean = non_zero_mean(movie_matrix)\n",
    "# # 使用個別電影平均校正電影對使用者的評分\n",
    "# # movie_adjust = np.where(movie_matrix == 0, movie_matrix, movie_matrix-movie_mean)\n",
    "# movie_adjust = movie_matrix - np.mean(movie_matrix, axis=1).reshape(-1, 1)\n",
    "# print(f\"movie_matrix:\\n{movie_matrix} \\n\\nafter adjust:\\n{movie_adjust}\")"
   ]
  },
  {
   "cell_type": "code",
   "execution_count": 125,
   "id": "9bcd0751-91f6-4865-a108-9244bd667c4b",
   "metadata": {
    "execution": {
     "iopub.execute_input": "2021-10-13T10:56:24.510386Z",
     "iopub.status.busy": "2021-10-13T10:56:24.510386Z",
     "iopub.status.idle": "2021-10-13T11:04:01.445607Z",
     "shell.execute_reply": "2021-10-13T11:04:01.445607Z",
     "shell.execute_reply.started": "2021-10-13T10:56:24.510386Z"
    },
    "tags": []
   },
   "outputs": [
    {
     "name": "stderr",
     "output_type": "stream",
     "text": [
      "caculator u & v similar: 100%|█████████████████████████████████████████████████████████████████████████████████████████████████████████████████████████████████████████████████| 1682/1682 [07:36<00:00,  3.68it/s]\n"
     ]
    }
   ],
   "source": [
    "# 取得movie間的相似度名單\n",
    "cos_mdict, pcc_mdict = get_sim_dict(movie, movie_matrix)"
   ]
  },
  {
   "cell_type": "markdown",
   "id": "9a5af1ae-c013-4413-9a40-c0b9c859b255",
   "metadata": {
    "tags": []
   },
   "source": [
    "### 1.2.1.  Item‐Based CF use Cosine result"
   ]
  },
  {
   "cell_type": "code",
   "execution_count": 126,
   "id": "2f4d0eca-2199-4f9b-a84b-aa4a56e48ca1",
   "metadata": {
    "execution": {
     "iopub.execute_input": "2021-10-13T11:04:06.036452Z",
     "iopub.status.busy": "2021-10-13T11:04:06.036452Z",
     "iopub.status.idle": "2021-10-13T11:05:56.709820Z",
     "shell.execute_reply": "2021-10-13T11:05:56.709820Z",
     "shell.execute_reply.started": "2021-10-13T11:04:06.036452Z"
    },
    "tags": []
   },
   "outputs": [
    {
     "name": "stderr",
     "output_type": "stream",
     "text": [
      "predicting K = 3: 100%|███████████████████████████████████████████████████████████████████████████████████████████████████████████████████████████████████████████████████████| 1682/1682 [00:02<00:00, 783.46it/s]\n",
      "predicting K = 4: 100%|███████████████████████████████████████████████████████████████████████████████████████████████████████████████████████████████████████████████████████| 1682/1682 [00:02<00:00, 736.87it/s]\n",
      "predicting K = 5: 100%|███████████████████████████████████████████████████████████████████████████████████████████████████████████████████████████████████████████████████████| 1682/1682 [00:02<00:00, 680.36it/s]\n",
      "predicting K = 6: 100%|███████████████████████████████████████████████████████████████████████████████████████████████████████████████████████████████████████████████████████| 1682/1682 [00:02<00:00, 650.79it/s]\n",
      "predicting K = 7: 100%|███████████████████████████████████████████████████████████████████████████████████████████████████████████████████████████████████████████████████████| 1682/1682 [00:02<00:00, 615.79it/s]\n",
      "predicting K = 8: 100%|███████████████████████████████████████████████████████████████████████████████████████████████████████████████████████████████████████████████████████| 1682/1682 [00:02<00:00, 594.86it/s]\n",
      "predicting K = 9: 100%|███████████████████████████████████████████████████████████████████████████████████████████████████████████████████████████████████████████████████████| 1682/1682 [00:03<00:00, 557.12it/s]\n",
      "predicting K = 10: 100%|██████████████████████████████████████████████████████████████████████████████████████████████████████████████████████████████████████████████████████| 1682/1682 [00:03<00:00, 528.23it/s]\n",
      "predicting K = 20: 100%|██████████████████████████████████████████████████████████████████████████████████████████████████████████████████████████████████████████████████████| 1682/1682 [00:04<00:00, 367.16it/s]\n",
      "predicting K = 30: 100%|██████████████████████████████████████████████████████████████████████████████████████████████████████████████████████████████████████████████████████| 1682/1682 [00:05<00:00, 282.34it/s]\n",
      "predicting K = 40: 100%|██████████████████████████████████████████████████████████████████████████████████████████████████████████████████████████████████████████████████████| 1682/1682 [00:07<00:00, 231.93it/s]\n",
      "predicting K = 50: 100%|██████████████████████████████████████████████████████████████████████████████████████████████████████████████████████████████████████████████████████| 1682/1682 [00:08<00:00, 195.09it/s]\n",
      "predicting K = 60: 100%|██████████████████████████████████████████████████████████████████████████████████████████████████████████████████████████████████████████████████████| 1682/1682 [00:09<00:00, 170.57it/s]\n",
      "predicting K = 70: 100%|██████████████████████████████████████████████████████████████████████████████████████████████████████████████████████████████████████████████████████| 1682/1682 [00:11<00:00, 150.58it/s]\n",
      "predicting K = 80: 100%|██████████████████████████████████████████████████████████████████████████████████████████████████████████████████████████████████████████████████████| 1682/1682 [00:12<00:00, 134.24it/s]\n",
      "predicting K = 90: 100%|██████████████████████████████████████████████████████████████████████████████████████████████████████████████████████████████████████████████████████| 1682/1682 [00:13<00:00, 121.96it/s]\n",
      "predicting K = 100: 100%|█████████████████████████████████████████████████████████████████████████████████████████████████████████████████████████████████████████████████████| 1682/1682 [00:15<00:00, 111.41it/s]\n"
     ]
    }
   ],
   "source": [
    "# 與不同K個電影相似程度比較\n",
    "K = [3,4,5,6,7,8,9,10,20,30,40,50, 60,70,80,90,100]\n",
    "icf_cos = list()\n",
    "\n",
    "# 針對不同相似電影個數進行分析\n",
    "for k in K:\n",
    "    predict_matrix = np.zeros((len(movie), len(user)))\n",
    "    delta_list = list()\n",
    "    # 取出前K個相似度最大的使用者名稱，並設置於N\n",
    "    for i in tqdm(cos_mdict.keys(), desc=f\"predicting K = {k}\"):\n",
    "        # Siv: 取出前K個最相似的電影相似度 ex:K=3, output=[0.378, 0.353, 0.336]\n",
    "        Siv = heapq.nlargest(k,cos_mdict[i])\n",
    "        # top_sim_index: 取出前K個最相似的電影相似度(index) ex:K=3, output=[915, 406, 214]\n",
    "        top_sim_index = list(map(cos_mdict[i].index, heapq.nlargest(k,cos_mdict[i])))\n",
    "        # 利用相似的電影對電影的每一位使用者做評分預測\n",
    "        for u in range(len(user)):\n",
    "            # ground truth\n",
    "            rth = movie_matrix[i, u]\n",
    "            # 如果原始評分不為0，則納入計算RMSE\n",
    "            if rth != 0:\n",
    "                # copy Suv\n",
    "                copy_Siv = copy.deepcopy(Siv)\n",
    "                # R: 相似電影對調整後使用者 u 的評分\n",
    "                R = list()\n",
    "                for c, j in enumerate(top_sim_index):\n",
    "                    if  movie_matrix[j, u] == 0:\n",
    "                        R.append(0)\n",
    "                        copy_Siv[c] = 0\n",
    "                    else:\n",
    "                        R.append(movie_matrix[j, u] - movie_bias[j, u])\n",
    "\n",
    "                # 預測使用者u對於第m部電影的評分\n",
    "                Riu = predict(Siv, R) + movie_bias[i, u]\n",
    "                # predict_matrix[i, u] = Riu\n",
    "                # 計算RMSE\n",
    "                delta_list.append(se(rth, Riu))\n",
    "    icf_cos.append(rmse(delta_list))"
   ]
  },
  {
   "cell_type": "markdown",
   "id": "9fdbde65-b744-4f73-82ad-5f0314b87f3c",
   "metadata": {
    "tags": []
   },
   "source": [
    "### 1.2.2.  Item‐Based CF use Pearson Correlation Coefficient result"
   ]
  },
  {
   "cell_type": "code",
   "execution_count": 127,
   "id": "c1f779b7-34fb-4582-8d1d-5f628120e405",
   "metadata": {
    "execution": {
     "iopub.execute_input": "2021-10-13T11:05:56.710793Z",
     "iopub.status.busy": "2021-10-13T11:05:56.710793Z",
     "iopub.status.idle": "2021-10-13T11:07:50.504195Z",
     "shell.execute_reply": "2021-10-13T11:07:50.504195Z",
     "shell.execute_reply.started": "2021-10-13T11:05:56.710793Z"
    },
    "tags": []
   },
   "outputs": [
    {
     "name": "stderr",
     "output_type": "stream",
     "text": [
      "predicting K = 3: 100%|███████████████████████████████████████████████████████████████████████████████████████████████████████████████████████████████████████████████████████| 1682/1682 [00:02<00:00, 782.77it/s]\n",
      "predicting K = 4: 100%|███████████████████████████████████████████████████████████████████████████████████████████████████████████████████████████████████████████████████████| 1682/1682 [00:02<00:00, 743.62it/s]\n",
      "predicting K = 5: 100%|███████████████████████████████████████████████████████████████████████████████████████████████████████████████████████████████████████████████████████| 1682/1682 [00:02<00:00, 692.12it/s]\n",
      "predicting K = 6: 100%|███████████████████████████████████████████████████████████████████████████████████████████████████████████████████████████████████████████████████████| 1682/1682 [00:02<00:00, 647.46it/s]\n",
      "predicting K = 7: 100%|███████████████████████████████████████████████████████████████████████████████████████████████████████████████████████████████████████████████████████| 1682/1682 [00:02<00:00, 614.40it/s]\n",
      "predicting K = 8: 100%|███████████████████████████████████████████████████████████████████████████████████████████████████████████████████████████████████████████████████████| 1682/1682 [00:02<00:00, 583.81it/s]\n",
      "predicting K = 9: 100%|███████████████████████████████████████████████████████████████████████████████████████████████████████████████████████████████████████████████████████| 1682/1682 [00:03<00:00, 557.57it/s]\n",
      "predicting K = 10: 100%|██████████████████████████████████████████████████████████████████████████████████████████████████████████████████████████████████████████████████████| 1682/1682 [00:03<00:00, 529.78it/s]\n",
      "predicting K = 20: 100%|██████████████████████████████████████████████████████████████████████████████████████████████████████████████████████████████████████████████████████| 1682/1682 [00:04<00:00, 360.33it/s]\n",
      "predicting K = 30: 100%|██████████████████████████████████████████████████████████████████████████████████████████████████████████████████████████████████████████████████████| 1682/1682 [00:06<00:00, 279.24it/s]\n",
      "predicting K = 40: 100%|██████████████████████████████████████████████████████████████████████████████████████████████████████████████████████████████████████████████████████| 1682/1682 [00:07<00:00, 228.36it/s]\n",
      "predicting K = 50: 100%|██████████████████████████████████████████████████████████████████████████████████████████████████████████████████████████████████████████████████████| 1682/1682 [00:08<00:00, 188.29it/s]\n",
      "predicting K = 60: 100%|██████████████████████████████████████████████████████████████████████████████████████████████████████████████████████████████████████████████████████| 1682/1682 [00:10<00:00, 166.20it/s]\n",
      "predicting K = 70: 100%|██████████████████████████████████████████████████████████████████████████████████████████████████████████████████████████████████████████████████████| 1682/1682 [00:11<00:00, 146.87it/s]\n",
      "predicting K = 80: 100%|██████████████████████████████████████████████████████████████████████████████████████████████████████████████████████████████████████████████████████| 1682/1682 [00:12<00:00, 130.79it/s]\n",
      "predicting K = 90: 100%|██████████████████████████████████████████████████████████████████████████████████████████████████████████████████████████████████████████████████████| 1682/1682 [00:14<00:00, 118.53it/s]\n",
      "predicting K = 100: 100%|█████████████████████████████████████████████████████████████████████████████████████████████████████████████████████████████████████████████████████| 1682/1682 [00:15<00:00, 108.00it/s]\n"
     ]
    }
   ],
   "source": [
    "# 與不同K個電影相似程度比較\n",
    "K = [3,4,5,6,7,8,9,10,20,30,40,50, 60,70,80,90,100]\n",
    "icf_pcc = list()\n",
    "\n",
    "# 針對不同相似電影個數進行分析\n",
    "for k in K:\n",
    "    predict_matrix = np.zeros((len(movie), len(user)))\n",
    "    delta_list = list()\n",
    "    # 取出前K個相似度最大的使用者名稱，並設置於N\n",
    "    for i in tqdm(pcc_mdict.keys(), desc=f\"predicting K = {k}\"):\n",
    "        # Siv: 取出前K個最相似的電影相似度 ex:K=3, output=[0.378, 0.353, 0.336]\n",
    "        Siv = heapq.nlargest(k,pcc_mdict[i])\n",
    "        # top_sim_index: 取出前K個最相似的電影相似度(index) ex:K=3, output=[915, 406, 214]\n",
    "        top_sim_index = list(map(pcc_mdict[i].index, heapq.nlargest(k,pcc_mdict[i])))\n",
    "        # 利用相似的電影對電影的每一位使用者做評分預測\n",
    "        for u in range(len(user)):\n",
    "            # ground truth\n",
    "            rth = movie_matrix[i, u]\n",
    "            # 如果原始評分不為0，則納入計算RMSE\n",
    "            if rth != 0:\n",
    "                # copy Suv\n",
    "                copy_Siv = copy.deepcopy(Siv)\n",
    "                # R: 相似電影對調整後使用者 u 的評分\n",
    "                R = list()\n",
    "                for c, j in enumerate(top_sim_index):\n",
    "                    if  movie_matrix[j, u] == 0:\n",
    "                        R.append(0)\n",
    "                        copy_Siv[c] = 0\n",
    "                    else:\n",
    "                        R.append(movie_matrix[j, u] - movie_bias[j, u])\n",
    "\n",
    "                # 預測使用者u對於第m部電影的評分\n",
    "                Riu = predict(Siv, R) + movie_bias[i, u]\n",
    "                # predict_matrix[i, u] = Riu\n",
    "                # 計算RMSE\n",
    "                delta_list.append(se(rth, Riu))\n",
    "    icf_pcc.append(rmse(delta_list))"
   ]
  },
  {
   "cell_type": "code",
   "execution_count": 128,
   "id": "27a4ddb4-1ef0-4e7e-8902-1319804be7a1",
   "metadata": {
    "execution": {
     "iopub.execute_input": "2021-10-13T11:07:50.505216Z",
     "iopub.status.busy": "2021-10-13T11:07:50.505216Z",
     "iopub.status.idle": "2021-10-13T11:07:50.786308Z",
     "shell.execute_reply": "2021-10-13T11:07:50.786308Z",
     "shell.execute_reply.started": "2021-10-13T11:07:50.505216Z"
    },
    "tags": []
   },
   "outputs": [
    {
     "data": {
      "image/png": "[encoded data removed]",
      "text/plain": [
       "<Figure size 1080x720 with 1 Axes>"
      ]
     },
     "metadata": {},
     "output_type": "display_data"
    }
   ],
   "source": [
    "# numpy to pandas\n",
    "df[\"I-CF-cos\"] = icf_cos\n",
    "df[\"I-CF-pcc\"] = icf_pcc\n",
    "# Visualize\n",
    "plot_result(df, \"Training MSE\")"
   ]
  },
  {
   "cell_type": "markdown",
   "id": "83f504b9-a05f-4672-9e6e-a395ab77451e",
   "metadata": {
    "tags": []
   },
   "source": [
    "## 1.3. Testing U-CF"
   ]
  },
  {
   "cell_type": "code",
   "execution_count": 7,
   "id": "cf963505-51e3-4661-abc0-5c5ac15177b4",
   "metadata": {
    "execution": {
     "iopub.execute_input": "2021-10-14T08:22:45.497519Z",
     "iopub.status.busy": "2021-10-14T08:22:45.497519Z",
     "iopub.status.idle": "2021-10-14T08:22:47.135972Z",
     "shell.execute_reply": "2021-10-14T08:22:47.135972Z",
     "shell.execute_reply.started": "2021-10-14T08:22:45.497519Z"
    },
    "tags": []
   },
   "outputs": [
    {
     "name": "stderr",
     "output_type": "stream",
     "text": [
      "data transfer user matrix: 100%|████████████████████████████████████████████████████████████████████████████████████████████████████████████████████████████████████████████████| 943/943 [00:01<00:00, 581.59it/s]\n"
     ]
    }
   ],
   "source": [
    "# init user_matrix as zero matrix\n",
    "user_testing = np.zeros((len(user), len(movie)))\n",
    "\n",
    "for u in tqdm(user, desc='data transfer user matrix'):\n",
    "    '''\n",
    "    train_data[train_data[:,0] == u] : 過濾出u使用者所有的評分資料\n",
    "    train_data[train_data[:,0] == u][:,1]: 取得u使用者所有評分過的電影名稱\n",
    "    '''\n",
    "    rate_index = test_data[test_data[:,0] == u][:,1]\n",
    "    for rate in rate_index:\n",
    "        '''\n",
    "        user_matrix[u-1, rate-1]: 欲設置的rateing位置\n",
    "        train_data[(train_data[:,0] == u) & (train_data[:,1] == rate)]: 取出u使用者對於評論過特定電影的資料\n",
    "        '''\n",
    "        user_testing[u-1, rate-1] = test_data[(test_data[:,0] == u) & (test_data[:,1] == rate)][:,2].item()"
   ]
  },
  {
   "cell_type": "code",
   "execution_count": 11,
   "id": "1a20ff43-ae1c-4aa0-9add-46f39a50222e",
   "metadata": {
    "execution": {
     "iopub.execute_input": "2021-10-14T08:23:18.833609Z",
     "iopub.status.busy": "2021-10-14T08:23:18.832645Z",
     "iopub.status.idle": "2021-10-14T08:25:48.049262Z",
     "shell.execute_reply": "2021-10-14T08:25:48.049262Z",
     "shell.execute_reply.started": "2021-10-14T08:23:18.833609Z"
    },
    "tags": []
   },
   "outputs": [
    {
     "name": "stdout",
     "output_type": "stream",
     "text": [
      "Calculating Bias...\n"
     ]
    },
    {
     "name": "stderr",
     "output_type": "stream",
     "text": [
      "caculator u & v similar: 100%|███████████████████████████████████████████████████████████████████████████████████████████████████████████████████████████████████████████████████| 943/943 [02:28<00:00,  6.34it/s]\n"
     ]
    }
   ],
   "source": [
    "training = False\n",
    "\n",
    "if training:\n",
    "    print(\"Array Exist!!\")\n",
    "\n",
    "else:\n",
    "    # 若bias不存在，則計算training bias\n",
    "    print(\"Calculating Bias...\")\n",
    "    bias_matrix = get_bias(user_matrix)\n",
    "\n",
    "    # 取得user間的相似度名單\n",
    "    # 計算使用者平均評分\n",
    "    user_mean = non_zero_mean(user_matrix)\n",
    "    # # 使用個別使用者平均校正使用者對電影的評分\n",
    "    # user_adjust = np.where(user_matrix == 0, user_matrix, user_matrix-user_mean)\n",
    "    # print(f\"user_matrix:\\n{user_matrix} \\n\\nafter adjust:\\n{user_adjust}\")\n",
    "\n",
    "    cos_dict, pcc_dict = get_sim_dict(user, user_matrix)"
   ]
  },
  {
   "cell_type": "markdown",
   "id": "d34e78b0-1944-442b-bb4a-1be624be0b48",
   "metadata": {},
   "source": [
    "### 1.3.1. Testing U-CF-cos"
   ]
  },
  {
   "cell_type": "code",
   "execution_count": 12,
   "id": "7d1bdcb8-5478-488b-8730-8a161e4f60af",
   "metadata": {
    "execution": {
     "iopub.execute_input": "2021-10-14T08:25:48.050264Z",
     "iopub.status.busy": "2021-10-14T08:25:48.050264Z",
     "iopub.status.idle": "2021-10-14T08:33:08.574588Z",
     "shell.execute_reply": "2021-10-14T08:33:08.574588Z",
     "shell.execute_reply.started": "2021-10-14T08:25:48.050264Z"
    },
    "tags": []
   },
   "outputs": [
    {
     "name": "stderr",
     "output_type": "stream",
     "text": [
      "predicting K = 3: 100%|██████████████████████████████████████████████████████████████████████████████████████████████████████████████████████████████████████████████████████████| 943/943 [00:16<00:00, 55.72it/s]\n",
      "predicting K = 4: 100%|██████████████████████████████████████████████████████████████████████████████████████████████████████████████████████████████████████████████████████████| 943/943 [00:16<00:00, 57.17it/s]\n",
      "predicting K = 5: 100%|██████████████████████████████████████████████████████████████████████████████████████████████████████████████████████████████████████████████████████████| 943/943 [00:17<00:00, 53.44it/s]\n",
      "predicting K = 6: 100%|██████████████████████████████████████████████████████████████████████████████████████████████████████████████████████████████████████████████████████████| 943/943 [00:18<00:00, 52.20it/s]\n",
      "predicting K = 7: 100%|██████████████████████████████████████████████████████████████████████████████████████████████████████████████████████████████████████████████████████████| 943/943 [00:18<00:00, 51.10it/s]\n",
      "predicting K = 8: 100%|██████████████████████████████████████████████████████████████████████████████████████████████████████████████████████████████████████████████████████████| 943/943 [00:18<00:00, 50.41it/s]\n",
      "predicting K = 9: 100%|██████████████████████████████████████████████████████████████████████████████████████████████████████████████████████████████████████████████████████████| 943/943 [00:18<00:00, 50.48it/s]\n",
      "predicting K = 10: 100%|█████████████████████████████████████████████████████████████████████████████████████████████████████████████████████████████████████████████████████████| 943/943 [00:18<00:00, 49.70it/s]\n",
      "predicting K = 20: 100%|█████████████████████████████████████████████████████████████████████████████████████████████████████████████████████████████████████████████████████████| 943/943 [00:21<00:00, 42.94it/s]\n",
      "predicting K = 30: 100%|█████████████████████████████████████████████████████████████████████████████████████████████████████████████████████████████████████████████████████████| 943/943 [00:25<00:00, 37.46it/s]\n",
      "predicting K = 40: 100%|█████████████████████████████████████████████████████████████████████████████████████████████████████████████████████████████████████████████████████████| 943/943 [00:27<00:00, 34.05it/s]\n",
      "predicting K = 50: 100%|█████████████████████████████████████████████████████████████████████████████████████████████████████████████████████████████████████████████████████████| 943/943 [00:30<00:00, 31.33it/s]\n",
      "predicting K = 60: 100%|█████████████████████████████████████████████████████████████████████████████████████████████████████████████████████████████████████████████████████████| 943/943 [00:32<00:00, 28.58it/s]\n",
      "predicting K = 70: 100%|█████████████████████████████████████████████████████████████████████████████████████████████████████████████████████████████████████████████████████████| 943/943 [00:35<00:00, 26.64it/s]\n",
      "predicting K = 80: 100%|█████████████████████████████████████████████████████████████████████████████████████████████████████████████████████████████████████████████████████████| 943/943 [00:37<00:00, 24.84it/s]\n",
      "predicting K = 90: 100%|█████████████████████████████████████████████████████████████████████████████████████████████████████████████████████████████████████████████████████████| 943/943 [00:40<00:00, 23.15it/s]\n",
      "predicting K = 100: 100%|████████████████████████████████████████████████████████████████████████████████████████████████████████████████████████████████████████████████████████| 943/943 [00:43<00:00, 21.80it/s]\n"
     ]
    }
   ],
   "source": [
    "# 與不同K個使用者相似程度比較\n",
    "K = [3,4,5,6,7,8,9,10,20,30,40,50, 60,70,80,90,100]\n",
    "ucf_tcos = list()\n",
    "\n",
    "# 針對不同相似使用者個數進行分析\n",
    "for k in K:\n",
    "    predict_matrix = np.zeros((len(user), len(movie)))\n",
    "    delta_list = list()\n",
    "    # 取出前K個相似度最大的電影名稱，並設置於N\n",
    "    for i in tqdm(cos_dict.keys(), desc=f\"predicting K = {k}\"):\n",
    "        # Suv: 取出前K個最相似的使用者相似度 ex:K=3, output=[0.378, 0.353, 0.336]\n",
    "        Suv = heapq.nlargest(k,cos_dict[i])\n",
    "        # top_sim_index: 取出前K個最相似的使用者相似度(index) ex:K=3, output=[915, 406, 214]\n",
    "        top_sim_index = list(map(cos_dict[i].index, heapq.nlargest(k,cos_dict[i])))\n",
    "        # 利用相似的使用者對使用者i的每一部電影做評分預測\n",
    "        for m in range(len(movie)):\n",
    "            # ground truth\n",
    "            rth = user_testing[i, m]\n",
    "            # 如果原始評分不為0，則納入計算RMSE\n",
    "            if rth != 0:\n",
    "                # copy Suv\n",
    "                copy_Suv = copy.deepcopy(Suv)\n",
    "                # R: 相似電影對調整後使用者 u 的評分\n",
    "                R = list()\n",
    "                for c, j in enumerate(top_sim_index):\n",
    "                    if  user_testing[j, m] == 0:\n",
    "                        R.append(0)\n",
    "                        copy_Suv[c] = 0\n",
    "                    else:\n",
    "                        R.append(user_testing[j, m] - bias_matrix[j, m])\n",
    "\n",
    "            # # R: 相似使用者對調整後電影 m 的評分\n",
    "            # R = [user_testing[:,m][j] - bias_matrix[i, j] for j in top_sim_index]\n",
    "            # 預測使用者u對於第m部電影的評分 + 使用者i及電影m的偏差\n",
    "            Rui = predict(Suv, R) + bias_matrix[i, m]\n",
    "            # predict_matrix[i, m] = Rui\n",
    "            # 計算RMSE\n",
    "            delta_list.append(se(rth, Rui))\n",
    "    ucf_tcos.append(rmse(delta_list))"
   ]
  },
  {
   "cell_type": "markdown",
   "id": "4a7c1022-2fca-430d-967a-7dbf53f9df11",
   "metadata": {},
   "source": [
    "### 1.3.2. Testing U-CF-pcc"
   ]
  },
  {
   "cell_type": "code",
   "execution_count": 13,
   "id": "1ad3193b-f351-410c-85f3-3794fe407949",
   "metadata": {
    "execution": {
     "iopub.execute_input": "2021-10-14T08:33:08.575589Z",
     "iopub.status.busy": "2021-10-14T08:33:08.575589Z",
     "iopub.status.idle": "2021-10-14T08:40:27.527162Z",
     "shell.execute_reply": "2021-10-14T08:40:27.527162Z",
     "shell.execute_reply.started": "2021-10-14T08:33:08.575589Z"
    },
    "tags": []
   },
   "outputs": [
    {
     "name": "stderr",
     "output_type": "stream",
     "text": [
      "predicting K = 3: 100%|██████████████████████████████████████████████████████████████████████████████████████████████████████████████████████████████████████████████████████████| 943/943 [00:16<00:00, 57.26it/s]\n",
      "predicting K = 4: 100%|██████████████████████████████████████████████████████████████████████████████████████████████████████████████████████████████████████████████████████████| 943/943 [00:17<00:00, 54.93it/s]\n",
      "predicting K = 5: 100%|██████████████████████████████████████████████████████████████████████████████████████████████████████████████████████████████████████████████████████████| 943/943 [00:17<00:00, 54.76it/s]\n",
      "predicting K = 6: 100%|██████████████████████████████████████████████████████████████████████████████████████████████████████████████████████████████████████████████████████████| 943/943 [00:17<00:00, 53.19it/s]\n",
      "predicting K = 7: 100%|██████████████████████████████████████████████████████████████████████████████████████████████████████████████████████████████████████████████████████████| 943/943 [00:18<00:00, 51.74it/s]\n",
      "predicting K = 8: 100%|██████████████████████████████████████████████████████████████████████████████████████████████████████████████████████████████████████████████████████████| 943/943 [00:18<00:00, 51.16it/s]\n",
      "predicting K = 9: 100%|██████████████████████████████████████████████████████████████████████████████████████████████████████████████████████████████████████████████████████████| 943/943 [00:18<00:00, 50.33it/s]\n",
      "predicting K = 10: 100%|█████████████████████████████████████████████████████████████████████████████████████████████████████████████████████████████████████████████████████████| 943/943 [00:18<00:00, 49.66it/s]\n",
      "predicting K = 20: 100%|█████████████████████████████████████████████████████████████████████████████████████████████████████████████████████████████████████████████████████████| 943/943 [00:21<00:00, 43.19it/s]\n",
      "predicting K = 30: 100%|█████████████████████████████████████████████████████████████████████████████████████████████████████████████████████████████████████████████████████████| 943/943 [00:24<00:00, 38.03it/s]\n",
      "predicting K = 40: 100%|█████████████████████████████████████████████████████████████████████████████████████████████████████████████████████████████████████████████████████████| 943/943 [00:27<00:00, 34.31it/s]\n",
      "predicting K = 50: 100%|█████████████████████████████████████████████████████████████████████████████████████████████████████████████████████████████████████████████████████████| 943/943 [00:30<00:00, 31.41it/s]\n",
      "predicting K = 60: 100%|█████████████████████████████████████████████████████████████████████████████████████████████████████████████████████████████████████████████████████████| 943/943 [00:32<00:00, 29.45it/s]\n",
      "predicting K = 70: 100%|█████████████████████████████████████████████████████████████████████████████████████████████████████████████████████████████████████████████████████████| 943/943 [00:35<00:00, 26.77it/s]\n",
      "predicting K = 80: 100%|█████████████████████████████████████████████████████████████████████████████████████████████████████████████████████████████████████████████████████████| 943/943 [00:38<00:00, 24.59it/s]\n",
      "predicting K = 90: 100%|█████████████████████████████████████████████████████████████████████████████████████████████████████████████████████████████████████████████████████████| 943/943 [00:41<00:00, 22.90it/s]\n",
      "predicting K = 100: 100%|████████████████████████████████████████████████████████████████████████████████████████████████████████████████████████████████████████████████████████| 943/943 [00:43<00:00, 21.56it/s]\n"
     ]
    }
   ],
   "source": [
    "# 與不同K個使用者相似程度比較\n",
    "K = [3,4,5,6,7,8,9,10,20,30,40,50, 60,70,80,90,100]\n",
    "ucf_tpcc = list()\n",
    "\n",
    "# 針對不同相似使用者個數進行分析\n",
    "for k in K:\n",
    "    predict_matrix = np.zeros((len(user), len(movie)))\n",
    "    delta_list = list()\n",
    "    # 取出前K個相似度最大的電影名稱，並設置於N\n",
    "    for i in tqdm(pcc_dict.keys(), desc=f\"predicting K = {k}\"):\n",
    "        # Suv: 取出前K個最相似的使用者相似度 ex:K=3, output=[0.378, 0.353, 0.336]\n",
    "        Suv = heapq.nlargest(k,pcc_dict[i])\n",
    "        # top_sim_index: 取出前K個最相似的使用者相似度(index) ex:K=3, output=[915, 406, 214]\n",
    "        top_sim_index = list(map(pcc_dict[i].index, heapq.nlargest(k,pcc_dict[i])))\n",
    "        # 利用相似的使用者對使用者i的每一部電影做評分預測\n",
    "        for m in range(len(movie)):\n",
    "            # ground truth\n",
    "            rth = user_testing[i, m]\n",
    "            # 如果原始評分不為0，則納入計算RMSE\n",
    "            if rth != 0:\n",
    "                # copy Suv\n",
    "                copy_Suv = copy.deepcopy(Suv)\n",
    "                # R: 相似電影對調整後使用者 u 的評分\n",
    "                R = list()\n",
    "                for c, j in enumerate(top_sim_index):\n",
    "                    if  user_testing[j, m] == 0:\n",
    "                        R.append(0)\n",
    "                        copy_Suv[c] = 0\n",
    "                    else:\n",
    "                        R.append(user_testing[j, m] - bias_matrix[j, m])\n",
    "                        \n",
    "            # # R: 相似使用者對調整後電影 m 的評分\n",
    "            # R = [user_testing[:,m][j] - bias_matrix[i, j] for j in top_sim_index]\n",
    "            # 預測使用者u對於第m部電影的評分 + 使用者i及電影m的偏差\n",
    "            Rui = predict(Suv, R) + bias_matrix[i, m]\n",
    "            # predict_matrix[i, m] = Rui\n",
    "            # 計算RMSE\n",
    "            delta_list.append(se(rth, Rui))\n",
    "    ucf_tpcc.append(rmse(delta_list))"
   ]
  },
  {
   "cell_type": "markdown",
   "id": "7263c0d6-ba4d-4f54-a0df-a21709666bb4",
   "metadata": {},
   "source": [
    "## 1.4. Testing I-CF"
   ]
  },
  {
   "cell_type": "code",
   "execution_count": 16,
   "id": "907243f7-f10b-401d-b25c-b68ef36e2e0e",
   "metadata": {
    "execution": {
     "iopub.execute_input": "2021-10-14T08:47:28.391272Z",
     "iopub.status.busy": "2021-10-14T08:47:28.391272Z",
     "iopub.status.idle": "2021-10-14T08:55:04.062471Z",
     "shell.execute_reply": "2021-10-14T08:55:04.062471Z",
     "shell.execute_reply.started": "2021-10-14T08:47:28.391272Z"
    },
    "tags": []
   },
   "outputs": [
    {
     "name": "stdout",
     "output_type": "stream",
     "text": [
      "getting movie bias...\n",
      "getting similarity...\n"
     ]
    },
    {
     "name": "stderr",
     "output_type": "stream",
     "text": [
      "caculator u & v similar: 100%|█████████████████████████████████████████████████████████████████████████████████████████████████████████████████████████████████████████████████| 1682/1682 [07:35<00:00,  3.69it/s]\n"
     ]
    }
   ],
   "source": [
    "movie_testing = user_testing.T\n",
    "\n",
    "# 取得 bias\n",
    "if training:\n",
    "    print(\"Array Exist!!\")\n",
    "\n",
    "else:\n",
    "    print(\"getting movie bias...\")\n",
    "    # Transpose user_matrix as movie_matrix, bias_matrix as movie_bias.\n",
    "    movie_bias = bias_matrix.T\n",
    "    \n",
    "    # 取得movie間的相似度名單\n",
    "    print(\"getting similarity...\")\n",
    "    cos_mdict, pcc_mdict = get_sim_dict(movie, movie_matrix)"
   ]
  },
  {
   "cell_type": "markdown",
   "id": "5774db9e-af66-4538-873d-6e1773736eba",
   "metadata": {
    "tags": []
   },
   "source": [
    "### 1.4.1. Testing I-CF-cos"
   ]
  },
  {
   "cell_type": "code",
   "execution_count": 17,
   "id": "06647ddc-a3a3-407b-a432-638a868f42dd",
   "metadata": {
    "execution": {
     "iopub.execute_input": "2021-10-14T08:55:04.063462Z",
     "iopub.status.busy": "2021-10-14T08:55:04.063462Z",
     "iopub.status.idle": "2021-10-14T09:02:57.672984Z",
     "shell.execute_reply": "2021-10-14T09:02:57.672984Z",
     "shell.execute_reply.started": "2021-10-14T08:55:04.063462Z"
    },
    "tags": []
   },
   "outputs": [
    {
     "name": "stderr",
     "output_type": "stream",
     "text": [
      "predicting K = 3: 100%|████████████████████████████████████████████████████████████████████████████████████████████████████████████████████████████████████████████████████████| 1682/1682 [00:20<00:00, 82.52it/s]\n",
      "predicting K = 4: 100%|████████████████████████████████████████████████████████████████████████████████████████████████████████████████████████████████████████████████████████| 1682/1682 [00:21<00:00, 78.93it/s]\n",
      "predicting K = 5: 100%|████████████████████████████████████████████████████████████████████████████████████████████████████████████████████████████████████████████████████████| 1682/1682 [00:20<00:00, 81.76it/s]\n",
      "predicting K = 6: 100%|████████████████████████████████████████████████████████████████████████████████████████████████████████████████████████████████████████████████████████| 1682/1682 [00:20<00:00, 83.77it/s]\n",
      "predicting K = 7: 100%|████████████████████████████████████████████████████████████████████████████████████████████████████████████████████████████████████████████████████████| 1682/1682 [00:21<00:00, 78.50it/s]\n",
      "predicting K = 8: 100%|████████████████████████████████████████████████████████████████████████████████████████████████████████████████████████████████████████████████████████| 1682/1682 [00:20<00:00, 82.08it/s]\n",
      "predicting K = 9: 100%|████████████████████████████████████████████████████████████████████████████████████████████████████████████████████████████████████████████████████████| 1682/1682 [00:20<00:00, 80.36it/s]\n",
      "predicting K = 10: 100%|███████████████████████████████████████████████████████████████████████████████████████████████████████████████████████████████████████████████████████| 1682/1682 [00:20<00:00, 80.38it/s]\n",
      "predicting K = 20: 100%|███████████████████████████████████████████████████████████████████████████████████████████████████████████████████████████████████████████████████████| 1682/1682 [00:23<00:00, 70.66it/s]\n",
      "predicting K = 30: 100%|███████████████████████████████████████████████████████████████████████████████████████████████████████████████████████████████████████████████████████| 1682/1682 [00:26<00:00, 63.58it/s]\n",
      "predicting K = 40: 100%|███████████████████████████████████████████████████████████████████████████████████████████████████████████████████████████████████████████████████████| 1682/1682 [00:29<00:00, 57.23it/s]\n",
      "predicting K = 50: 100%|███████████████████████████████████████████████████████████████████████████████████████████████████████████████████████████████████████████████████████| 1682/1682 [00:31<00:00, 53.00it/s]\n",
      "predicting K = 60: 100%|███████████████████████████████████████████████████████████████████████████████████████████████████████████████████████████████████████████████████████| 1682/1682 [00:34<00:00, 48.74it/s]\n",
      "predicting K = 70: 100%|███████████████████████████████████████████████████████████████████████████████████████████████████████████████████████████████████████████████████████| 1682/1682 [00:36<00:00, 46.52it/s]\n",
      "predicting K = 80: 100%|███████████████████████████████████████████████████████████████████████████████████████████████████████████████████████████████████████████████████████| 1682/1682 [00:39<00:00, 42.98it/s]\n",
      "predicting K = 90: 100%|███████████████████████████████████████████████████████████████████████████████████████████████████████████████████████████████████████████████████████| 1682/1682 [00:41<00:00, 40.75it/s]\n",
      "predicting K = 100: 100%|██████████████████████████████████████████████████████████████████████████████████████████████████████████████████████████████████████████████████████| 1682/1682 [00:43<00:00, 38.53it/s]\n"
     ]
    }
   ],
   "source": [
    "# 與不同K個電影相似程度比較\n",
    "K = [3,4,5,6,7,8,9,10,20,30,40,50, 60,70,80,90,100]\n",
    "icf_tcos = list()\n",
    "\n",
    "# 針對不同相似電影個數進行分析\n",
    "for k in K:\n",
    "    predict_matrix = np.zeros((len(movie), len(user)))\n",
    "    delta_list = list()\n",
    "    # 取出前K個相似度最大的使用者名稱，並設置於N\n",
    "    for i in tqdm(cos_mdict.keys(), desc=f\"predicting K = {k}\"):\n",
    "        # Siv: 取出前K個最相似的電影相似度 ex:K=3, output=[0.378, 0.353, 0.336]\n",
    "        Siv = heapq.nlargest(k,cos_mdict[i])\n",
    "        # top_sim_index: 取出前K個最相似的電影相似度(index) ex:K=3, output=[915, 406, 214]\n",
    "        top_sim_index = list(map(cos_mdict[i].index, heapq.nlargest(k,cos_mdict[i])))\n",
    "        # 利用相似的電影對電影的每一位使用者做評分預測\n",
    "        for u in range(len(user)):\n",
    "            # ground truth\n",
    "            rth = movie_testing[i, u]\n",
    "            # 如果原始評分不為0，則納入計算RMSE\n",
    "            if rth != 0:\n",
    "                # copy Suv\n",
    "                copy_Suv = copy.deepcopy(Suv)\n",
    "                # R: 相似電影對調整後使用者 u 的評分\n",
    "                R = list()\n",
    "                for c, j in enumerate(top_sim_index):\n",
    "                    if  movie_testing[j, u] == 0:\n",
    "                        R.append(0)\n",
    "                        copy_Suv[c] = 0\n",
    "                    else:\n",
    "                        R.append(movie_testing[j, u] - movie_bias[j, u])\n",
    "                        \n",
    "            # # R: 相似電影對調整後使用者 u 的評分\n",
    "            # R = [movie_testing[:,u][j] - movie_bias[i, j] for j in top_sim_index]\n",
    "            # 預測使用者u對於第m部電影的評分\n",
    "            Riu = predict(Siv, R) + movie_bias[i, u]\n",
    "            # predict_matrix[i, u] = Riu\n",
    "            # 計算RMSE\n",
    "            delta_list.append(se(rth, Riu))\n",
    "    icf_tcos.append(rmse(delta_list))"
   ]
  },
  {
   "cell_type": "markdown",
   "id": "0511457f-8124-44b7-aa82-830998e11cd5",
   "metadata": {},
   "source": [
    "### 1.4.2. Testing I-CF-pcc"
   ]
  },
  {
   "cell_type": "code",
   "execution_count": 18,
   "id": "f4821132-2294-4752-8514-3c8ee81619c0",
   "metadata": {
    "execution": {
     "iopub.execute_input": "2021-10-14T09:02:57.673992Z",
     "iopub.status.busy": "2021-10-14T09:02:57.673992Z",
     "iopub.status.idle": "2021-10-14T09:10:55.420410Z",
     "shell.execute_reply": "2021-10-14T09:10:55.420410Z",
     "shell.execute_reply.started": "2021-10-14T09:02:57.673992Z"
    },
    "tags": []
   },
   "outputs": [
    {
     "name": "stderr",
     "output_type": "stream",
     "text": [
      "predicting K = 3: 100%|████████████████████████████████████████████████████████████████████████████████████████████████████████████████████████████████████████████████████████| 1682/1682 [00:19<00:00, 85.33it/s]\n",
      "predicting K = 4: 100%|████████████████████████████████████████████████████████████████████████████████████████████████████████████████████████████████████████████████████████| 1682/1682 [00:19<00:00, 85.74it/s]\n",
      "predicting K = 5: 100%|████████████████████████████████████████████████████████████████████████████████████████████████████████████████████████████████████████████████████████| 1682/1682 [00:20<00:00, 82.63it/s]\n",
      "predicting K = 6: 100%|████████████████████████████████████████████████████████████████████████████████████████████████████████████████████████████████████████████████████████| 1682/1682 [00:20<00:00, 81.25it/s]\n",
      "predicting K = 7: 100%|████████████████████████████████████████████████████████████████████████████████████████████████████████████████████████████████████████████████████████| 1682/1682 [00:20<00:00, 81.10it/s]\n",
      "predicting K = 8: 100%|████████████████████████████████████████████████████████████████████████████████████████████████████████████████████████████████████████████████████████| 1682/1682 [00:21<00:00, 78.36it/s]\n",
      "predicting K = 9: 100%|████████████████████████████████████████████████████████████████████████████████████████████████████████████████████████████████████████████████████████| 1682/1682 [00:21<00:00, 78.46it/s]\n",
      "predicting K = 10: 100%|███████████████████████████████████████████████████████████████████████████████████████████████████████████████████████████████████████████████████████| 1682/1682 [00:21<00:00, 79.17it/s]\n",
      "predicting K = 20: 100%|███████████████████████████████████████████████████████████████████████████████████████████████████████████████████████████████████████████████████████| 1682/1682 [00:24<00:00, 69.58it/s]\n",
      "predicting K = 30: 100%|███████████████████████████████████████████████████████████████████████████████████████████████████████████████████████████████████████████████████████| 1682/1682 [00:26<00:00, 62.80it/s]\n",
      "predicting K = 40: 100%|███████████████████████████████████████████████████████████████████████████████████████████████████████████████████████████████████████████████████████| 1682/1682 [00:29<00:00, 56.79it/s]\n",
      "predicting K = 50: 100%|███████████████████████████████████████████████████████████████████████████████████████████████████████████████████████████████████████████████████████| 1682/1682 [00:32<00:00, 52.10it/s]\n",
      "predicting K = 60: 100%|███████████████████████████████████████████████████████████████████████████████████████████████████████████████████████████████████████████████████████| 1682/1682 [00:33<00:00, 49.53it/s]\n",
      "predicting K = 70: 100%|███████████████████████████████████████████████████████████████████████████████████████████████████████████████████████████████████████████████████████| 1682/1682 [00:37<00:00, 45.45it/s]\n",
      "predicting K = 80: 100%|███████████████████████████████████████████████████████████████████████████████████████████████████████████████████████████████████████████████████████| 1682/1682 [00:39<00:00, 42.50it/s]\n",
      "predicting K = 90: 100%|███████████████████████████████████████████████████████████████████████████████████████████████████████████████████████████████████████████████████████| 1682/1682 [00:42<00:00, 39.35it/s]\n",
      "predicting K = 100: 100%|██████████████████████████████████████████████████████████████████████████████████████████████████████████████████████████████████████████████████████| 1682/1682 [00:44<00:00, 37.51it/s]\n"
     ]
    }
   ],
   "source": [
    "# 與不同K個電影相似程度比較\n",
    "K = [3,4,5,6,7,8,9,10,20,30,40,50, 60,70,80,90,100]\n",
    "icf_tpcc = list()\n",
    "\n",
    "# 針對不同相似電影個數進行分析\n",
    "for k in K:\n",
    "    predict_matrix = np.zeros((len(movie), len(user)))\n",
    "    delta_list = list()\n",
    "    # 取出前K個相似度最大的使用者名稱，並設置於N\n",
    "    for i in tqdm(pcc_mdict.keys(), desc=f\"predicting K = {k}\"):\n",
    "        # Siv: 取出前K個最相似的電影相似度 ex:K=3, output=[0.378, 0.353, 0.336]\n",
    "        Siv = heapq.nlargest(k,pcc_mdict[i])\n",
    "        # top_sim_index: 取出前K個最相似的電影相似度(index) ex:K=3, output=[915, 406, 214]\n",
    "        top_sim_index = list(map(pcc_mdict[i].index, heapq.nlargest(k,pcc_mdict[i])))\n",
    "        # 利用相似的電影對電影的每一位使用者做評分預測\n",
    "        for u in range(len(user)):\n",
    "            # ground truth\n",
    "            rth = movie_testing[i, u]\n",
    "            # 如果原始評分不為0，則納入計算RMSE\n",
    "            if rth != 0:\n",
    "                # copy Suv\n",
    "                copy_Suv = copy.deepcopy(Suv)\n",
    "                # R: 相似電影對調整後使用者 u 的評分\n",
    "                R = list()\n",
    "                for c, j in enumerate(top_sim_index):\n",
    "                    if  movie_testing[j, u] == 0:\n",
    "                        R.append(0)\n",
    "                        copy_Suv[c] = 0\n",
    "                    else:\n",
    "                        R.append(movie_testing[j, u] - movie_bias[j, u])\n",
    "                        \n",
    "            # # R: 相似電影對調整後使用者 u 的評分\n",
    "            # R = [movie_testing[:,u][j] - movie_bias[i, j] for j in top_sim_index]\n",
    "            # 預測使用者u對於第m部電影的評分\n",
    "            Riu = predict(Siv, R) + movie_bias[i, u]\n",
    "            # predict_matrix[i, u] = Riu\n",
    "            # 計算RMSE\n",
    "            delta_list.append(se(rth, Riu))\n",
    "    icf_tpcc.append(rmse(delta_list))"
   ]
  },
  {
   "cell_type": "markdown",
   "id": "3334445d-09e3-4e58-b76a-c0ead922d876",
   "metadata": {},
   "source": [
    "## 1.5. Training & Testing Result"
   ]
  },
  {
   "cell_type": "code",
   "execution_count": 19,
   "id": "07945b8d-a615-41c9-9ec2-4b79777b9846",
   "metadata": {
    "execution": {
     "iopub.execute_input": "2021-10-14T09:10:55.421412Z",
     "iopub.status.busy": "2021-10-14T09:10:55.421412Z",
     "iopub.status.idle": "2021-10-14T09:10:55.499582Z",
     "shell.execute_reply": "2021-10-14T09:10:55.499582Z",
     "shell.execute_reply.started": "2021-10-14T09:10:55.421412Z"
    },
    "tags": []
   },
   "outputs": [
    {
     "data": {
      "text/html": [
       "<div>\n",
       "<style scoped>\n",
       "    .dataframe tbody tr th:only-of-type {\n",
       "        vertical-align: middle;\n",
       "    }\n",
       "\n",
       "    .dataframe tbody tr th {\n",
       "        vertical-align: top;\n",
       "    }\n",
       "\n",
       "    .dataframe thead th {\n",
       "        text-align: right;\n",
       "    }\n",
       "</style>\n",
       "<table border=\"1\" class=\"dataframe\">\n",
       "  <thead>\n",
       "    <tr style=\"text-align: right;\">\n",
       "      <th></th>\n",
       "      <th>K</th>\n",
       "      <th>U-CF-cos</th>\n",
       "      <th>U-CF-pcc</th>\n",
       "      <th>I-CF-cos</th>\n",
       "      <th>I-CF-pcc</th>\n",
       "    </tr>\n",
       "  </thead>\n",
       "  <tbody>\n",
       "    <tr>\n",
       "      <th>0</th>\n",
       "      <td>3</td>\n",
       "      <td>1.165222</td>\n",
       "      <td>1.013305</td>\n",
       "      <td>1.203750</td>\n",
       "      <td>0.975482</td>\n",
       "    </tr>\n",
       "    <tr>\n",
       "      <th>1</th>\n",
       "      <td>4</td>\n",
       "      <td>1.135065</td>\n",
       "      <td>0.998575</td>\n",
       "      <td>1.174316</td>\n",
       "      <td>0.965204</td>\n",
       "    </tr>\n",
       "    <tr>\n",
       "      <th>2</th>\n",
       "      <td>5</td>\n",
       "      <td>1.114338</td>\n",
       "      <td>0.985319</td>\n",
       "      <td>1.156180</td>\n",
       "      <td>0.960366</td>\n",
       "    </tr>\n",
       "    <tr>\n",
       "      <th>3</th>\n",
       "      <td>6</td>\n",
       "      <td>1.102331</td>\n",
       "      <td>0.978725</td>\n",
       "      <td>1.139073</td>\n",
       "      <td>0.958422</td>\n",
       "    </tr>\n",
       "    <tr>\n",
       "      <th>4</th>\n",
       "      <td>7</td>\n",
       "      <td>1.093507</td>\n",
       "      <td>0.969437</td>\n",
       "      <td>1.128360</td>\n",
       "      <td>0.955729</td>\n",
       "    </tr>\n",
       "    <tr>\n",
       "      <th>5</th>\n",
       "      <td>8</td>\n",
       "      <td>1.084284</td>\n",
       "      <td>0.964698</td>\n",
       "      <td>1.119274</td>\n",
       "      <td>0.952321</td>\n",
       "    </tr>\n",
       "    <tr>\n",
       "      <th>6</th>\n",
       "      <td>9</td>\n",
       "      <td>1.078564</td>\n",
       "      <td>0.961137</td>\n",
       "      <td>1.112424</td>\n",
       "      <td>0.950306</td>\n",
       "    </tr>\n",
       "    <tr>\n",
       "      <th>7</th>\n",
       "      <td>10</td>\n",
       "      <td>1.072028</td>\n",
       "      <td>0.959319</td>\n",
       "      <td>1.106573</td>\n",
       "      <td>0.948651</td>\n",
       "    </tr>\n",
       "    <tr>\n",
       "      <th>8</th>\n",
       "      <td>20</td>\n",
       "      <td>1.044643</td>\n",
       "      <td>0.946538</td>\n",
       "      <td>1.077959</td>\n",
       "      <td>0.941604</td>\n",
       "    </tr>\n",
       "    <tr>\n",
       "      <th>9</th>\n",
       "      <td>30</td>\n",
       "      <td>1.033799</td>\n",
       "      <td>0.940997</td>\n",
       "      <td>1.065221</td>\n",
       "      <td>0.938226</td>\n",
       "    </tr>\n",
       "    <tr>\n",
       "      <th>10</th>\n",
       "      <td>40</td>\n",
       "      <td>1.026370</td>\n",
       "      <td>0.936927</td>\n",
       "      <td>1.058017</td>\n",
       "      <td>0.936342</td>\n",
       "    </tr>\n",
       "    <tr>\n",
       "      <th>11</th>\n",
       "      <td>50</td>\n",
       "      <td>1.021116</td>\n",
       "      <td>0.934265</td>\n",
       "      <td>1.052777</td>\n",
       "      <td>0.934745</td>\n",
       "    </tr>\n",
       "    <tr>\n",
       "      <th>12</th>\n",
       "      <td>60</td>\n",
       "      <td>1.017232</td>\n",
       "      <td>0.932449</td>\n",
       "      <td>1.048464</td>\n",
       "      <td>0.933647</td>\n",
       "    </tr>\n",
       "    <tr>\n",
       "      <th>13</th>\n",
       "      <td>70</td>\n",
       "      <td>1.014161</td>\n",
       "      <td>0.930780</td>\n",
       "      <td>1.045459</td>\n",
       "      <td>0.932792</td>\n",
       "    </tr>\n",
       "    <tr>\n",
       "      <th>14</th>\n",
       "      <td>80</td>\n",
       "      <td>1.011262</td>\n",
       "      <td>0.929452</td>\n",
       "      <td>1.042330</td>\n",
       "      <td>0.932238</td>\n",
       "    </tr>\n",
       "    <tr>\n",
       "      <th>15</th>\n",
       "      <td>90</td>\n",
       "      <td>1.009222</td>\n",
       "      <td>0.928289</td>\n",
       "      <td>1.040127</td>\n",
       "      <td>0.931769</td>\n",
       "    </tr>\n",
       "    <tr>\n",
       "      <th>16</th>\n",
       "      <td>100</td>\n",
       "      <td>1.007184</td>\n",
       "      <td>0.927539</td>\n",
       "      <td>1.038027</td>\n",
       "      <td>0.931301</td>\n",
       "    </tr>\n",
       "  </tbody>\n",
       "</table>\n",
       "</div>"
      ],
      "text/plain": [
       "      K  U-CF-cos  U-CF-pcc  I-CF-cos  I-CF-pcc\n",
       "0     3  1.165222  1.013305  1.203750  0.975482\n",
       "1     4  1.135065  0.998575  1.174316  0.965204\n",
       "2     5  1.114338  0.985319  1.156180  0.960366\n",
       "3     6  1.102331  0.978725  1.139073  0.958422\n",
       "4     7  1.093507  0.969437  1.128360  0.955729\n",
       "5     8  1.084284  0.964698  1.119274  0.952321\n",
       "6     9  1.078564  0.961137  1.112424  0.950306\n",
       "7    10  1.072028  0.959319  1.106573  0.948651\n",
       "8    20  1.044643  0.946538  1.077959  0.941604\n",
       "9    30  1.033799  0.940997  1.065221  0.938226\n",
       "10   40  1.026370  0.936927  1.058017  0.936342\n",
       "11   50  1.021116  0.934265  1.052777  0.934745\n",
       "12   60  1.017232  0.932449  1.048464  0.933647\n",
       "13   70  1.014161  0.930780  1.045459  0.932792\n",
       "14   80  1.011262  0.929452  1.042330  0.932238\n",
       "15   90  1.009222  0.928289  1.040127  0.931769\n",
       "16  100  1.007184  0.927539  1.038027  0.931301"
      ]
     },
     "execution_count": 19,
     "metadata": {},
     "output_type": "execute_result"
    }
   ],
   "source": [
    "# 將K轉成字串形式\n",
    "str_k = list(map(lambda x:str(x), K))\n",
    "# numpy to pandas\n",
    "df_test = pd.DataFrame({\"K\": str_k, \"U-CF-cos\":ucf_tcos, \"U-CF-pcc\":ucf_tpcc, \"I-CF-cos\":icf_tcos, \"I-CF-pcc\":icf_tpcc})\n",
    "df_test"
   ]
  },
  {
   "cell_type": "code",
   "execution_count": 20,
   "id": "9ff65de4-3c5a-4b17-b9ba-55277038d0ca",
   "metadata": {
    "execution": {
     "iopub.execute_input": "2021-10-14T09:10:55.500603Z",
     "iopub.status.busy": "2021-10-14T09:10:55.500603Z",
     "iopub.status.idle": "2021-10-14T09:10:55.765973Z",
     "shell.execute_reply": "2021-10-14T09:10:55.765973Z",
     "shell.execute_reply.started": "2021-10-14T09:10:55.500603Z"
    },
    "tags": []
   },
   "outputs": [
    {
     "ename": "NameError",
     "evalue": "name 'df' is not defined",
     "output_type": "error",
     "traceback": [
      "\u001b[1;31m---------------------------------------------------------------------------\u001b[0m",
      "\u001b[1;31mNameError\u001b[0m                                 Traceback (most recent call last)",
      "\u001b[1;32m~\\AppData\\Local\\Temp/ipykernel_18200/1033327673.py\u001b[0m in \u001b[0;36m<module>\u001b[1;34m\u001b[0m\n\u001b[0;32m      1\u001b[0m \u001b[0mfig\u001b[0m\u001b[1;33m,\u001b[0m\u001b[0maxes\u001b[0m\u001b[1;33m=\u001b[0m\u001b[0mplt\u001b[0m\u001b[1;33m.\u001b[0m\u001b[0msubplots\u001b[0m\u001b[1;33m(\u001b[0m\u001b[1;36m1\u001b[0m\u001b[1;33m,\u001b[0m\u001b[1;36m2\u001b[0m\u001b[1;33m,\u001b[0m \u001b[0mfigsize\u001b[0m\u001b[1;33m=\u001b[0m\u001b[1;33m(\u001b[0m\u001b[1;36m30\u001b[0m\u001b[1;33m,\u001b[0m\u001b[1;36m10\u001b[0m\u001b[1;33m)\u001b[0m\u001b[1;33m,\u001b[0m \u001b[0msharey\u001b[0m\u001b[1;33m=\u001b[0m\u001b[1;32mTrue\u001b[0m\u001b[1;33m)\u001b[0m\u001b[1;33m\u001b[0m\u001b[1;33m\u001b[0m\u001b[0m\n\u001b[1;32m----> 2\u001b[1;33m \u001b[0mplot_training_testing\u001b[0m\u001b[1;33m(\u001b[0m\u001b[0mdf\u001b[0m\u001b[1;33m,\u001b[0m \u001b[0maxes\u001b[0m\u001b[1;33m[\u001b[0m\u001b[1;36m0\u001b[0m\u001b[1;33m]\u001b[0m\u001b[1;33m,\u001b[0m \u001b[1;34m\"Training RMSE\"\u001b[0m\u001b[1;33m)\u001b[0m\u001b[1;33m\u001b[0m\u001b[1;33m\u001b[0m\u001b[0m\n\u001b[0m\u001b[0;32m      3\u001b[0m \u001b[0mplot_training_testing\u001b[0m\u001b[1;33m(\u001b[0m\u001b[0mdf_test\u001b[0m\u001b[1;33m,\u001b[0m \u001b[0maxes\u001b[0m\u001b[1;33m[\u001b[0m\u001b[1;36m1\u001b[0m\u001b[1;33m]\u001b[0m\u001b[1;33m,\u001b[0m \u001b[1;34m\"Testing RMSE\"\u001b[0m\u001b[1;33m)\u001b[0m\u001b[1;33m\u001b[0m\u001b[1;33m\u001b[0m\u001b[0m\n",
      "\u001b[1;31mNameError\u001b[0m: name 'df' is not defined"
     ]
    },
    {
     "data": {
      "image/png": "[encoded data removed]",
      "text/plain": [
       "<Figure size 2160x720 with 2 Axes>"
      ]
     },
     "metadata": {
      "needs_background": "light"
     },
     "output_type": "display_data"
    }
   ],
   "source": [
    "fig,axes=plt.subplots(1,2, figsize=(30,10), sharey=True)\n",
    "plot_training_testing(df, axes[0], \"Training RMSE\")\n",
    "plot_training_testing(df_test, axes[1], \"Testing RMSE\")"
   ]
  },
  {
   "cell_type": "markdown",
   "id": "d84e267a-3872-41ea-beed-ecebd1593241",
   "metadata": {},
   "source": [
    "# 2. Latent Factor Model (Matrix Factorization)"
   ]
  },
  {
   "cell_type": "code",
   "execution_count": null,
   "id": "8b19bdaf-4ffa-4f09-b9bd-b9da9be2349f",
   "metadata": {
    "execution": {
     "iopub.status.busy": "2021-10-13T05:50:57.806654Z",
     "iopub.status.idle": "2021-10-13T05:50:57.806654Z",
     "shell.execute_reply": "2021-10-13T05:50:57.806654Z",
     "shell.execute_reply.started": "2021-10-13T05:50:57.806654Z"
    },
    "tags": []
   },
   "outputs": [],
   "source": [
    "# 存取使用者及電影名稱\n",
    "user = np.unique(data[:,0])\n",
    "movie = np.unique(data[:,1])\n",
    "\n",
    "# 訓練資料及測試資料\n",
    "train_data.shape, test_data.shape"
   ]
  },
  {
   "cell_type": "code",
   "execution_count": null,
   "id": "5d476bdd-c6b8-422f-8660-b128c00d2e11",
   "metadata": {
    "execution": {
     "iopub.status.busy": "2021-10-13T05:50:57.807654Z",
     "iopub.status.idle": "2021-10-13T05:50:57.807654Z",
     "shell.execute_reply": "2021-10-13T05:50:57.807654Z",
     "shell.execute_reply.started": "2021-10-13T05:50:57.807654Z"
    },
    "tags": []
   },
   "outputs": [],
   "source": [
    "# init user_matrix as zero matrix\n",
    "user_item = np.zeros((len(user), len(movie)))\n",
    "\n",
    "# 將資料轉成矩陣形式\n",
    "for u in tqdm(user, desc='data transfer user matrix'):\n",
    "    '''\n",
    "    train_data[train_data[:,0] == u] : 過濾出u使用者所有的評分資料\n",
    "    train_data[train_data[:,0] == u][:,1]: 取得u使用者所有評分過的電影名稱\n",
    "    '''\n",
    "    rate_index = train_data[train_data[:,0] == u][:,1]\n",
    "    for rate in rate_index:\n",
    "        '''\n",
    "        user_matrix[u-1, rate-1]: 欲設置的rateing位置\n",
    "        train_data[(train_data[:,0] == u) & (train_data[:,1] == rate)]: 取出u使用者對於評論過特定電影的資料\n",
    "        '''\n",
    "        user_item[u-1, rate-1] = train_data[(train_data[:,0] == u) & (train_data[:,1] == rate)][:,2].item()"
   ]
  },
  {
   "cell_type": "markdown",
   "id": "ca191ec0-ec7f-42c9-a0ac-7a45cd1e9174",
   "metadata": {},
   "source": [
    "## 2.1. Initialize latent matrix"
   ]
  },
  {
   "cell_type": "code",
   "execution_count": null,
   "id": "83979866-ef6f-4646-8d85-fd55c7e52a39",
   "metadata": {
    "execution": {
     "iopub.status.busy": "2021-10-13T05:50:57.808653Z",
     "iopub.status.idle": "2021-10-13T05:50:57.808653Z",
     "shell.execute_reply": "2021-10-13T05:50:57.808653Z",
     "shell.execute_reply.started": "2021-10-13T05:50:57.808653Z"
    },
    "tags": []
   },
   "outputs": [],
   "source": [
    "# init lentent vector\n",
    "K = 20\n",
    "# init user lentent matrix\n",
    "P = np.random.uniform(low=0, high=3, size=(len(user), K))\n",
    "# init movie lentent matrix\n",
    "Q = np.random.uniform(low=0, high=3, size=(len(movie), K))"
   ]
  },
  {
   "cell_type": "markdown",
   "id": "d7c5c4bd-31b9-4b0a-99ad-57691c0f6c20",
   "metadata": {},
   "source": [
    "## 2.2. Use SGD optimization algorithm update latent matrix"
   ]
  },
  {
   "cell_type": "code",
   "execution_count": null,
   "id": "aa54e53f-46bb-490b-b1f0-2917c55ca215",
   "metadata": {
    "execution": {
     "iopub.status.busy": "2021-10-13T05:50:57.809654Z",
     "iopub.status.idle": "2021-10-13T05:50:57.809654Z",
     "shell.execute_reply": "2021-10-13T05:50:57.809654Z",
     "shell.execute_reply.started": "2021-10-13T05:50:57.809654Z"
    },
    "tags": []
   },
   "outputs": [],
   "source": [
    "# 設定SGD learning_rate\n",
    "alpha = 0.01\n",
    "# 設定正則化參數\n",
    "l = 0.1\n",
    "\n",
    "# 針對user有評分過的rating位置進行更新(User Latent Matrix)\n",
    "for j in range(len(user)):\n",
    "    # 找出使用者j對哪幾部電影評分的index\n",
    "    movie_index = [i for i, e in enumerate(user_item[j]) if e != 0]\n",
    "    for m in movie_index:\n",
    "        # 若user item 有值則對Q的相對欄位進行SGD更新\n",
    "        Q[m] -= alpha * ((np.dot(P[j], Q[m]) - user_item[j,m]) * P[j] + l*(Q[m]))\n",
    "\n",
    "# 針對電影有被評分過的rating位置進行更新(Item Latent Matrix)\n",
    "for m in range(len(movie)):\n",
    "    # 找出使用者j對哪幾部電影評分的index\n",
    "    user_index = [u for u, e in enumerate(user_item[:,m]) if e != 0]\n",
    "    for j in user_index:\n",
    "        # 若user item 有值則對Q的相對欄位進行SGD更新\n",
    "        P[j] -= alpha * ((np.dot(P[j], Q[m]) - user_item[j,m]) * Q[m] + l*(P[j]))\n",
    " "
   ]
  },
  {
   "cell_type": "code",
   "execution_count": null,
   "id": "6747fb21-d144-4bf9-914c-9fb96b688837",
   "metadata": {},
   "outputs": [],
   "source": []
  }
 ],
 "metadata": {
  "kernelspec": {
   "display_name": "Python 3 (ipykernel)",
   "language": "python",
   "name": "python3"
  },
  "language_info": {
   "codemirror_mode": {
    "name": "ipython",
    "version": 3
   },
   "file_extension": ".py",
   "mimetype": "text/x-python",
   "name": "python",
   "nbconvert_exporter": "python",
   "pygments_lexer": "ipython3",
   "version": "3.9.7"
  }
 },
 "nbformat": 4,
 "nbformat_minor": 5
}
