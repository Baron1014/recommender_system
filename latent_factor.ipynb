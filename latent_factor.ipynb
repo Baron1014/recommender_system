{
 "cells": [
  {
   "cell_type": "markdown",
   "id": "60aa6fb8-85b1-46de-9707-06d4c579f0b1",
   "metadata": {},
   "source": [
    "# 0. Preparation"
   ]
  },
  {
   "cell_type": "code",
   "execution_count": 47,
   "id": "93391d63-9c0b-44d3-8583-8f1184a95d4c",
   "metadata": {
    "execution": {
     "iopub.execute_input": "2021-10-12T04:38:47.112468Z",
     "iopub.status.busy": "2021-10-12T04:38:47.111468Z",
     "iopub.status.idle": "2021-10-12T04:38:47.155443Z",
     "shell.execute_reply": "2021-10-12T04:38:47.155443Z",
     "shell.execute_reply.started": "2021-10-12T04:38:47.112468Z"
    },
    "tags": []
   },
   "outputs": [],
   "source": [
    "import numpy as np\n",
    "import heapq\n",
    "import pandas as pd\n",
    "import seaborn as sns\n",
    "import scipy\n",
    "import matplotlib.pyplot as plt\n",
    "from tqdm import tqdm\n",
    "from sklearn.model_selection import train_test_split\n",
    "from sklearn.metrics import mean_squared_error as mse"
   ]
  },
  {
   "cell_type": "markdown",
   "id": "6e5fe571-06f7-4208-85da-b4a59f2edfac",
   "metadata": {},
   "source": [
    "## 0.1. load data"
   ]
  },
  {
   "cell_type": "code",
   "execution_count": 48,
   "id": "9ff26504-f3e0-4e8f-98b6-c1392deb1922",
   "metadata": {
    "execution": {
     "iopub.execute_input": "2021-10-12T04:38:50.426824Z",
     "iopub.status.busy": "2021-10-12T04:38:50.425825Z",
     "iopub.status.idle": "2021-10-12T04:38:51.158544Z",
     "shell.execute_reply": "2021-10-12T04:38:51.158544Z",
     "shell.execute_reply.started": "2021-10-12T04:38:50.426824Z"
    },
    "tags": []
   },
   "outputs": [
    {
     "name": "stdout",
     "output_type": "stream",
     "text": [
      "(100000, 4)\n",
      "[[      196       242         3 881250949]\n",
      " [      186       302         3 891717742]\n",
      " [       22       377         1 878887116]\n",
      " [      244        51         2 880606923]\n",
      " [      166       346         1 886397596]]\n"
     ]
    }
   ],
   "source": [
    "# 資料位置設置\n",
    "data_path = \"../data/ratings.data\"\n",
    "\n",
    "# 讀取資料\n",
    "data = np.loadtxt(data_path, dtype=int)\n",
    "print(data.shape)\n",
    "print(data[:5])"
   ]
  },
  {
   "cell_type": "code",
   "execution_count": 49,
   "id": "cce71308-9800-4f23-97ba-075fc7d6e476",
   "metadata": {
    "execution": {
     "iopub.execute_input": "2021-10-12T04:39:01.944650Z",
     "iopub.status.busy": "2021-10-12T04:39:01.944650Z",
     "iopub.status.idle": "2021-10-12T04:39:01.970652Z",
     "shell.execute_reply": "2021-10-12T04:39:01.969649Z",
     "shell.execute_reply.started": "2021-10-12T04:39:01.944650Z"
    },
    "tags": []
   },
   "outputs": [
    {
     "name": "stdout",
     "output_type": "stream",
     "text": [
      "(943,) (1682,)\n"
     ]
    }
   ],
   "source": [
    "# 存取使用者及電影名稱\n",
    "user = np.unique(data[:,0])\n",
    "movie = np.unique(data[:,1])\n",
    "print(user.shape, movie.shape)"
   ]
  },
  {
   "cell_type": "markdown",
   "id": "14fc9e6f-0b90-47e0-b4dc-33b147d7f6d5",
   "metadata": {
    "tags": []
   },
   "source": [
    "## 0.2. split training data & testing data"
   ]
  },
  {
   "cell_type": "code",
   "execution_count": 50,
   "id": "6ecc1b03-c97a-46f8-8489-549ad1102567",
   "metadata": {
    "execution": {
     "iopub.execute_input": "2021-10-12T04:39:03.270071Z",
     "iopub.status.busy": "2021-10-12T04:39:03.270071Z",
     "iopub.status.idle": "2021-10-12T04:39:03.325149Z",
     "shell.execute_reply": "2021-10-12T04:39:03.324178Z",
     "shell.execute_reply.started": "2021-10-12T04:39:03.270071Z"
    },
    "tags": []
   },
   "outputs": [
    {
     "name": "stdout",
     "output_type": "stream",
     "text": [
      "(75000, 4) (25000, 4)\n"
     ]
    }
   ],
   "source": [
    "# 將資料切分為訓練資料及測試資料\n",
    "train_data, test_data = train_test_split(data, test_size = 0.25, random_state=42)\n",
    "print(train_data.shape, test_data.shape)"
   ]
  },
  {
   "cell_type": "markdown",
   "id": "f2474969-7a95-4f57-b1a5-0c9c84e8a40a",
   "metadata": {},
   "source": [
    "# 1. Collaborative Filtering (CF)"
   ]
  },
  {
   "cell_type": "code",
   "execution_count": 52,
   "id": "93489fd8-4997-4ce2-bdf2-2c20ffdb0fc6",
   "metadata": {
    "execution": {
     "iopub.execute_input": "2021-10-12T04:39:52.939766Z",
     "iopub.status.busy": "2021-10-12T04:39:52.939766Z",
     "iopub.status.idle": "2021-10-12T04:39:52.978735Z",
     "shell.execute_reply": "2021-10-12T04:39:52.977739Z",
     "shell.execute_reply.started": "2021-10-12T04:39:52.939766Z"
    },
    "tags": []
   },
   "outputs": [],
   "source": [
    "# 針對向量非0地方做計算\n",
    "def non_zero_mean(arr):\n",
    "    exist = arr != 0\n",
    "    total = arr.sum(axis = 1)\n",
    "    exist_number = exist.sum(axis=1)\n",
    "    \n",
    "    return np.reshape(total/exist_number, (-1, 1))\n",
    "\n",
    "# 針對單一向量非0地方做計算\n",
    "def non_zero_vec_mean(vec):\n",
    "    exist = vec != 0\n",
    "    total = vec.sum()\n",
    "    if total == 0: return 0\n",
    "    exist_number = exist.sum()\n",
    "    \n",
    "    return total/exist_number\n",
    "\n",
    "\n",
    "# 取得整體平均\n",
    "def get_u():    \n",
    "    return np.mean(user_matrix)\n",
    "    \n",
    "    \n",
    "# 計算向量長度\n",
    "def norm(v):\n",
    "    return np.sqrt(np.sum(np.power(v, 2)))\n",
    "\n",
    "# 計算兩個向量的 cosine 相似度\n",
    "def cos_sim(a, b):\n",
    "    s = norm(a)*norm(b)\n",
    "    if s == 0:\n",
    "        return 0\n",
    "    \n",
    "    return np.inner(a,b) / s\n",
    "\n",
    "# 計算兩個向量的 Pearson Correlation Coefficient 相似度\n",
    "def pcc_sim(a, b):\n",
    "    s = np.sqrt(np.sum(np.power((a-np.mean(a)), 2))) * np.sqrt(np.sum(np.power((b-np.mean(b)), 2)))\n",
    "    if s == 0:\n",
    "        return 0\n",
    "    \n",
    "    return np.inner(a-np.mean(a), b-np.mean(b)) / s\n",
    "    \n",
    "\n",
    "# 計算兩兩之間的相似度，且自己與自己的相似度調整為0\n",
    "def get_sim_dict(target, arr):\n",
    "    # init 目標相似度名單(cos & pcc)\n",
    "    cos_dict = dict()\n",
    "    pcc_dict = dict()\n",
    "    \n",
    "    for u in tqdm(range(len(target)), desc='caculator u & v similar'):\n",
    "        # init 目標 u 跟 v 的相似度\n",
    "        uv_cos = list()\n",
    "        uv_pcc = list()\n",
    "        for v in range(len(user)):\n",
    "            if u != v:\n",
    "                # 計算使用者u、v的cosine\n",
    "                uv_cos.append(cos_sim(arr[u], arr[v]))\n",
    "                uv_pcc.append(pcc_sim(arr[u], arr[v]))\n",
    "            else:\n",
    "                # 為了保持index不會跑掉，因此在自己的位置不做計算且補0\n",
    "                uv_cos.append(0)\n",
    "                uv_pcc.append(0)\n",
    "        cos_dict[u] = uv_cos\n",
    "        pcc_dict[u] = uv_pcc\n",
    "    \n",
    "    return cos_dict, pcc_dict\n",
    "\n",
    "# 推測評分\n",
    "def predict(S, R):\n",
    "    s = np.sum(S)\n",
    "    if s == 0:\n",
    "        return 0\n",
    "    \n",
    "    return np.dot(S,R)/ s\n",
    "\n",
    "# Vistualize Result\n",
    "def plot_result(df, title):\n",
    "    sns.set_style('whitegrid')\n",
    "    sns.set_context('talk')\n",
    "    plt.figure(figsize=(15,10))\n",
    "    plt.title(title)\n",
    "    for c in df.columns:\n",
    "        if c != \"K\":\n",
    "            g = sns.lineplot(data=df, x=\"K\", y=c, label=c)\n",
    "    g.set(ylabel = \"RMSE\")\n",
    "\n",
    "# Vistualize Testing & Training Result\n",
    "def plot_training_testing(df, ax, title):\n",
    "    sns.set_style('whitegrid')\n",
    "    sns.set_context('talk')\n",
    "    ax.set_title(title)\n",
    "    for c in df.columns:\n",
    "        if c != \"K\":\n",
    "            g = sns.lineplot(ax=ax, data=df, x=\"K\", y=c, label=c)\n",
    "    g.set(ylabel = \"RMSE\")\n",
    "    \n",
    "# item bias\n",
    "def get_ibias(i):\n",
    "    return non_zero_vec_mean(user_matrix[:,i]) \n",
    "\n",
    "# user bias\n",
    "def get_ubias(u):\n",
    "    return non_zero_vec_mean(user_matrix[u]) \n",
    "\n",
    "# 偏差修正\n",
    "def get_bias(arr):\n",
    "    # 計算bias\n",
    "    bias_matrix = np.zeros((len(user), len(movie)))\n",
    "    mean = get_u()\n",
    "\n",
    "     # init u + bu\n",
    "    for u in range(bias_matrix.shape[0]):\n",
    "        bias_matrix[u] = get_ubias(u)\n",
    "\n",
    "    # Bias = u + bu + bi\n",
    "    for i in range(bias_matrix.shape[1]):\n",
    "        bias_matrix[:,i] += get_ibias(i) - mean\n",
    "\n",
    "    # 刪除原本沒有評分的bias\n",
    "    for i in range(arr.shape[0]):\n",
    "        for j in range(arr.shape[1]):\n",
    "            if arr[i,j] == 0:\n",
    "                bias_matrix[i,j] = 0\n",
    "    \n",
    "    return bias_matrix"
   ]
  },
  {
   "cell_type": "markdown",
   "id": "af059e84-c80b-4111-9f9a-c2f366a45877",
   "metadata": {
    "tags": []
   },
   "source": [
    "## 1.1. User-based Collaborative Filtering (U-CF)"
   ]
  },
  {
   "cell_type": "code",
   "execution_count": 53,
   "id": "a84b0fb5-9d73-41f8-8a61-27ccb1737bc5",
   "metadata": {
    "execution": {
     "iopub.execute_input": "2021-10-12T04:40:01.599137Z",
     "iopub.status.busy": "2021-10-12T04:40:01.599137Z",
     "iopub.status.idle": "2021-10-12T04:40:14.770537Z",
     "shell.execute_reply": "2021-10-12T04:40:14.770537Z",
     "shell.execute_reply.started": "2021-10-12T04:40:01.599137Z"
    },
    "tags": []
   },
   "outputs": [
    {
     "name": "stderr",
     "output_type": "stream",
     "text": [
      "data transfer user matrix: 100%|███████████████████████████████████████████████████| 943/943 [00:13<00:00, 71.72it/s]\n"
     ]
    }
   ],
   "source": [
    "# init user_matrix as zero matrix\n",
    "user_matrix = np.zeros((len(user), len(movie)))\n",
    "\n",
    "for u in tqdm(user, desc='data transfer user matrix'):\n",
    "    '''\n",
    "    train_data[train_data[:,0] == u] : 過濾出u使用者所有的評分資料\n",
    "    train_data[train_data[:,0] == u][:,1]: 取得u使用者所有評分過的電影名稱\n",
    "    '''\n",
    "    rate_index = train_data[train_data[:,0] == u][:,1]\n",
    "    for rate in rate_index:\n",
    "        '''\n",
    "        user_matrix[u-1, rate-1]: 欲設置的rateing位置\n",
    "        train_data[(train_data[:,0] == u) & (train_data[:,1] == rate)]: 取出u使用者對於評論過特定電影的資料\n",
    "        '''\n",
    "        user_matrix[u-1, rate-1] = train_data[(train_data[:,0] == u) & (train_data[:,1] == rate)][:,2].item()"
   ]
  },
  {
   "cell_type": "code",
   "execution_count": 54,
   "id": "48102b89-9d5b-4ccc-b806-e907510cd87b",
   "metadata": {
    "execution": {
     "iopub.execute_input": "2021-10-12T04:40:14.772542Z",
     "iopub.status.busy": "2021-10-12T04:40:14.772542Z",
     "iopub.status.idle": "2021-10-12T04:40:14.833022Z",
     "shell.execute_reply": "2021-10-12T04:40:14.833022Z",
     "shell.execute_reply.started": "2021-10-12T04:40:14.772542Z"
    },
    "tags": []
   },
   "outputs": [
    {
     "name": "stdout",
     "output_type": "stream",
     "text": [
      "user_matrix:\n",
      "[[0. 3. 4. ... 0. 0. 0.]\n",
      " [4. 0. 0. ... 0. 0. 0.]\n",
      " [0. 0. 0. ... 0. 0. 0.]\n",
      " ...\n",
      " [5. 0. 0. ... 0. 0. 0.]\n",
      " [0. 0. 0. ... 0. 0. 0.]\n",
      " [0. 5. 0. ... 0. 0. 0.]] \n",
      "\n",
      "after adjust:\n",
      "[[ 0.         -0.6969697   0.3030303  ...  0.          0.\n",
      "   0.        ]\n",
      " [ 0.1627907   0.          0.         ...  0.          0.\n",
      "   0.        ]\n",
      " [ 0.          0.          0.         ...  0.          0.\n",
      "   0.        ]\n",
      " ...\n",
      " [ 0.8125      0.          0.         ...  0.          0.\n",
      "   0.        ]\n",
      " [ 0.          0.          0.         ...  0.          0.\n",
      "   0.        ]\n",
      " [ 0.          1.59055118  0.         ...  0.          0.\n",
      "   0.        ]]\n"
     ]
    }
   ],
   "source": [
    "# 計算使用者平均評分\n",
    "user_mean = non_zero_mean(user_matrix)\n",
    "# 使用個別使用者平均校正使用者對電影的評分\n",
    "user_adjust = np.where(user_matrix == 0, user_matrix, user_matrix-user_mean)\n",
    "print(f\"user_matrix:\\n{user_matrix} \\n\\nafter adjust:\\n{user_adjust}\")"
   ]
  },
  {
   "cell_type": "code",
   "execution_count": 55,
   "id": "40f5d0fe-8c3d-4612-845a-7aae2f23052a",
   "metadata": {
    "execution": {
     "iopub.execute_input": "2021-10-12T04:40:14.834060Z",
     "iopub.status.busy": "2021-10-12T04:40:14.834060Z",
     "iopub.status.idle": "2021-10-12T04:42:47.853184Z",
     "shell.execute_reply": "2021-10-12T04:42:47.853184Z",
     "shell.execute_reply.started": "2021-10-12T04:40:14.834060Z"
    },
    "tags": []
   },
   "outputs": [
    {
     "name": "stderr",
     "output_type": "stream",
     "text": [
      "caculator u & v similar: 100%|█████████████████████████████████████████████████████| 943/943 [02:32<00:00,  6.20it/s]\n"
     ]
    }
   ],
   "source": [
    "# 計算bias\n",
    "bias_matrix = get_bias(user_matrix)\n",
    "\n",
    "# 取得user間的相似度名單\n",
    "cos_dict, pcc_dict = get_sim_dict(user, user_adjust)"
   ]
  },
  {
   "cell_type": "markdown",
   "id": "72a9bca1-e79b-4954-a6f2-dfa82368bae7",
   "metadata": {
    "tags": []
   },
   "source": [
    "### 1.1.1.  User‐Based CF use Cosine result"
   ]
  },
  {
   "cell_type": "code",
   "execution_count": 56,
   "id": "9745cd8e-2709-46e2-a060-84e6c18232cd",
   "metadata": {
    "execution": {
     "iopub.execute_input": "2021-10-12T04:42:47.857185Z",
     "iopub.status.busy": "2021-10-12T04:42:47.857185Z",
     "iopub.status.idle": "2021-10-12T04:54:19.923452Z",
     "shell.execute_reply": "2021-10-12T04:54:19.922474Z",
     "shell.execute_reply.started": "2021-10-12T04:42:47.857185Z"
    },
    "tags": []
   },
   "outputs": [
    {
     "name": "stderr",
     "output_type": "stream",
     "text": [
      "predicting K = 3: 100%|████████████████████████████████████████████████████████████| 943/943 [00:17<00:00, 52.83it/s]\n",
      "predicting K = 4: 100%|████████████████████████████████████████████████████████████| 943/943 [00:17<00:00, 52.54it/s]\n",
      "predicting K = 5: 100%|████████████████████████████████████████████████████████████| 943/943 [00:19<00:00, 49.49it/s]\n",
      "predicting K = 6: 100%|████████████████████████████████████████████████████████████| 943/943 [00:19<00:00, 48.20it/s]\n",
      "predicting K = 7: 100%|████████████████████████████████████████████████████████████| 943/943 [00:21<00:00, 44.40it/s]\n",
      "predicting K = 8: 100%|████████████████████████████████████████████████████████████| 943/943 [00:21<00:00, 43.53it/s]\n",
      "predicting K = 9: 100%|████████████████████████████████████████████████████████████| 943/943 [00:22<00:00, 41.66it/s]\n",
      "predicting K = 10: 100%|███████████████████████████████████████████████████████████| 943/943 [00:22<00:00, 41.94it/s]\n",
      "predicting K = 20: 100%|███████████████████████████████████████████████████████████| 943/943 [00:30<00:00, 31.30it/s]\n",
      "predicting K = 30: 100%|███████████████████████████████████████████████████████████| 943/943 [00:37<00:00, 25.11it/s]\n",
      "predicting K = 40: 100%|███████████████████████████████████████████████████████████| 943/943 [00:44<00:00, 20.96it/s]\n",
      "predicting K = 50: 100%|███████████████████████████████████████████████████████████| 943/943 [00:51<00:00, 18.37it/s]\n",
      "predicting K = 60: 100%|███████████████████████████████████████████████████████████| 943/943 [00:58<00:00, 16.11it/s]\n",
      "predicting K = 70: 100%|███████████████████████████████████████████████████████████| 943/943 [01:06<00:00, 14.27it/s]\n",
      "predicting K = 80: 100%|███████████████████████████████████████████████████████████| 943/943 [01:13<00:00, 12.85it/s]\n",
      "predicting K = 90: 100%|███████████████████████████████████████████████████████████| 943/943 [01:20<00:00, 11.76it/s]\n",
      "predicting K = 100: 100%|██████████████████████████████████████████████████████████| 943/943 [01:27<00:00, 10.83it/s]\n"
     ]
    }
   ],
   "source": [
    "# 與不同K個使用者相似程度比較\n",
    "K = [3,4,5,6,7,8,9,10,20,30,40,50, 60,70,80,90,100]\n",
    "ucf_cos = list()\n",
    "\n",
    "# 針對不同相似使用者個數進行分析\n",
    "for k in K:\n",
    "    predict_matrix = np.zeros((len(user), len(movie)))\n",
    "    # 取出前K個相似度最大的電影名稱，並設置於N\n",
    "    for i in tqdm(cos_dict.keys(), desc=f\"predicting K = {k}\"):\n",
    "        # Suv: 取出前K個最相似的使用者相似度 ex:K=3, output=[0.378, 0.353, 0.336]\n",
    "        Suv = heapq.nlargest(k,cos_dict[i])\n",
    "        # top_sim_index: 取出前K個最相似的使用者相似度(index) ex:K=3, output=[915, 406, 214]\n",
    "        top_sim_index = list(map(cos_dict[i].index, heapq.nlargest(k,cos_dict[i])))\n",
    "        # 利用相似的使用者對使用者i的每一部電影做評分預測\n",
    "        for m in range(len(movie)):\n",
    "            # R: 相似使用者對調整後電影 m 的評分\n",
    "            R = [user_matrix[:,m][j] - bias_matrix[i, j] for j in top_sim_index]\n",
    "            # 預測使用者u對於第m部電影的評分 + 使用者i及電影m的偏差\n",
    "            Rui = predict(Suv, R) + bias_matrix[i, m]\n",
    "            predict_matrix[i, m] = Rui\n",
    "    ucf_cos.append(mse(user_matrix, predict_matrix, squared = False))"
   ]
  },
  {
   "cell_type": "markdown",
   "id": "65173eef-ddd9-409b-a156-36875ab7e299",
   "metadata": {},
   "source": [
    "### 1.1.2. User‐Based CF use Pearson Correlation Coefficient result"
   ]
  },
  {
   "cell_type": "code",
   "execution_count": 57,
   "id": "82f6e2f3-6c7f-4c16-b7d0-7e528557e09f",
   "metadata": {
    "execution": {
     "iopub.execute_input": "2021-10-12T04:54:19.925478Z",
     "iopub.status.busy": "2021-10-12T04:54:19.925478Z",
     "iopub.status.idle": "2021-10-12T05:05:57.242095Z",
     "shell.execute_reply": "2021-10-12T05:05:57.242095Z",
     "shell.execute_reply.started": "2021-10-12T04:54:19.925478Z"
    },
    "tags": []
   },
   "outputs": [
    {
     "name": "stderr",
     "output_type": "stream",
     "text": [
      "predicting K = 3: 100%|████████████████████████████████████████████████████████████| 943/943 [00:17<00:00, 54.54it/s]\n",
      "predicting K = 4: 100%|████████████████████████████████████████████████████████████| 943/943 [00:18<00:00, 52.18it/s]\n",
      "predicting K = 5: 100%|████████████████████████████████████████████████████████████| 943/943 [00:19<00:00, 48.27it/s]\n",
      "predicting K = 6: 100%|████████████████████████████████████████████████████████████| 943/943 [00:20<00:00, 46.13it/s]\n",
      "predicting K = 7: 100%|████████████████████████████████████████████████████████████| 943/943 [00:20<00:00, 44.99it/s]\n",
      "predicting K = 8: 100%|████████████████████████████████████████████████████████████| 943/943 [00:21<00:00, 44.50it/s]\n",
      "predicting K = 9: 100%|████████████████████████████████████████████████████████████| 943/943 [00:22<00:00, 42.44it/s]\n",
      "predicting K = 10: 100%|███████████████████████████████████████████████████████████| 943/943 [00:23<00:00, 40.25it/s]\n",
      "predicting K = 20: 100%|███████████████████████████████████████████████████████████| 943/943 [00:30<00:00, 30.93it/s]\n",
      "predicting K = 30: 100%|███████████████████████████████████████████████████████████| 943/943 [00:38<00:00, 24.49it/s]\n",
      "predicting K = 40: 100%|███████████████████████████████████████████████████████████| 943/943 [00:45<00:00, 20.81it/s]\n",
      "predicting K = 50: 100%|███████████████████████████████████████████████████████████| 943/943 [00:52<00:00, 18.12it/s]\n",
      "predicting K = 60: 100%|███████████████████████████████████████████████████████████| 943/943 [00:59<00:00, 15.91it/s]\n",
      "predicting K = 70: 100%|███████████████████████████████████████████████████████████| 943/943 [01:06<00:00, 14.23it/s]\n",
      "predicting K = 80: 100%|███████████████████████████████████████████████████████████| 943/943 [01:13<00:00, 12.78it/s]\n",
      "predicting K = 90: 100%|███████████████████████████████████████████████████████████| 943/943 [01:20<00:00, 11.69it/s]\n",
      "predicting K = 100: 100%|██████████████████████████████████████████████████████████| 943/943 [01:27<00:00, 10.77it/s]\n"
     ]
    }
   ],
   "source": [
    "# 與不同K個使用者相似程度比較\n",
    "K = [3,4,5,6,7,8,9,10,20,30,40,50, 60,70,80,90,100]\n",
    "ucf_pcc = list()\n",
    "\n",
    "# 針對不同相似使用者個數進行分析\n",
    "for k in K:\n",
    "    predict_matrix = np.zeros((len(user), len(movie)))\n",
    "    # 取出前K個相似度最大的電影名稱，並設置於N\n",
    "    for i in tqdm(pcc_dict.keys(), desc=f\"predicting K = {k}\"):\n",
    "        # Suv: 取出前K個最相似的使用者相似度 ex:K=3, output=[0.378, 0.353, 0.336]\n",
    "        Suv = heapq.nlargest(k,pcc_dict[i])\n",
    "        # top_sim_index: 取出前K個最相似的使用者相似度(index) ex:K=3, output=[915, 406, 214]\n",
    "        top_sim_index = list(map(pcc_dict[i].index, heapq.nlargest(k,pcc_dict[i])))\n",
    "        # 利用相似的使用者對使用者u的每一部電影做評分預測\n",
    "        for m in range(len(movie)):\n",
    "            # R: 相似使用者對調整後電影 m 的評分\n",
    "            R = [user_matrix[:,m][j] - bias_matrix[i, j]  for j in top_sim_index]\n",
    "            # 預測使用者u對於第m部電影的評分\n",
    "            Rui = predict(Suv, R) + bias_matrix[i, m]\n",
    "            predict_matrix[i, m] = Rui\n",
    "    ucf_pcc.append(mse(user_matrix, predict_matrix, squared = False))"
   ]
  },
  {
   "cell_type": "code",
   "execution_count": 58,
   "id": "42532276-0dea-4692-b327-3b05479b2888",
   "metadata": {
    "execution": {
     "iopub.execute_input": "2021-10-12T05:05:57.242994Z",
     "iopub.status.busy": "2021-10-12T05:05:57.242994Z",
     "iopub.status.idle": "2021-10-12T05:05:58.516465Z",
     "shell.execute_reply": "2021-10-12T05:05:58.516075Z",
     "shell.execute_reply.started": "2021-10-12T05:05:57.242994Z"
    },
    "tags": []
   },
   "outputs": [
    {
     "data": {
      "image/png": "[encoded data removed]",
      "text/plain": [
       "<Figure size 1080x720 with 1 Axes>"
      ]
     },
     "metadata": {},
     "output_type": "display_data"
    }
   ],
   "source": [
    "# 將K轉成字串形式\n",
    "str_k = list(map(lambda x:str(x), K))\n",
    "# numpy to pandas\n",
    "df = pd.DataFrame({\"K\": str_k, \"U-CF-cos\":ucf_cos, \"U-CF-pcc\":ucf_pcc})\n",
    "# Visualize\n",
    "plot_result(df, \"Training MSE\")"
   ]
  },
  {
   "cell_type": "markdown",
   "id": "cc1e69f1-de0e-41d9-a4e8-19ee2631b231",
   "metadata": {
    "tags": []
   },
   "source": [
    "## 1.2. Item-based Collaborative Filtering (I-CF)"
   ]
  },
  {
   "cell_type": "code",
   "execution_count": 59,
   "id": "41e9a112-6d6f-454d-b303-3a2bb40a7c0b",
   "metadata": {
    "execution": {
     "iopub.execute_input": "2021-10-12T05:05:58.516465Z",
     "iopub.status.busy": "2021-10-12T05:05:58.516465Z",
     "iopub.status.idle": "2021-10-12T05:05:58.532283Z",
     "shell.execute_reply": "2021-10-12T05:05:58.532283Z",
     "shell.execute_reply.started": "2021-10-12T05:05:58.516465Z"
    },
    "tags": []
   },
   "outputs": [
    {
     "data": {
      "text/plain": [
       "((1682, 943), (1682, 943))"
      ]
     },
     "execution_count": 59,
     "metadata": {},
     "output_type": "execute_result"
    }
   ],
   "source": [
    "# Transpose user_matrix as movie_matrix, bias_matrix as movie_bias.\n",
    "movie_matrix = user_matrix.T\n",
    "movie_bias = bias_matrix.T\n",
    "movie_matrix.shape, movie_bias.shape"
   ]
  },
  {
   "cell_type": "markdown",
   "id": "474c938e-6fd7-45ae-af04-e654256b79ab",
   "metadata": {},
   "source": [
    "#### ＃電影校正後會產生zero vec故在這裡不採用校正後matrix算相似度 "
   ]
  },
  {
   "cell_type": "code",
   "execution_count": 60,
   "id": "3de545a0-ff5b-4be6-9560-ed0f978705b6",
   "metadata": {
    "execution": {
     "iopub.execute_input": "2021-10-12T05:05:58.533318Z",
     "iopub.status.busy": "2021-10-12T05:05:58.533318Z",
     "iopub.status.idle": "2021-10-12T05:05:58.548289Z",
     "shell.execute_reply": "2021-10-12T05:05:58.547315Z",
     "shell.execute_reply.started": "2021-10-12T05:05:58.533318Z"
    },
    "tags": []
   },
   "outputs": [],
   "source": [
    "# # 計算電影平均評分\n",
    "# movie_mean = non_zero_mean(movie_matrix)\n",
    "# # 使用個別電影平均校正電影對使用者的評分\n",
    "# movie_adjust = np.where(movie_matrix == 0, movie_matrix, movie_matrix-movie_mean)\n",
    "# print(f\"movie_matrix:\\n{movie_matrix} \\n\\nafter adjust:\\n{movie_adjust}\")"
   ]
  },
  {
   "cell_type": "code",
   "execution_count": 61,
   "id": "9bcd0751-91f6-4865-a108-9244bd667c4b",
   "metadata": {
    "execution": {
     "iopub.execute_input": "2021-10-12T05:05:58.551289Z",
     "iopub.status.busy": "2021-10-12T05:05:58.550301Z",
     "iopub.status.idle": "2021-10-12T05:10:56.187858Z",
     "shell.execute_reply": "2021-10-12T05:10:56.187858Z",
     "shell.execute_reply.started": "2021-10-12T05:05:58.550301Z"
    },
    "tags": []
   },
   "outputs": [
    {
     "name": "stderr",
     "output_type": "stream",
     "text": [
      "caculator u & v similar: 100%|███████████████████████████████████████████████████| 1682/1682 [04:57<00:00,  5.65it/s]\n"
     ]
    }
   ],
   "source": [
    "# 取得movie間的相似度名單\n",
    "cos_mdict, pcc_mdict = get_sim_dict(movie, movie_matrix)"
   ]
  },
  {
   "cell_type": "markdown",
   "id": "9a5af1ae-c013-4413-9a40-c0b9c859b255",
   "metadata": {
    "tags": []
   },
   "source": [
    "### 1.2.1.  Item‐Based CF use Cosine result"
   ]
  },
  {
   "cell_type": "code",
   "execution_count": 62,
   "id": "2f4d0eca-2199-4f9b-a84b-aa4a56e48ca1",
   "metadata": {
    "execution": {
     "iopub.execute_input": "2021-10-12T05:10:56.189856Z",
     "iopub.status.busy": "2021-10-12T05:10:56.189856Z",
     "iopub.status.idle": "2021-10-12T05:22:56.155776Z",
     "shell.execute_reply": "2021-10-12T05:22:56.155776Z",
     "shell.execute_reply.started": "2021-10-12T05:10:56.189856Z"
    },
    "tags": []
   },
   "outputs": [
    {
     "name": "stderr",
     "output_type": "stream",
     "text": [
      "predicting K = 3: 100%|██████████████████████████████████████████████████████████| 1682/1682 [00:17<00:00, 96.77it/s]\n",
      "predicting K = 4: 100%|██████████████████████████████████████████████████████████| 1682/1682 [00:18<00:00, 92.41it/s]\n",
      "predicting K = 5: 100%|██████████████████████████████████████████████████████████| 1682/1682 [00:19<00:00, 85.20it/s]\n",
      "predicting K = 6: 100%|██████████████████████████████████████████████████████████| 1682/1682 [00:20<00:00, 82.95it/s]\n",
      "predicting K = 7: 100%|██████████████████████████████████████████████████████████| 1682/1682 [00:21<00:00, 79.46it/s]\n",
      "predicting K = 8: 100%|██████████████████████████████████████████████████████████| 1682/1682 [00:21<00:00, 77.22it/s]\n",
      "predicting K = 9: 100%|██████████████████████████████████████████████████████████| 1682/1682 [00:23<00:00, 72.28it/s]\n",
      "predicting K = 10: 100%|█████████████████████████████████████████████████████████| 1682/1682 [00:23<00:00, 70.56it/s]\n",
      "predicting K = 20: 100%|█████████████████████████████████████████████████████████| 1682/1682 [00:31<00:00, 53.53it/s]\n",
      "predicting K = 30: 100%|█████████████████████████████████████████████████████████| 1682/1682 [00:39<00:00, 42.57it/s]\n",
      "predicting K = 40: 100%|█████████████████████████████████████████████████████████| 1682/1682 [00:46<00:00, 35.94it/s]\n",
      "predicting K = 50: 100%|█████████████████████████████████████████████████████████| 1682/1682 [00:52<00:00, 31.89it/s]\n",
      "predicting K = 60: 100%|█████████████████████████████████████████████████████████| 1682/1682 [01:01<00:00, 27.35it/s]\n",
      "predicting K = 70: 100%|█████████████████████████████████████████████████████████| 1682/1682 [01:09<00:00, 24.28it/s]\n",
      "predicting K = 80: 100%|█████████████████████████████████████████████████████████| 1682/1682 [01:16<00:00, 21.86it/s]\n",
      "predicting K = 90: 100%|█████████████████████████████████████████████████████████| 1682/1682 [01:24<00:00, 19.97it/s]\n",
      "predicting K = 100: 100%|████████████████████████████████████████████████████████| 1682/1682 [01:31<00:00, 18.38it/s]\n"
     ]
    }
   ],
   "source": [
    "# 與不同K個電影相似程度比較\n",
    "K = [3,4,5,6,7,8,9,10,20,30,40,50, 60,70,80,90,100]\n",
    "icf_cos = list()\n",
    "\n",
    "# 針對不同相似電影個數進行分析\n",
    "for k in K:\n",
    "    predict_matrix = np.zeros((len(movie), len(user)))\n",
    "    # 取出前K個相似度最大的使用者名稱，並設置於N\n",
    "    for i in tqdm(cos_mdict.keys(), desc=f\"predicting K = {k}\"):\n",
    "        # Siv: 取出前K個最相似的電影相似度 ex:K=3, output=[0.378, 0.353, 0.336]\n",
    "        Siv = heapq.nlargest(k,cos_mdict[i])\n",
    "        # top_sim_index: 取出前K個最相似的電影相似度(index) ex:K=3, output=[915, 406, 214]\n",
    "        top_sim_index = list(map(cos_mdict[i].index, heapq.nlargest(k,cos_mdict[i])))\n",
    "        # 利用相似的電影對電影的每一位使用者做評分預測\n",
    "        for u in range(len(user)):\n",
    "            # R: 相似電影對調整後使用者 u 的評分\n",
    "            R = [movie_matrix[:,u][j] - movie_bias[i, j] for j in top_sim_index]\n",
    "            # 預測使用者u對於第m部電影的評分\n",
    "            Riu = predict(Siv, R) + movie_bias[i, u]\n",
    "            predict_matrix[i, u] = Riu\n",
    "    icf_cos.append(mse(movie_matrix, predict_matrix, squared = False))"
   ]
  },
  {
   "cell_type": "markdown",
   "id": "9fdbde65-b744-4f73-82ad-5f0314b87f3c",
   "metadata": {
    "tags": []
   },
   "source": [
    "### 1.2.2.  Item‐Based CF use Pearson Correlation Coefficient result"
   ]
  },
  {
   "cell_type": "code",
   "execution_count": 63,
   "id": "c1f779b7-34fb-4582-8d1d-5f628120e405",
   "metadata": {
    "execution": {
     "iopub.execute_input": "2021-10-12T05:22:56.156874Z",
     "iopub.status.busy": "2021-10-12T05:22:56.156874Z",
     "iopub.status.idle": "2021-10-12T05:34:58.721370Z",
     "shell.execute_reply": "2021-10-12T05:34:58.720925Z",
     "shell.execute_reply.started": "2021-10-12T05:22:56.156874Z"
    },
    "tags": []
   },
   "outputs": [
    {
     "name": "stderr",
     "output_type": "stream",
     "text": [
      "predicting K = 3: 100%|██████████████████████████████████████████████████████████| 1682/1682 [00:16<00:00, 99.32it/s]\n",
      "predicting K = 4: 100%|██████████████████████████████████████████████████████████| 1682/1682 [00:18<00:00, 90.31it/s]\n",
      "predicting K = 5: 100%|██████████████████████████████████████████████████████████| 1682/1682 [00:19<00:00, 86.03it/s]\n",
      "predicting K = 6: 100%|██████████████████████████████████████████████████████████| 1682/1682 [00:20<00:00, 83.38it/s]\n",
      "predicting K = 7: 100%|██████████████████████████████████████████████████████████| 1682/1682 [00:21<00:00, 79.42it/s]\n",
      "predicting K = 8: 100%|██████████████████████████████████████████████████████████| 1682/1682 [00:21<00:00, 77.75it/s]\n",
      "predicting K = 9: 100%|██████████████████████████████████████████████████████████| 1682/1682 [00:22<00:00, 75.29it/s]\n",
      "predicting K = 10: 100%|█████████████████████████████████████████████████████████| 1682/1682 [00:23<00:00, 72.61it/s]\n",
      "predicting K = 20: 100%|█████████████████████████████████████████████████████████| 1682/1682 [00:31<00:00, 53.09it/s]\n",
      "predicting K = 30: 100%|█████████████████████████████████████████████████████████| 1682/1682 [00:39<00:00, 42.33it/s]\n",
      "predicting K = 40: 100%|█████████████████████████████████████████████████████████| 1682/1682 [00:47<00:00, 35.74it/s]\n",
      "predicting K = 50: 100%|█████████████████████████████████████████████████████████| 1682/1682 [00:52<00:00, 31.76it/s]\n",
      "predicting K = 60: 100%|█████████████████████████████████████████████████████████| 1682/1682 [01:01<00:00, 27.25it/s]\n",
      "predicting K = 70: 100%|█████████████████████████████████████████████████████████| 1682/1682 [01:10<00:00, 24.01it/s]\n",
      "predicting K = 80: 100%|█████████████████████████████████████████████████████████| 1682/1682 [01:17<00:00, 21.76it/s]\n",
      "predicting K = 90: 100%|█████████████████████████████████████████████████████████| 1682/1682 [01:25<00:00, 19.58it/s]\n",
      "predicting K = 100: 100%|████████████████████████████████████████████████████████| 1682/1682 [01:32<00:00, 18.25it/s]\n"
     ]
    }
   ],
   "source": [
    "# 與不同K個電影相似程度比較\n",
    "K = [3,4,5,6,7,8,9,10,20,30,40,50, 60,70,80,90,100]\n",
    "icf_pcc = list()\n",
    "\n",
    "# 針對不同相似電影個數進行分析\n",
    "for k in K:\n",
    "    predict_matrix = np.zeros((len(movie), len(user)))\n",
    "    # 取出前K個相似度最大的使用者名稱，並設置於N\n",
    "    for i in tqdm(pcc_mdict.keys(), desc=f\"predicting K = {k}\"):\n",
    "        # Siv: 取出前K個最相似的電影相似度 ex:K=3, output=[0.378, 0.353, 0.336]\n",
    "        Siv = heapq.nlargest(k,pcc_mdict[i])\n",
    "        # top_sim_index: 取出前K個最相似的電影相似度(index) ex:K=3, output=[915, 406, 214]\n",
    "        top_sim_index = list(map(pcc_mdict[i].index, heapq.nlargest(k,pcc_mdict[i])))\n",
    "        # 利用相似的電影對電影的每一位使用者做評分預測\n",
    "        for u in range(len(user)):\n",
    "            # R: 相似電影對調整後使用者 u 的評分\n",
    "            try:\n",
    "                R = [movie_matrix[:,u][j] - movie_bias[i, j] for j in top_sim_index]\n",
    "            except:\n",
    "                print(f\"i={i}, j={j}, u={u}\")\n",
    "            # 預測使用者u對於第m部電影的評分\n",
    "            Riu = predict(Siv, R) + movie_bias[i, u]\n",
    "            predict_matrix[i, u] = Riu\n",
    "    icf_pcc.append(mse(movie_matrix, predict_matrix, squared = False))"
   ]
  },
  {
   "cell_type": "code",
   "execution_count": 64,
   "id": "27a4ddb4-1ef0-4e7e-8902-1319804be7a1",
   "metadata": {
    "execution": {
     "iopub.execute_input": "2021-10-12T05:34:58.722376Z",
     "iopub.status.busy": "2021-10-12T05:34:58.722376Z",
     "iopub.status.idle": "2021-10-12T05:34:58.952825Z",
     "shell.execute_reply": "2021-10-12T05:34:58.952825Z",
     "shell.execute_reply.started": "2021-10-12T05:34:58.722376Z"
    },
    "tags": []
   },
   "outputs": [
    {
     "data": {
      "image/png": "[encoded data removed]",
      "text/plain": [
       "<Figure size 1080x720 with 1 Axes>"
      ]
     },
     "metadata": {},
     "output_type": "display_data"
    }
   ],
   "source": [
    "# numpy to pandas\n",
    "df[\"I-CF-cos\"] = icf_cos\n",
    "df[\"I-CF-pcc\"] = icf_pcc\n",
    "# Visualize\n",
    "plot_result(df, \"Training MSE\")"
   ]
  },
  {
   "cell_type": "markdown",
   "id": "83f504b9-a05f-4672-9e6e-a395ab77451e",
   "metadata": {
    "tags": []
   },
   "source": [
    "## 1.3. Testing U-CF"
   ]
  },
  {
   "cell_type": "code",
   "execution_count": 65,
   "id": "cf963505-51e3-4661-abc0-5c5ac15177b4",
   "metadata": {
    "execution": {
     "iopub.execute_input": "2021-10-12T05:34:58.954795Z",
     "iopub.status.busy": "2021-10-12T05:34:58.954795Z",
     "iopub.status.idle": "2021-10-12T05:35:00.593433Z",
     "shell.execute_reply": "2021-10-12T05:35:00.593433Z",
     "shell.execute_reply.started": "2021-10-12T05:34:58.954795Z"
    },
    "tags": []
   },
   "outputs": [
    {
     "name": "stderr",
     "output_type": "stream",
     "text": [
      "data transfer user matrix: 100%|██████████████████████████████████████████████████| 943/943 [00:01<00:00, 581.54it/s]\n"
     ]
    }
   ],
   "source": [
    "# init user_matrix as zero matrix\n",
    "user_testing = np.zeros((len(user), len(movie)))\n",
    "\n",
    "for u in tqdm(user, desc='data transfer user matrix'):\n",
    "    '''\n",
    "    train_data[train_data[:,0] == u] : 過濾出u使用者所有的評分資料\n",
    "    train_data[train_data[:,0] == u][:,1]: 取得u使用者所有評分過的電影名稱\n",
    "    '''\n",
    "    rate_index = test_data[test_data[:,0] == u][:,1]\n",
    "    for rate in rate_index:\n",
    "        '''\n",
    "        user_matrix[u-1, rate-1]: 欲設置的rateing位置\n",
    "        train_data[(train_data[:,0] == u) & (train_data[:,1] == rate)]: 取出u使用者對於評論過特定電影的資料\n",
    "        '''\n",
    "        user_testing[u-1, rate-1] = test_data[(test_data[:,0] == u) & (test_data[:,1] == rate)][:,2].item()"
   ]
  },
  {
   "cell_type": "code",
   "execution_count": 66,
   "id": "1a20ff43-ae1c-4aa0-9add-46f39a50222e",
   "metadata": {
    "execution": {
     "iopub.execute_input": "2021-10-12T05:35:00.595362Z",
     "iopub.status.busy": "2021-10-12T05:35:00.594360Z",
     "iopub.status.idle": "2021-10-12T05:35:00.608359Z",
     "shell.execute_reply": "2021-10-12T05:35:00.608359Z",
     "shell.execute_reply.started": "2021-10-12T05:35:00.595362Z"
    },
    "tags": []
   },
   "outputs": [
    {
     "name": "stdout",
     "output_type": "stream",
     "text": [
      "Array Exist!!\n"
     ]
    }
   ],
   "source": [
    "training = True\n",
    "\n",
    "if training:\n",
    "    print(\"Array Exist!!\")\n",
    "\n",
    "else:\n",
    "    # 若bias不存在，則計算training bias\n",
    "    print(\"Calculating Bias...\")\n",
    "    bias_matrix = get_bias(user_matrix)\n",
    "\n",
    "    # 取得user間的相似度名單\n",
    "    # 計算使用者平均評分\n",
    "    user_mean = non_zero_mean(user_matrix)\n",
    "    # 使用個別使用者平均校正使用者對電影的評分\n",
    "    user_adjust = np.where(user_matrix == 0, user_matrix, user_matrix-user_mean)\n",
    "    print(f\"user_matrix:\\n{user_matrix} \\n\\nafter adjust:\\n{user_adjust}\")\n",
    "\n",
    "    cos_dict, pcc_dict = get_sim_dict(user, user_adjust)"
   ]
  },
  {
   "cell_type": "markdown",
   "id": "d34e78b0-1944-442b-bb4a-1be624be0b48",
   "metadata": {},
   "source": [
    "### 1.3.1. Testing U-CF-cos"
   ]
  },
  {
   "cell_type": "code",
   "execution_count": 67,
   "id": "7d1bdcb8-5478-488b-8730-8a161e4f60af",
   "metadata": {
    "execution": {
     "iopub.execute_input": "2021-10-12T05:35:00.609359Z",
     "iopub.status.busy": "2021-10-12T05:35:00.609359Z",
     "iopub.status.idle": "2021-10-12T05:46:53.041469Z",
     "shell.execute_reply": "2021-10-12T05:46:53.041469Z",
     "shell.execute_reply.started": "2021-10-12T05:35:00.609359Z"
    },
    "tags": []
   },
   "outputs": [
    {
     "name": "stderr",
     "output_type": "stream",
     "text": [
      "predicting K = 3: 100%|████████████████████████████████████████████████████████████| 943/943 [00:17<00:00, 53.70it/s]\n",
      "predicting K = 4: 100%|████████████████████████████████████████████████████████████| 943/943 [00:19<00:00, 48.93it/s]\n",
      "predicting K = 5: 100%|████████████████████████████████████████████████████████████| 943/943 [00:20<00:00, 46.71it/s]\n",
      "predicting K = 6: 100%|████████████████████████████████████████████████████████████| 943/943 [00:20<00:00, 45.44it/s]\n",
      "predicting K = 7: 100%|████████████████████████████████████████████████████████████| 943/943 [00:21<00:00, 43.11it/s]\n",
      "predicting K = 8: 100%|████████████████████████████████████████████████████████████| 943/943 [00:22<00:00, 41.49it/s]\n",
      "predicting K = 9: 100%|████████████████████████████████████████████████████████████| 943/943 [00:23<00:00, 39.74it/s]\n",
      "predicting K = 10: 100%|███████████████████████████████████████████████████████████| 943/943 [00:24<00:00, 38.76it/s]\n",
      "predicting K = 20: 100%|███████████████████████████████████████████████████████████| 943/943 [00:31<00:00, 29.76it/s]\n",
      "predicting K = 30: 100%|███████████████████████████████████████████████████████████| 943/943 [00:38<00:00, 24.33it/s]\n",
      "predicting K = 40: 100%|███████████████████████████████████████████████████████████| 943/943 [00:45<00:00, 20.55it/s]\n",
      "predicting K = 50: 100%|███████████████████████████████████████████████████████████| 943/943 [00:51<00:00, 18.24it/s]\n",
      "predicting K = 60: 100%|███████████████████████████████████████████████████████████| 943/943 [01:00<00:00, 15.51it/s]\n",
      "predicting K = 70: 100%|███████████████████████████████████████████████████████████| 943/943 [01:06<00:00, 14.08it/s]\n",
      "predicting K = 80: 100%|███████████████████████████████████████████████████████████| 943/943 [01:15<00:00, 12.56it/s]\n",
      "predicting K = 90: 100%|███████████████████████████████████████████████████████████| 943/943 [01:21<00:00, 11.51it/s]\n",
      "predicting K = 100: 100%|██████████████████████████████████████████████████████████| 943/943 [01:28<00:00, 10.61it/s]\n"
     ]
    }
   ],
   "source": [
    "# 與不同K個使用者相似程度比較\n",
    "K = [3,4,5,6,7,8,9,10,20,30,40,50, 60,70,80,90,100]\n",
    "ucf_tcos = list()\n",
    "\n",
    "# 針對不同相似使用者個數進行分析\n",
    "for k in K:\n",
    "    predict_matrix = np.zeros((len(user), len(movie)))\n",
    "    # 取出前K個相似度最大的電影名稱，並設置於N\n",
    "    for i in tqdm(cos_dict.keys(), desc=f\"predicting K = {k}\"):\n",
    "        # Suv: 取出前K個最相似的使用者相似度 ex:K=3, output=[0.378, 0.353, 0.336]\n",
    "        Suv = heapq.nlargest(k,cos_dict[i])\n",
    "        # top_sim_index: 取出前K個最相似的使用者相似度(index) ex:K=3, output=[915, 406, 214]\n",
    "        top_sim_index = list(map(cos_dict[i].index, heapq.nlargest(k,cos_dict[i])))\n",
    "        # 利用相似的使用者對使用者i的每一部電影做評分預測\n",
    "        for m in range(len(movie)):\n",
    "            # R: 相似使用者對調整後電影 m 的評分\n",
    "            R = [user_testing[:,m][j] - bias_matrix[i, j] for j in top_sim_index]\n",
    "            # 預測使用者u對於第m部電影的評分 + 使用者i及電影m的偏差\n",
    "            Rui = predict(Suv, R) + bias_matrix[i, m]\n",
    "            predict_matrix[i, m] = Rui\n",
    "    ucf_tcos.append(mse(user_testing, predict_matrix, squared = False))"
   ]
  },
  {
   "cell_type": "markdown",
   "id": "4a7c1022-2fca-430d-967a-7dbf53f9df11",
   "metadata": {},
   "source": [
    "### 1.3.2. Testing U-CF-pcc"
   ]
  },
  {
   "cell_type": "code",
   "execution_count": 68,
   "id": "1ad3193b-f351-410c-85f3-3794fe407949",
   "metadata": {
    "execution": {
     "iopub.execute_input": "2021-10-12T05:46:53.043471Z",
     "iopub.status.busy": "2021-10-12T05:46:53.042472Z",
     "iopub.status.idle": "2021-10-12T05:58:28.890796Z",
     "shell.execute_reply": "2021-10-12T05:58:28.890688Z",
     "shell.execute_reply.started": "2021-10-12T05:46:53.043471Z"
    },
    "tags": []
   },
   "outputs": [
    {
     "name": "stderr",
     "output_type": "stream",
     "text": [
      "predicting K = 3: 100%|████████████████████████████████████████████████████████████| 943/943 [00:17<00:00, 55.08it/s]\n",
      "predicting K = 4: 100%|████████████████████████████████████████████████████████████| 943/943 [00:18<00:00, 51.95it/s]\n",
      "predicting K = 5: 100%|████████████████████████████████████████████████████████████| 943/943 [00:18<00:00, 50.17it/s]\n",
      "predicting K = 6: 100%|████████████████████████████████████████████████████████████| 943/943 [00:19<00:00, 47.44it/s]\n",
      "predicting K = 7: 100%|████████████████████████████████████████████████████████████| 943/943 [00:21<00:00, 44.41it/s]\n",
      "predicting K = 8: 100%|████████████████████████████████████████████████████████████| 943/943 [00:21<00:00, 44.58it/s]\n",
      "predicting K = 9: 100%|████████████████████████████████████████████████████████████| 943/943 [00:21<00:00, 42.98it/s]\n",
      "predicting K = 10: 100%|███████████████████████████████████████████████████████████| 943/943 [00:22<00:00, 41.59it/s]\n",
      "predicting K = 20: 100%|███████████████████████████████████████████████████████████| 943/943 [00:30<00:00, 30.98it/s]\n",
      "predicting K = 30: 100%|███████████████████████████████████████████████████████████| 943/943 [00:38<00:00, 24.72it/s]\n",
      "predicting K = 40: 100%|███████████████████████████████████████████████████████████| 943/943 [00:44<00:00, 21.05it/s]\n",
      "predicting K = 50: 100%|███████████████████████████████████████████████████████████| 943/943 [00:51<00:00, 18.29it/s]\n",
      "predicting K = 60: 100%|███████████████████████████████████████████████████████████| 943/943 [00:59<00:00, 15.91it/s]\n",
      "predicting K = 70: 100%|███████████████████████████████████████████████████████████| 943/943 [01:06<00:00, 14.22it/s]\n",
      "predicting K = 80: 100%|███████████████████████████████████████████████████████████| 943/943 [01:14<00:00, 12.66it/s]\n",
      "predicting K = 90: 100%|███████████████████████████████████████████████████████████| 943/943 [01:21<00:00, 11.56it/s]\n",
      "predicting K = 100: 100%|██████████████████████████████████████████████████████████| 943/943 [01:27<00:00, 10.72it/s]\n"
     ]
    }
   ],
   "source": [
    "# 與不同K個使用者相似程度比較\n",
    "K = [3,4,5,6,7,8,9,10,20,30,40,50, 60,70,80,90,100]\n",
    "ucf_tpcc = list()\n",
    "\n",
    "# 針對不同相似使用者個數進行分析\n",
    "for k in K:\n",
    "    predict_matrix = np.zeros((len(user), len(movie)))\n",
    "    # 取出前K個相似度最大的電影名稱，並設置於N\n",
    "    for i in tqdm(pcc_dict.keys(), desc=f\"predicting K = {k}\"):\n",
    "        # Suv: 取出前K個最相似的使用者相似度 ex:K=3, output=[0.378, 0.353, 0.336]\n",
    "        Suv = heapq.nlargest(k,pcc_dict[i])\n",
    "        # top_sim_index: 取出前K個最相似的使用者相似度(index) ex:K=3, output=[915, 406, 214]\n",
    "        top_sim_index = list(map(pcc_dict[i].index, heapq.nlargest(k,pcc_dict[i])))\n",
    "        # 利用相似的使用者對使用者i的每一部電影做評分預測\n",
    "        for m in range(len(movie)):\n",
    "            # R: 相似使用者對調整後電影 m 的評分\n",
    "            R = [user_testing[:,m][j] - bias_matrix[i, j] for j in top_sim_index]\n",
    "            # 預測使用者u對於第m部電影的評分 + 使用者i及電影m的偏差\n",
    "            Rui = predict(Suv, R) + bias_matrix[i, m]\n",
    "            predict_matrix[i, m] = Rui\n",
    "    ucf_tpcc.append(mse(user_testing, predict_matrix, squared = False))"
   ]
  },
  {
   "cell_type": "markdown",
   "id": "7263c0d6-ba4d-4f54-a0df-a21709666bb4",
   "metadata": {},
   "source": [
    "## 1.4. Testing I-CF"
   ]
  },
  {
   "cell_type": "code",
   "execution_count": 69,
   "id": "907243f7-f10b-401d-b25c-b68ef36e2e0e",
   "metadata": {
    "execution": {
     "iopub.execute_input": "2021-10-12T05:58:28.890796Z",
     "iopub.status.busy": "2021-10-12T05:58:28.890796Z",
     "iopub.status.idle": "2021-10-12T05:58:28.916938Z",
     "shell.execute_reply": "2021-10-12T05:58:28.916938Z",
     "shell.execute_reply.started": "2021-10-12T05:58:28.890796Z"
    },
    "tags": []
   },
   "outputs": [
    {
     "name": "stdout",
     "output_type": "stream",
     "text": [
      "Array Exist!!\n"
     ]
    }
   ],
   "source": [
    "movie_testing = user_testing.T\n",
    "\n",
    "# 取得 bias\n",
    "if training:\n",
    "    print(\"Array Exist!!\")\n",
    "\n",
    "else:\n",
    "    print(\"getting movie bias...\")\n",
    "    # Transpose user_matrix as movie_matrix, bias_matrix as movie_bias.\n",
    "    movie_bias = bias_matrix.T\n",
    "    \n",
    "    # 取得movie間的相似度名單\n",
    "    print(\"getting similarity...\")\n",
    "    cos_mdict, pcc_mdict = get_sim_dict(movie, movie_matrix)"
   ]
  },
  {
   "cell_type": "markdown",
   "id": "5774db9e-af66-4538-873d-6e1773736eba",
   "metadata": {
    "tags": []
   },
   "source": [
    "### 1.4.1. Testing I-CF-cos"
   ]
  },
  {
   "cell_type": "code",
   "execution_count": 70,
   "id": "06647ddc-a3a3-407b-a432-638a868f42dd",
   "metadata": {
    "execution": {
     "iopub.execute_input": "2021-10-12T05:58:28.916938Z",
     "iopub.status.busy": "2021-10-12T05:58:28.916938Z",
     "iopub.status.idle": "2021-10-12T06:10:33.969445Z",
     "shell.execute_reply": "2021-10-12T06:10:33.969105Z",
     "shell.execute_reply.started": "2021-10-12T05:58:28.916938Z"
    },
    "tags": []
   },
   "outputs": [
    {
     "name": "stderr",
     "output_type": "stream",
     "text": [
      "predicting K = 3: 100%|██████████████████████████████████████████████████████████| 1682/1682 [00:17<00:00, 97.43it/s]\n",
      "predicting K = 4: 100%|██████████████████████████████████████████████████████████| 1682/1682 [00:18<00:00, 89.05it/s]\n",
      "predicting K = 5: 100%|██████████████████████████████████████████████████████████| 1682/1682 [00:20<00:00, 83.81it/s]\n",
      "predicting K = 6: 100%|██████████████████████████████████████████████████████████| 1682/1682 [00:20<00:00, 81.76it/s]\n",
      "predicting K = 7: 100%|██████████████████████████████████████████████████████████| 1682/1682 [00:21<00:00, 78.68it/s]\n",
      "predicting K = 8: 100%|██████████████████████████████████████████████████████████| 1682/1682 [00:22<00:00, 75.87it/s]\n",
      "predicting K = 9: 100%|██████████████████████████████████████████████████████████| 1682/1682 [00:23<00:00, 72.54it/s]\n",
      "predicting K = 10: 100%|█████████████████████████████████████████████████████████| 1682/1682 [00:23<00:00, 70.27it/s]\n",
      "predicting K = 20: 100%|█████████████████████████████████████████████████████████| 1682/1682 [00:32<00:00, 52.50it/s]\n",
      "predicting K = 30: 100%|█████████████████████████████████████████████████████████| 1682/1682 [00:39<00:00, 42.41it/s]\n",
      "predicting K = 40: 100%|█████████████████████████████████████████████████████████| 1682/1682 [00:47<00:00, 35.74it/s]\n",
      "predicting K = 50: 100%|█████████████████████████████████████████████████████████| 1682/1682 [00:52<00:00, 31.77it/s]\n",
      "predicting K = 60: 100%|█████████████████████████████████████████████████████████| 1682/1682 [01:01<00:00, 27.16it/s]\n",
      "predicting K = 70: 100%|█████████████████████████████████████████████████████████| 1682/1682 [01:09<00:00, 24.17it/s]\n",
      "predicting K = 80: 100%|█████████████████████████████████████████████████████████| 1682/1682 [01:17<00:00, 21.76it/s]\n",
      "predicting K = 90: 100%|█████████████████████████████████████████████████████████| 1682/1682 [01:24<00:00, 19.88it/s]\n",
      "predicting K = 100: 100%|████████████████████████████████████████████████████████| 1682/1682 [01:32<00:00, 18.26it/s]\n"
     ]
    }
   ],
   "source": [
    "# 與不同K個電影相似程度比較\n",
    "K = [3,4,5,6,7,8,9,10,20,30,40,50, 60,70,80,90,100]\n",
    "icf_tcos = list()\n",
    "\n",
    "# 針對不同相似電影個數進行分析\n",
    "for k in K:\n",
    "    predict_matrix = np.zeros((len(movie), len(user)))\n",
    "    # 取出前K個相似度最大的使用者名稱，並設置於N\n",
    "    for i in tqdm(cos_mdict.keys(), desc=f\"predicting K = {k}\"):\n",
    "        # Siv: 取出前K個最相似的電影相似度 ex:K=3, output=[0.378, 0.353, 0.336]\n",
    "        Siv = heapq.nlargest(k,cos_mdict[i])\n",
    "        # top_sim_index: 取出前K個最相似的電影相似度(index) ex:K=3, output=[915, 406, 214]\n",
    "        top_sim_index = list(map(cos_mdict[i].index, heapq.nlargest(k,cos_mdict[i])))\n",
    "        # 利用相似的電影對電影的每一位使用者做評分預測\n",
    "        for u in range(len(user)):\n",
    "            # R: 相似電影對調整後使用者 u 的評分\n",
    "            R = [movie_testing[:,u][j] - movie_bias[i, j] for j in top_sim_index]\n",
    "            # 預測使用者u對於第m部電影的評分\n",
    "            Riu = predict(Siv, R) + movie_bias[i, u]\n",
    "            predict_matrix[i, u] = Riu\n",
    "    icf_tcos.append(mse(movie_testing, predict_matrix, squared = False))"
   ]
  },
  {
   "cell_type": "markdown",
   "id": "0511457f-8124-44b7-aa82-830998e11cd5",
   "metadata": {},
   "source": [
    "### 1.4.2. Testing I-CF-pcc"
   ]
  },
  {
   "cell_type": "code",
   "execution_count": 71,
   "id": "f4821132-2294-4752-8514-3c8ee81619c0",
   "metadata": {
    "execution": {
     "iopub.execute_input": "2021-10-12T06:10:33.970475Z",
     "iopub.status.busy": "2021-10-12T06:10:33.970475Z",
     "iopub.status.idle": "2021-10-12T06:22:34.703614Z",
     "shell.execute_reply": "2021-10-12T06:22:34.703390Z",
     "shell.execute_reply.started": "2021-10-12T06:10:33.970475Z"
    },
    "tags": []
   },
   "outputs": [
    {
     "name": "stderr",
     "output_type": "stream",
     "text": [
      "predicting K = 3: 100%|██████████████████████████████████████████████████████████| 1682/1682 [00:17<00:00, 96.84it/s]\n",
      "predicting K = 4: 100%|██████████████████████████████████████████████████████████| 1682/1682 [00:18<00:00, 92.67it/s]\n",
      "predicting K = 5: 100%|██████████████████████████████████████████████████████████| 1682/1682 [00:19<00:00, 86.34it/s]\n",
      "predicting K = 6: 100%|██████████████████████████████████████████████████████████| 1682/1682 [00:20<00:00, 82.83it/s]\n",
      "predicting K = 7: 100%|██████████████████████████████████████████████████████████| 1682/1682 [00:20<00:00, 80.95it/s]\n",
      "predicting K = 8: 100%|██████████████████████████████████████████████████████████| 1682/1682 [00:21<00:00, 76.67it/s]\n",
      "predicting K = 9: 100%|██████████████████████████████████████████████████████████| 1682/1682 [00:22<00:00, 73.49it/s]\n",
      "predicting K = 10: 100%|█████████████████████████████████████████████████████████| 1682/1682 [00:23<00:00, 71.47it/s]\n",
      "predicting K = 20: 100%|█████████████████████████████████████████████████████████| 1682/1682 [00:31<00:00, 52.91it/s]\n",
      "predicting K = 30: 100%|█████████████████████████████████████████████████████████| 1682/1682 [00:39<00:00, 42.75it/s]\n",
      "predicting K = 40: 100%|█████████████████████████████████████████████████████████| 1682/1682 [00:46<00:00, 35.91it/s]\n",
      "predicting K = 50: 100%|█████████████████████████████████████████████████████████| 1682/1682 [00:53<00:00, 31.48it/s]\n",
      "predicting K = 60: 100%|█████████████████████████████████████████████████████████| 1682/1682 [01:01<00:00, 27.31it/s]\n",
      "predicting K = 70: 100%|█████████████████████████████████████████████████████████| 1682/1682 [01:09<00:00, 24.15it/s]\n",
      "predicting K = 80: 100%|█████████████████████████████████████████████████████████| 1682/1682 [01:17<00:00, 21.77it/s]\n",
      "predicting K = 90: 100%|█████████████████████████████████████████████████████████| 1682/1682 [01:24<00:00, 20.00it/s]\n",
      "predicting K = 100: 100%|████████████████████████████████████████████████████████| 1682/1682 [01:31<00:00, 18.30it/s]\n"
     ]
    }
   ],
   "source": [
    "# 與不同K個電影相似程度比較\n",
    "K = [3,4,5,6,7,8,9,10,20,30,40,50, 60,70,80,90,100]\n",
    "icf_tpcc = list()\n",
    "\n",
    "# 針對不同相似電影個數進行分析\n",
    "for k in K:\n",
    "    predict_matrix = np.zeros((len(movie), len(user)))\n",
    "    # 取出前K個相似度最大的使用者名稱，並設置於N\n",
    "    for i in tqdm(pcc_mdict.keys(), desc=f\"predicting K = {k}\"):\n",
    "        # Siv: 取出前K個最相似的電影相似度 ex:K=3, output=[0.378, 0.353, 0.336]\n",
    "        Siv = heapq.nlargest(k,pcc_mdict[i])\n",
    "        # top_sim_index: 取出前K個最相似的電影相似度(index) ex:K=3, output=[915, 406, 214]\n",
    "        top_sim_index = list(map(pcc_mdict[i].index, heapq.nlargest(k,pcc_mdict[i])))\n",
    "        # 利用相似的電影對電影的每一位使用者做評分預測\n",
    "        for u in range(len(user)):\n",
    "            # R: 相似電影對調整後使用者 u 的評分\n",
    "            R = [movie_testing[:,u][j] - movie_bias[i, j] for j in top_sim_index]\n",
    "            # 預測使用者u對於第m部電影的評分\n",
    "            Riu = predict(Siv, R) + movie_bias[i, u]\n",
    "            predict_matrix[i, u] = Riu\n",
    "    icf_tpcc.append(mse(movie_testing, predict_matrix, squared = False))"
   ]
  },
  {
   "cell_type": "markdown",
   "id": "3334445d-09e3-4e58-b76a-c0ead922d876",
   "metadata": {},
   "source": [
    "## 1.5. Training & Testing Result"
   ]
  },
  {
   "cell_type": "code",
   "execution_count": 72,
   "id": "07945b8d-a615-41c9-9ec2-4b79777b9846",
   "metadata": {
    "execution": {
     "iopub.execute_input": "2021-10-12T06:22:34.704642Z",
     "iopub.status.busy": "2021-10-12T06:22:34.704642Z",
     "iopub.status.idle": "2021-10-12T06:22:34.734203Z",
     "shell.execute_reply": "2021-10-12T06:22:34.733682Z",
     "shell.execute_reply.started": "2021-10-12T06:22:34.704642Z"
    },
    "tags": []
   },
   "outputs": [
    {
     "data": {
      "text/html": [
       "<div>\n",
       "<style scoped>\n",
       "    .dataframe tbody tr th:only-of-type {\n",
       "        vertical-align: middle;\n",
       "    }\n",
       "\n",
       "    .dataframe tbody tr th {\n",
       "        vertical-align: top;\n",
       "    }\n",
       "\n",
       "    .dataframe thead th {\n",
       "        text-align: right;\n",
       "    }\n",
       "</style>\n",
       "<table border=\"1\" class=\"dataframe\">\n",
       "  <thead>\n",
       "    <tr style=\"text-align: right;\">\n",
       "      <th></th>\n",
       "      <th>K</th>\n",
       "      <th>U-CF-cos</th>\n",
       "      <th>U-CF-pcc</th>\n",
       "      <th>I-CF-cos</th>\n",
       "      <th>I-CF-pcc</th>\n",
       "    </tr>\n",
       "  </thead>\n",
       "  <tbody>\n",
       "    <tr>\n",
       "      <th>0</th>\n",
       "      <td>3</td>\n",
       "      <td>1.779405</td>\n",
       "      <td>1.779405</td>\n",
       "      <td>1.709573</td>\n",
       "      <td>1.696627</td>\n",
       "    </tr>\n",
       "    <tr>\n",
       "      <th>1</th>\n",
       "      <td>4</td>\n",
       "      <td>1.671566</td>\n",
       "      <td>1.671566</td>\n",
       "      <td>1.638831</td>\n",
       "      <td>1.630389</td>\n",
       "    </tr>\n",
       "    <tr>\n",
       "      <th>2</th>\n",
       "      <td>5</td>\n",
       "      <td>1.628650</td>\n",
       "      <td>1.628650</td>\n",
       "      <td>1.602040</td>\n",
       "      <td>1.599177</td>\n",
       "    </tr>\n",
       "    <tr>\n",
       "      <th>3</th>\n",
       "      <td>6</td>\n",
       "      <td>1.592868</td>\n",
       "      <td>1.592868</td>\n",
       "      <td>1.576482</td>\n",
       "      <td>1.570953</td>\n",
       "    </tr>\n",
       "    <tr>\n",
       "      <th>4</th>\n",
       "      <td>7</td>\n",
       "      <td>1.568772</td>\n",
       "      <td>1.568772</td>\n",
       "      <td>1.554698</td>\n",
       "      <td>1.551938</td>\n",
       "    </tr>\n",
       "    <tr>\n",
       "      <th>5</th>\n",
       "      <td>8</td>\n",
       "      <td>1.549735</td>\n",
       "      <td>1.549735</td>\n",
       "      <td>1.539944</td>\n",
       "      <td>1.536951</td>\n",
       "    </tr>\n",
       "    <tr>\n",
       "      <th>6</th>\n",
       "      <td>9</td>\n",
       "      <td>1.530680</td>\n",
       "      <td>1.530680</td>\n",
       "      <td>1.526486</td>\n",
       "      <td>1.525200</td>\n",
       "    </tr>\n",
       "    <tr>\n",
       "      <th>7</th>\n",
       "      <td>10</td>\n",
       "      <td>1.516329</td>\n",
       "      <td>1.516329</td>\n",
       "      <td>1.516851</td>\n",
       "      <td>1.513206</td>\n",
       "    </tr>\n",
       "    <tr>\n",
       "      <th>8</th>\n",
       "      <td>20</td>\n",
       "      <td>1.459255</td>\n",
       "      <td>1.459255</td>\n",
       "      <td>1.477666</td>\n",
       "      <td>1.470824</td>\n",
       "    </tr>\n",
       "    <tr>\n",
       "      <th>9</th>\n",
       "      <td>30</td>\n",
       "      <td>1.433112</td>\n",
       "      <td>1.433112</td>\n",
       "      <td>1.461649</td>\n",
       "      <td>1.457760</td>\n",
       "    </tr>\n",
       "    <tr>\n",
       "      <th>10</th>\n",
       "      <td>40</td>\n",
       "      <td>1.421016</td>\n",
       "      <td>1.421016</td>\n",
       "      <td>1.454270</td>\n",
       "      <td>1.449683</td>\n",
       "    </tr>\n",
       "    <tr>\n",
       "      <th>11</th>\n",
       "      <td>50</td>\n",
       "      <td>1.413949</td>\n",
       "      <td>1.413949</td>\n",
       "      <td>1.449419</td>\n",
       "      <td>1.445069</td>\n",
       "    </tr>\n",
       "    <tr>\n",
       "      <th>12</th>\n",
       "      <td>60</td>\n",
       "      <td>1.408654</td>\n",
       "      <td>1.408655</td>\n",
       "      <td>1.446890</td>\n",
       "      <td>1.441729</td>\n",
       "    </tr>\n",
       "    <tr>\n",
       "      <th>13</th>\n",
       "      <td>70</td>\n",
       "      <td>1.403950</td>\n",
       "      <td>1.403950</td>\n",
       "      <td>1.444828</td>\n",
       "      <td>1.439043</td>\n",
       "    </tr>\n",
       "    <tr>\n",
       "      <th>14</th>\n",
       "      <td>80</td>\n",
       "      <td>1.401908</td>\n",
       "      <td>1.401908</td>\n",
       "      <td>1.443250</td>\n",
       "      <td>1.437633</td>\n",
       "    </tr>\n",
       "    <tr>\n",
       "      <th>15</th>\n",
       "      <td>90</td>\n",
       "      <td>1.400654</td>\n",
       "      <td>1.400654</td>\n",
       "      <td>1.441565</td>\n",
       "      <td>1.436645</td>\n",
       "    </tr>\n",
       "    <tr>\n",
       "      <th>16</th>\n",
       "      <td>100</td>\n",
       "      <td>1.399169</td>\n",
       "      <td>1.399169</td>\n",
       "      <td>1.440557</td>\n",
       "      <td>1.435329</td>\n",
       "    </tr>\n",
       "  </tbody>\n",
       "</table>\n",
       "</div>"
      ],
      "text/plain": [
       "      K  U-CF-cos  U-CF-pcc  I-CF-cos  I-CF-pcc\n",
       "0     3  1.779405  1.779405  1.709573  1.696627\n",
       "1     4  1.671566  1.671566  1.638831  1.630389\n",
       "2     5  1.628650  1.628650  1.602040  1.599177\n",
       "3     6  1.592868  1.592868  1.576482  1.570953\n",
       "4     7  1.568772  1.568772  1.554698  1.551938\n",
       "5     8  1.549735  1.549735  1.539944  1.536951\n",
       "6     9  1.530680  1.530680  1.526486  1.525200\n",
       "7    10  1.516329  1.516329  1.516851  1.513206\n",
       "8    20  1.459255  1.459255  1.477666  1.470824\n",
       "9    30  1.433112  1.433112  1.461649  1.457760\n",
       "10   40  1.421016  1.421016  1.454270  1.449683\n",
       "11   50  1.413949  1.413949  1.449419  1.445069\n",
       "12   60  1.408654  1.408655  1.446890  1.441729\n",
       "13   70  1.403950  1.403950  1.444828  1.439043\n",
       "14   80  1.401908  1.401908  1.443250  1.437633\n",
       "15   90  1.400654  1.400654  1.441565  1.436645\n",
       "16  100  1.399169  1.399169  1.440557  1.435329"
      ]
     },
     "execution_count": 72,
     "metadata": {},
     "output_type": "execute_result"
    }
   ],
   "source": [
    "# 將K轉成字串形式\n",
    "str_k = list(map(lambda x:str(x), K))\n",
    "# numpy to pandas\n",
    "df_test = pd.DataFrame({\"K\": str_k, \"U-CF-cos\":ucf_tcos, \"U-CF-pcc\":ucf_tpcc, \"I-CF-cos\":icf_tcos, \"I-CF-pcc\":icf_tpcc})\n",
    "df_test"
   ]
  },
  {
   "cell_type": "code",
   "execution_count": 73,
   "id": "9ff65de4-3c5a-4b17-b9ba-55277038d0ca",
   "metadata": {
    "execution": {
     "iopub.execute_input": "2021-10-12T06:22:34.735792Z",
     "iopub.status.busy": "2021-10-12T06:22:34.734709Z",
     "iopub.status.idle": "2021-10-12T06:22:35.128116Z",
     "shell.execute_reply": "2021-10-12T06:22:35.127911Z",
     "shell.execute_reply.started": "2021-10-12T06:22:34.735792Z"
    },
    "tags": []
   },
   "outputs": [
    {
     "data": {
      "image/png": "[encoded data removed]",
      "text/plain": [
       "<Figure size 2160x720 with 2 Axes>"
      ]
     },
     "metadata": {},
     "output_type": "display_data"
    }
   ],
   "source": [
    "fig,axes=plt.subplots(1,2, figsize=(30,10), sharey=True)\n",
    "plot_training_testing(df, axes[0], \"Training RMSE\")\n",
    "plot_training_testing(df_test, axes[1], \"Testing RMSE\")"
   ]
  },
  {
   "cell_type": "markdown",
   "id": "d84e267a-3872-41ea-beed-ecebd1593241",
   "metadata": {},
   "source": [
    "# 2. Latent Factor Model (Matrix Factorization)"
   ]
  },
  {
   "cell_type": "code",
   "execution_count": 77,
   "id": "8b19bdaf-4ffa-4f09-b9bd-b9da9be2349f",
   "metadata": {
    "execution": {
     "iopub.execute_input": "2021-10-12T06:23:07.158930Z",
     "iopub.status.busy": "2021-10-12T06:23:07.158930Z",
     "iopub.status.idle": "2021-10-12T06:23:07.172122Z",
     "shell.execute_reply": "2021-10-12T06:23:07.172122Z",
     "shell.execute_reply.started": "2021-10-12T06:23:07.158930Z"
    },
    "tags": []
   },
   "outputs": [
    {
     "data": {
      "text/plain": [
       "((75000, 4), (25000, 4))"
      ]
     },
     "execution_count": 77,
     "metadata": {},
     "output_type": "execute_result"
    }
   ],
   "source": [
    "# 存取使用者及電影名稱\n",
    "user = np.unique(data[:,0])\n",
    "movie = np.unique(data[:,1])\n",
    "\n",
    "# 訓練資料及測試資料\n",
    "train_data.shape, test_data.shape"
   ]
  },
  {
   "cell_type": "code",
   "execution_count": 78,
   "id": "5d476bdd-c6b8-422f-8660-b128c00d2e11",
   "metadata": {
    "execution": {
     "iopub.execute_input": "2021-10-12T06:23:07.858296Z",
     "iopub.status.busy": "2021-10-12T06:23:07.858296Z",
     "iopub.status.idle": "2021-10-12T06:23:21.073251Z",
     "shell.execute_reply": "2021-10-12T06:23:21.073014Z",
     "shell.execute_reply.started": "2021-10-12T06:23:07.858296Z"
    },
    "tags": []
   },
   "outputs": [
    {
     "name": "stderr",
     "output_type": "stream",
     "text": [
      "data transfer user matrix: 100%|███████████████████████████████████████████████████| 943/943 [00:13<00:00, 71.52it/s]\n"
     ]
    }
   ],
   "source": [
    "# init user_matrix as zero matrix\n",
    "user_item = np.zeros((len(user), len(movie)))\n",
    "\n",
    "# 將資料轉成矩陣形式\n",
    "for u in tqdm(user, desc='data transfer user matrix'):\n",
    "    '''\n",
    "    train_data[train_data[:,0] == u] : 過濾出u使用者所有的評分資料\n",
    "    train_data[train_data[:,0] == u][:,1]: 取得u使用者所有評分過的電影名稱\n",
    "    '''\n",
    "    rate_index = train_data[train_data[:,0] == u][:,1]\n",
    "    for rate in rate_index:\n",
    "        '''\n",
    "        user_matrix[u-1, rate-1]: 欲設置的rateing位置\n",
    "        train_data[(train_data[:,0] == u) & (train_data[:,1] == rate)]: 取出u使用者對於評論過特定電影的資料\n",
    "        '''\n",
    "        user_item[u-1, rate-1] = train_data[(train_data[:,0] == u) & (train_data[:,1] == rate)][:,2].item()"
   ]
  },
  {
   "cell_type": "markdown",
   "id": "ca191ec0-ec7f-42c9-a0ac-7a45cd1e9174",
   "metadata": {},
   "source": [
    "## 2.1. Initialize latent matrix"
   ]
  },
  {
   "cell_type": "code",
   "execution_count": 214,
   "id": "83979866-ef6f-4646-8d85-fd55c7e52a39",
   "metadata": {
    "execution": {
     "iopub.execute_input": "2021-10-12T13:25:00.015913Z",
     "iopub.status.busy": "2021-10-12T13:25:00.015913Z",
     "iopub.status.idle": "2021-10-12T13:25:00.031690Z",
     "shell.execute_reply": "2021-10-12T13:25:00.031690Z",
     "shell.execute_reply.started": "2021-10-12T13:25:00.015913Z"
    },
    "tags": []
   },
   "outputs": [],
   "source": [
    "# init lentent vector\n",
    "K = 20\n",
    "# init user lentent matrix\n",
    "P = np.random.uniform(low=0, high=3, size=(len(user), K))\n",
    "# init movie lentent matrix\n",
    "Q = np.random.uniform(low=0, high=3, size=(len(movie), K))"
   ]
  },
  {
   "cell_type": "markdown",
   "id": "d7c5c4bd-31b9-4b0a-99ad-57691c0f6c20",
   "metadata": {},
   "source": [
    "## 2.2. Use SGD optimization algorithm update latent matrix"
   ]
  },
  {
   "cell_type": "code",
   "execution_count": 219,
   "id": "aa54e53f-46bb-490b-b1f0-2917c55ca215",
   "metadata": {
    "execution": {
     "iopub.execute_input": "2021-10-12T13:27:12.809604Z",
     "iopub.status.busy": "2021-10-12T13:27:12.809604Z",
     "iopub.status.idle": "2021-10-12T13:27:14.189686Z",
     "shell.execute_reply": "2021-10-12T13:27:14.189434Z",
     "shell.execute_reply.started": "2021-10-12T13:27:12.809604Z"
    },
    "tags": []
   },
   "outputs": [],
   "source": [
    "# 設定SGD learning_rate\n",
    "alpha = 0.01\n",
    "# 設定正則化參數\n",
    "l = 0.1\n",
    "\n",
    "# 針對user有評分過的rating位置進行更新(User Latent Matrix)\n",
    "for j in range(len(user)):\n",
    "    # 找出使用者j對哪幾部電影評分的index\n",
    "    movie_index = [i for i, e in enumerate(user_item[j]) if e != 0]\n",
    "    for m in movie_index:\n",
    "        # 若user item 有值則對Q的相對欄位進行SGD更新\n",
    "        Q[m] -= alpha * ((np.dot(P[j], Q[m]) - user_item[j,m]) * P[j] + l*(Q[m]))\n",
    "\n",
    "# 針對電影有被評分過的rating位置進行更新(Item Latent Matrix)\n",
    "for m in range(len(movie)):\n",
    "    # 找出使用者j對哪幾部電影評分的index\n",
    "    user_index = [u for u, e in enumerate(user_item[:,m]) if e != 0]\n",
    "    for j in user_index:\n",
    "        # 若user item 有值則對Q的相對欄位進行SGD更新\n",
    "        P[j] -= alpha * ((np.dot(P[j], Q[m]) - user_item[j,m]) * Q[m] + l*(P[j]))\n",
    " "
   ]
  },
  {
   "cell_type": "code",
   "execution_count": null,
   "id": "6747fb21-d144-4bf9-914c-9fb96b688837",
   "metadata": {},
   "outputs": [],
   "source": []
  }
 ],
 "metadata": {
  "kernelspec": {
   "display_name": "Python 3 (ipykernel)",
   "language": "python",
   "name": "python3"
  },
  "language_info": {
   "codemirror_mode": {
    "name": "ipython",
    "version": 3
   },
   "file_extension": ".py",
   "mimetype": "text/x-python",
   "name": "python",
   "nbconvert_exporter": "python",
   "pygments_lexer": "ipython3",
   "version": "3.9.7"
  }
 },
 "nbformat": 4,
 "nbformat_minor": 5
}
