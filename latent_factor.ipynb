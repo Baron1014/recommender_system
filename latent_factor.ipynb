{
 "cells": [
  {
   "cell_type": "markdown",
   "id": "60aa6fb8-85b1-46de-9707-06d4c579f0b1",
   "metadata": {},
   "source": [
    "# 0. Preparation"
   ]
  },
  {
   "cell_type": "code",
   "execution_count": 177,
   "id": "93391d63-9c0b-44d3-8583-8f1184a95d4c",
   "metadata": {},
   "outputs": [],
   "source": [
    "import numpy as np\n",
    "import heapq\n",
    "from tqdm import tqdm\n",
    "from sklearn.model_selection import train_test_split\n",
    "from sklearn.metrics import mean_squared_error as mse"
   ]
  },
  {
   "cell_type": "markdown",
   "id": "6e5fe571-06f7-4208-85da-b4a59f2edfac",
   "metadata": {},
   "source": [
    "## 0.1. load data"
   ]
  },
  {
   "cell_type": "code",
   "execution_count": 9,
   "id": "9ff26504-f3e0-4e8f-98b6-c1392deb1922",
   "metadata": {},
   "outputs": [
    {
     "name": "stdout",
     "output_type": "stream",
     "text": [
      "(100000, 4)\n",
      "[[      196       242         3 881250949]\n",
      " [      186       302         3 891717742]\n",
      " [       22       377         1 878887116]\n",
      " [      244        51         2 880606923]\n",
      " [      166       346         1 886397596]]\n"
     ]
    }
   ],
   "source": [
    "# 資料位置設置\n",
    "data_path = \"../data/ratings.data\"\n",
    "\n",
    "# 讀取資料\n",
    "data = np.loadtxt(data_path, dtype=int)\n",
    "print(data.shape)\n",
    "print(data[:5])"
   ]
  },
  {
   "cell_type": "code",
   "execution_count": 43,
   "id": "cce71308-9800-4f23-97ba-075fc7d6e476",
   "metadata": {},
   "outputs": [
    {
     "name": "stdout",
     "output_type": "stream",
     "text": [
      "(943,) (1682,)\n"
     ]
    }
   ],
   "source": [
    "# 存取使用者及電影名稱\n",
    "user = np.unique(data[:,0])\n",
    "movie = np.unique(data[:,1])\n",
    "print(user.shape, movie.shape)"
   ]
  },
  {
   "cell_type": "markdown",
   "id": "14fc9e6f-0b90-47e0-b4dc-33b147d7f6d5",
   "metadata": {
    "tags": []
   },
   "source": [
    "## 0.2. split training data & testing data"
   ]
  },
  {
   "cell_type": "code",
   "execution_count": 17,
   "id": "6ecc1b03-c97a-46f8-8489-549ad1102567",
   "metadata": {},
   "outputs": [
    {
     "name": "stdout",
     "output_type": "stream",
     "text": [
      "(75000, 4) (25000, 4)\n"
     ]
    }
   ],
   "source": [
    "# 將資料切分為訓練資料及測試資料\n",
    "train_data, test_data = train_test_split(data, test_size = 0.25)\n",
    "print(train_data.shape, test_data.shape)"
   ]
  },
  {
   "cell_type": "markdown",
   "id": "f2474969-7a95-4f57-b1a5-0c9c84e8a40a",
   "metadata": {},
   "source": [
    "# 1. Collaborative Filtering (CF)"
   ]
  },
  {
   "cell_type": "markdown",
   "id": "af059e84-c80b-4111-9f9a-c2f366a45877",
   "metadata": {},
   "source": [
    "## 1.1. User-based Collaborative Filtering (U-CF)"
   ]
  },
  {
   "cell_type": "code",
   "execution_count": 104,
   "id": "a84b0fb5-9d73-41f8-8a61-27ccb1737bc5",
   "metadata": {},
   "outputs": [
    {
     "name": "stderr",
     "output_type": "stream",
     "text": [
      "data transfer user matrix: 100%|█████████████████████████████████████████████████████████████████████████████████████████████████████████████████████████████████████████████████| 943/943 [00:13<00:00, 69.93it/s]\n"
     ]
    }
   ],
   "source": [
    "# init user_matrix as zero matrix\n",
    "user_matrix = np.zeros((len(user), len(movie)))\n",
    "\n",
    "for u in tqdm(user, desc='data transfer user matrix'):\n",
    "    '''\n",
    "    train_data[train_data[:,0] == u] : 過濾出u使用者所有的評分資料\n",
    "    train_data[train_data[:,0] == u][:,1]: 取得u使用者所有評分過的電影名稱\n",
    "    '''\n",
    "    rate_index = train_data[train_data[:,0] == u][:,1]\n",
    "    for rate in rate_index:\n",
    "        '''\n",
    "        user_matrix[u-1, rate-1]: 欲設置的rateing位置\n",
    "        train_data[(train_data[:,0] == u) & (train_data[:,1] == rate)]: 取出u使用者對於評論過特定電影的資料\n",
    "        '''\n",
    "        user_matrix[u-1, rate-1] = train_data[(train_data[:,0] == u) & (train_data[:,1] == rate)][:,2].item()"
   ]
  },
  {
   "cell_type": "code",
   "execution_count": 159,
   "id": "48102b89-9d5b-4ccc-b806-e907510cd87b",
   "metadata": {},
   "outputs": [],
   "source": [
    "# 計算使用者平均評分\n",
    "user_mean = np.mean(user_matrix, axis = 1)\n",
    "# 使用個別使用者平均校正使用者對電影的評分\n",
    "user_adjust = user_matrix - np.reshape(user_mean, (-1, 1))"
   ]
  },
  {
   "cell_type": "code",
   "execution_count": 228,
   "id": "575d533b-2c8d-4bc3-82c1-e6afbda9945c",
   "metadata": {},
   "outputs": [],
   "source": [
    "# 計算向量長度\n",
    "def norm(v):\n",
    "    return np.sqrt(np.sum(np.power(v,2)))\n",
    "\n",
    "# 計算兩個向量的cosine相似度\n",
    "def cos_sim(a, b):\n",
    "    return np.inner(a,b) / (norm(a)*norm(b))   \n",
    "\n",
    "# 計算使用者兩兩之間的相似度，且自己與自己的相似度調整為0\n",
    "def get_sim_dict(user):\n",
    "    # init 使用者相似度名單\n",
    "    S_dict = dict()\n",
    "    \n",
    "    for u in tqdm(range(len(user)), desc='caculator u & v similar'):\n",
    "        # init 使用者u跟使用者v的相似度\n",
    "        uv_sim = list()\n",
    "        for v in range(len(user)):\n",
    "            if u != v:\n",
    "                # 計算使用者u、v的cosine\n",
    "                s = cos_sim(user_adjust[u], user_adjust[v])\n",
    "                uv_sim.append(s)\n",
    "            else:\n",
    "                # 為了保持index不會跑掉，因此在自己的位置不做計算且補0\n",
    "                uv_sim.append(0)\n",
    "        S_dict[u] = uv_sim\n",
    "    \n",
    "    return S_dict\n",
    "\n",
    "# 推測評分\n",
    "def predict(S, R):\n",
    "    return np.dot(S,R)/np.sum(S)"
   ]
  },
  {
   "cell_type": "code",
   "execution_count": 193,
   "id": "40f5d0fe-8c3d-4612-845a-7aae2f23052a",
   "metadata": {},
   "outputs": [
    {
     "name": "stderr",
     "output_type": "stream",
     "text": [
      "caculator u & v similar: 100%|███████████████████████████████████████████████████████████████████████████████████████████████████████████████████████████████████████████████████| 943/943 [01:31<00:00, 10.27it/s]\n"
     ]
    }
   ],
   "source": [
    "# 取得user間的相似度名單\n",
    "s_dict = get_sim_dict(user)"
   ]
  },
  {
   "cell_type": "code",
   "execution_count": 231,
   "id": "bcdf95a9-ae97-469f-8a2f-d65448c0f4fb",
   "metadata": {},
   "outputs": [
    {
     "data": {
      "text/plain": [
       "array([[ 4.57728894,  2.57728894,  3.57728894, ..., -0.42271106,\n",
       "        -0.42271106, -0.42271106],\n",
       "       [ 3.89952438, -0.10047562, -0.10047562, ..., -0.10047562,\n",
       "        -0.10047562, -0.10047562],\n",
       "       [-0.07074911, -0.07074911, -0.07074911, ..., -0.07074911,\n",
       "        -0.07074911, -0.07074911],\n",
       "       ...,\n",
       "       [ 4.96254459, -0.03745541, -0.03745541, ..., -0.03745541,\n",
       "        -0.03745541, -0.03745541],\n",
       "       [-0.13614744, -0.13614744, -0.13614744, ..., -0.13614744,\n",
       "        -0.13614744, -0.13614744],\n",
       "       [-0.25505351, -0.25505351, -0.25505351, ..., -0.25505351,\n",
       "        -0.25505351, -0.25505351]])"
      ]
     },
     "execution_count": 231,
     "metadata": {},
     "output_type": "execute_result"
    }
   ],
   "source": [
    "user_adjust"
   ]
  },
  {
   "cell_type": "code",
   "execution_count": 243,
   "id": "9745cd8e-2709-46e2-a060-84e6c18232cd",
   "metadata": {},
   "outputs": [
    {
     "name": "stderr",
     "output_type": "stream",
     "text": [
      "predicting: 100%|████████████████████████████████████████████████████████████████████████████████████████████████████████████████████████████████████████████████████████████████| 943/943 [00:15<00:00, 59.49it/s]\n"
     ]
    }
   ],
   "source": [
    "# 與不同K個使用者相似程度比較\n",
    "K = [3,4,5,6,7,8,9,10,20,30,40,50, 60,70,80,90,100]\n",
    "predict_matrix = np.zeros((len(user), len(movie)))\n",
    "\n",
    "# 取出前K個相似度最大的電影名稱，並設置於N\n",
    "for i in tqdm(s_dict.keys(), desc=\"predicting\"):\n",
    "    # Suv: 取出前K個最相似的使用者相似度 ex:K=3, output=[0.378, 0.353, 0.336]\n",
    "    Suv = heapq.nlargest(K[0],s_dict[i])\n",
    "    # top_sim_index: 取出前K個最相似的使用者相似度(index) ex:K=3, output=[915, 406, 214]\n",
    "    top_sim_index = list(map(s_dict[i].index, heapq.nlargest(K[0],s_dict[i])))\n",
    "    # 利用相似的使用者對使用者u的每一部電影做評分預測\n",
    "    for m in range(len(movie)):\n",
    "        # R: 相似使用者對電影 m 的調整後評分\n",
    "        R = [user_adjust[:,m][j] for j in top_sim_index]\n",
    "        # 預測使用者u對於第m部電影的評分\n",
    "        Rui = predict(Suv, R)\n",
    "        predict_matrix[i, m] = Rui"
   ]
  },
  {
   "cell_type": "code",
   "execution_count": 244,
   "id": "2f42d513-389b-46b1-9ca9-274d04ddf61d",
   "metadata": {},
   "outputs": [
    {
     "data": {
      "text/plain": [
       "array([ 2.38905349, -0.35095965, -0.35095965, ..., -0.35095965,\n",
       "       -0.35095965,  0.71119082])"
      ]
     },
     "execution_count": 244,
     "metadata": {},
     "output_type": "execute_result"
    }
   ],
   "source": [
    "predict_matrix[0]"
   ]
  }
 ],
 "metadata": {
  "kernelspec": {
   "display_name": "Python 3 (ipykernel)",
   "language": "python",
   "name": "python3"
  },
  "language_info": {
   "codemirror_mode": {
    "name": "ipython",
    "version": 3
   },
   "file_extension": ".py",
   "mimetype": "text/x-python",
   "name": "python",
   "nbconvert_exporter": "python",
   "pygments_lexer": "ipython3",
   "version": "3.9.7"
  }
 },
 "nbformat": 4,
 "nbformat_minor": 5
}
