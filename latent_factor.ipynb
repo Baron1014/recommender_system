{
 "cells": [
  {
   "cell_type": "markdown",
   "id": "60aa6fb8-85b1-46de-9707-06d4c579f0b1",
   "metadata": {},
   "source": [
    "# 0. Preparation"
   ]
  },
  {
   "cell_type": "code",
   "execution_count": 4,
   "id": "93391d63-9c0b-44d3-8583-8f1184a95d4c",
   "metadata": {
    "tags": []
   },
   "outputs": [],
   "source": [
    "import numpy as np\n",
    "import heapq\n",
    "import pandas as pd\n",
    "import seaborn as sns\n",
    "import scipy\n",
    "import matplotlib.pyplot as plt\n",
    "from tqdm import tqdm\n",
    "import copy\n",
    "from sklearn.model_selection import train_test_split\n",
    "from sklearn.metrics import mean_squared_error as mse"
   ]
  },
  {
   "cell_type": "markdown",
   "id": "6e5fe571-06f7-4208-85da-b4a59f2edfac",
   "metadata": {},
   "source": [
    "## 0.1. load data"
   ]
  },
  {
   "cell_type": "code",
   "execution_count": 5,
   "id": "9ff26504-f3e0-4e8f-98b6-c1392deb1922",
   "metadata": {
    "tags": []
   },
   "outputs": [
    {
     "name": "stdout",
     "output_type": "stream",
     "text": [
      "(100000, 4)\n",
      "[[      196       242         3 881250949]\n",
      " [      186       302         3 891717742]\n",
      " [       22       377         1 878887116]\n",
      " [      244        51         2 880606923]\n",
      " [      166       346         1 886397596]]\n"
     ]
    }
   ],
   "source": [
    "# 資料位置設置\n",
    "data_path = \"../data/ratings.data\"\n",
    "\n",
    "# 讀取資料\n",
    "data = np.loadtxt(data_path, dtype=int)\n",
    "print(data.shape)\n",
    "print(data[:5])"
   ]
  },
  {
   "cell_type": "code",
   "execution_count": 6,
   "id": "cce71308-9800-4f23-97ba-075fc7d6e476",
   "metadata": {
    "tags": []
   },
   "outputs": [
    {
     "name": "stdout",
     "output_type": "stream",
     "text": [
      "(943,) (1682,)\n"
     ]
    }
   ],
   "source": [
    "# 存取使用者及電影名稱\n",
    "user = np.unique(data[:,0])\n",
    "movie = np.unique(data[:,1])\n",
    "print(user.shape, movie.shape)"
   ]
  },
  {
   "cell_type": "markdown",
   "id": "14fc9e6f-0b90-47e0-b4dc-33b147d7f6d5",
   "metadata": {
    "tags": []
   },
   "source": [
    "## 0.2. split training data & testing data"
   ]
  },
  {
   "cell_type": "code",
   "execution_count": 7,
   "id": "6ecc1b03-c97a-46f8-8489-549ad1102567",
   "metadata": {
    "tags": []
   },
   "outputs": [
    {
     "name": "stdout",
     "output_type": "stream",
     "text": [
      "(75000, 4) (25000, 4)\n"
     ]
    }
   ],
   "source": [
    "# 將資料切分為訓練資料及測試資料\n",
    "train_data, test_data = train_test_split(data, test_size = 0.25, random_state=42)\n",
    "print(train_data.shape, test_data.shape)"
   ]
  },
  {
   "cell_type": "markdown",
   "id": "f2474969-7a95-4f57-b1a5-0c9c84e8a40a",
   "metadata": {
    "tags": []
   },
   "source": [
    "# 1. Collaborative Filtering (CF)"
   ]
  },
  {
   "cell_type": "code",
   "execution_count": 152,
   "id": "93489fd8-4997-4ce2-bdf2-2c20ffdb0fc6",
   "metadata": {
    "tags": []
   },
   "outputs": [],
   "source": [
    "# 針對向量非0地方做計算\n",
    "def non_zero_mean(arr):\n",
    "    exist = arr != 0\n",
    "    total = arr.sum(axis = 1)\n",
    "    exist_number = exist.sum(axis=1)\n",
    "    \n",
    "    return np.reshape(total/exist_number, (-1, 1))\n",
    "\n",
    "# 針對單一向量非0地方做計算\n",
    "def non_zero_vec_mean(vec):\n",
    "    exist = vec != 0\n",
    "    total = vec.sum()\n",
    "    if total == 0: return 0\n",
    "    exist_number = exist.sum()\n",
    "    \n",
    "    return total/exist_number\n",
    "\n",
    "\n",
    "# 取得整體平均\n",
    "def get_u():    \n",
    "    return np.mean(non_zero_mean(user_matrix))\n",
    "    \n",
    "    \n",
    "# 計算向量長度\n",
    "def norm(v):\n",
    "    return np.sqrt(np.sum(np.power(v, 2)))\n",
    "\n",
    "# 計算兩個向量的 cosine 相似度\n",
    "def cos_sim(a, b):\n",
    "    s = norm(a)*norm(b)\n",
    "    if s == 0:\n",
    "        return 0\n",
    "    \n",
    "    return np.inner(a,b) / s\n",
    "\n",
    "# 計算兩個向量的 Pearson Correlation Coefficient 相似度\n",
    "def pcc_sim(a, b):\n",
    "    mean_a = non_zero_vec_mean(a)\n",
    "    mean_b = non_zero_vec_mean(b)\n",
    "    s = np.sqrt(np.sum(np.power((a-mean_a), 2))) * np.sqrt(np.sum(np.power((b-mean_b), 2)))\n",
    "    if s == 0:\n",
    "        return 0\n",
    "    \n",
    "    return np.inner(a-mean_a, b-mean_b) / s\n",
    "    \n",
    "\n",
    "# 計算兩兩之間的相似度，且自己與自己的相似度調整為0\n",
    "def get_sim_dict(target, arr):\n",
    "    # init 目標相似度名單(cos & pcc)\n",
    "    cos_dict = dict()\n",
    "    pcc_dict = dict()\n",
    "    \n",
    "    for u in tqdm(range(len(target)), desc='caculator u & v similar'):\n",
    "        # init 目標 u 跟 v 的相似度\n",
    "        uv_cos = list()\n",
    "        uv_pcc = list()\n",
    "        for v in range(len(target)):\n",
    "            if u != v:\n",
    "                # 計算使用者u、v的cosine\n",
    "                uv_cos.append(cos_sim(arr[u], arr[v]))\n",
    "                uv_pcc.append(pcc_sim(arr[u], arr[v]))\n",
    "            else:\n",
    "                # 為了保持index不會跑掉，因此在自己的位置不做計算且補0\n",
    "                uv_cos.append(0)\n",
    "                uv_pcc.append(0)\n",
    "\n",
    "        cos_dict[u] = uv_cos\n",
    "        pcc_dict[u] = uv_pcc        \n",
    "    \n",
    "    return cos_dict, pcc_dict\n",
    "\n",
    "# 推測評分\n",
    "def predict(S, R):\n",
    "    s = np.sum(S)\n",
    "    if s == 0:\n",
    "        return 0\n",
    "    \n",
    "    return np.dot(S,R)/ s\n",
    "\n",
    "# Vistualize Result\n",
    "def plot_result(df, title):\n",
    "    sns.set_style('whitegrid')\n",
    "    sns.set_context('talk')\n",
    "    plt.figure(figsize=(15,10))\n",
    "    plt.title(title)\n",
    "    for c in df.columns:\n",
    "        if c != \"K\":\n",
    "            g = sns.lineplot(data=df, x=\"K\", y=c, label=c)\n",
    "    g.set(ylabel = \"RMSE\")\n",
    "\n",
    "# Vistualize Testing & Training Result\n",
    "def plot_training_testing(df, ax, title):\n",
    "    sns.set_style('whitegrid')\n",
    "    sns.set_context('talk')\n",
    "    ax.set_title(title)\n",
    "    for c in df.columns:\n",
    "        if c != \"K\":\n",
    "            g = sns.lineplot(ax=ax, data=df, x=\"K\", y=c, label=c)\n",
    "    g.set(ylabel = \"RMSE\")\n",
    "    \n",
    "# item bias\n",
    "def get_ibias(i):\n",
    "    return non_zero_vec_mean(user_matrix[:,i]) \n",
    "\n",
    "# user bias\n",
    "def get_ubias(u):\n",
    "    return non_zero_vec_mean(user_matrix[u]) \n",
    "\n",
    "# 偏差修正\n",
    "def get_bias(arr):\n",
    "    # 計算bias\n",
    "    bias_matrix = np.zeros((len(user), len(movie)))\n",
    "    mean = get_u()\n",
    "\n",
    "     # init u + bu\n",
    "    for u in range(bias_matrix.shape[0]):\n",
    "        bias_matrix[u] = get_ubias(u)\n",
    "\n",
    "    # Bias = u + bu + bi\n",
    "    for i in range(bias_matrix.shape[1]):\n",
    "        bias_matrix[:,i] += get_ibias(i) - mean\n",
    "\n",
    "    # 刪除原本沒有評分的bias\n",
    "    for i in range(arr.shape[0]):\n",
    "        for j in range(arr.shape[1]):\n",
    "            if arr[i,j] == 0:\n",
    "                bias_matrix[i,j] = 0\n",
    "    \n",
    "    return bias_matrix\n",
    "\n",
    "# square error\n",
    "def se(t, p):\n",
    "    return (p-t)**2\n",
    "\n",
    "# rmse\n",
    "def rmse(delta_list):\n",
    "    if len(delta_list)==0:\n",
    "        return None\n",
    "    \n",
    "    return (sum(delta_list)/len(delta_list))**0.5"
   ]
  },
  {
   "cell_type": "markdown",
   "id": "af059e84-c80b-4111-9f9a-c2f366a45877",
   "metadata": {
    "tags": []
   },
   "source": [
    "## 1.1. User-based Collaborative Filtering (U-CF)"
   ]
  },
  {
   "cell_type": "code",
   "execution_count": 9,
   "id": "a84b0fb5-9d73-41f8-8a61-27ccb1737bc5",
   "metadata": {
    "tags": []
   },
   "outputs": [
    {
     "name": "stderr",
     "output_type": "stream",
     "text": [
      "data transfer user matrix: 100%|████████████████████████████████████████████████████████████████████████████████████████████████████████████████| 943/943 [00:20<00:00, 45.98it/s]\n"
     ]
    }
   ],
   "source": [
    "# init user_matrix as zero matrix\n",
    "user_matrix = np.zeros((len(user), len(movie)))\n",
    "\n",
    "for u in tqdm(user, desc='data transfer user matrix'):\n",
    "    '''\n",
    "    train_data[train_data[:,0] == u] : 過濾出u使用者所有的評分資料\n",
    "    train_data[train_data[:,0] == u][:,1]: 取得u使用者所有評分過的電影名稱\n",
    "    '''\n",
    "    rate_index = train_data[train_data[:,0] == u][:,1]\n",
    "    for rate in rate_index:\n",
    "        '''\n",
    "        user_matrix[u-1, rate-1]: 欲設置的rateing位置\n",
    "        train_data[(train_data[:,0] == u) & (train_data[:,1] == rate)]: 取出u使用者對於評論過特定電影的資料\n",
    "        '''\n",
    "        user_matrix[u-1, rate-1] = train_data[(train_data[:,0] == u) & (train_data[:,1] == rate)][:,2].item()"
   ]
  },
  {
   "cell_type": "code",
   "execution_count": 182,
   "id": "48102b89-9d5b-4ccc-b806-e907510cd87b",
   "metadata": {
    "tags": []
   },
   "outputs": [
    {
     "name": "stdout",
     "output_type": "stream",
     "text": [
      "user_matrix:\n",
      "[[0. 3. 4. ... 0. 0. 0.]\n",
      " [4. 0. 0. ... 0. 0. 0.]\n",
      " [0. 0. 0. ... 0. 0. 0.]\n",
      " ...\n",
      " [5. 0. 0. ... 0. 0. 0.]\n",
      " [0. 0. 0. ... 0. 0. 0.]\n",
      " [0. 5. 0. ... 0. 0. 0.]] \n",
      "\n",
      "after adjust:\n",
      "[[-0.4351962   2.5648038   3.5648038  ... -0.4351962  -0.4351962\n",
      "  -0.4351962 ]\n",
      " [ 3.9019025  -0.0980975  -0.0980975  ... -0.0980975  -0.0980975\n",
      "  -0.0980975 ]\n",
      " [-0.07015458 -0.07015458 -0.07015458 ... -0.07015458 -0.07015458\n",
      "  -0.07015458]\n",
      " ...\n",
      " [ 4.96016647 -0.03983353 -0.03983353 ... -0.03983353 -0.03983353\n",
      "  -0.03983353]\n",
      " [-0.15338882 -0.15338882 -0.15338882 ... -0.15338882 -0.15338882\n",
      "  -0.15338882]\n",
      " [-0.25743163  4.74256837 -0.25743163 ... -0.25743163 -0.25743163\n",
      "  -0.25743163]]\n"
     ]
    }
   ],
   "source": [
    "# 計算使用者平均評分\n",
    "user_mean = non_zero_mean(user_matrix)\n",
    "# 使用個別使用者平均校正使用者對電影的評分\n",
    "# user_adjust = np.where(user_matrix == 0, user_matrix, user_matrix-user_mean)\n",
    "user_adjust = user_matrix - np.mean(user_matrix, axis=1).reshape(-1, 1)\n",
    "print(f\"user_matrix:\\n{user_matrix} \\n\\nafter adjust:\\n{user_adjust}\")"
   ]
  },
  {
   "cell_type": "code",
   "execution_count": 193,
   "id": "40f5d0fe-8c3d-4612-845a-7aae2f23052a",
   "metadata": {
    "tags": []
   },
   "outputs": [
    {
     "name": "stderr",
     "output_type": "stream",
     "text": [
      "caculator u & v similar: 100%|██████████████████████████████████████████████████████████████████████████████████████████████████████████████████| 943/943 [01:04<00:00, 14.57it/s]\n"
     ]
    }
   ],
   "source": [
    "# 計算bias\n",
    "bias_matrix = get_bias(user_matrix)\n",
    "\n",
    "# 取得user間的相似度名單\n",
    "cos_dict, pcc_dict = get_sim_dict(user, user_matrix)"
   ]
  },
  {
   "cell_type": "markdown",
   "id": "72a9bca1-e79b-4954-a6f2-dfa82368bae7",
   "metadata": {
    "tags": []
   },
   "source": [
    "### 1.1.1.  User‐Based CF use Cosine result"
   ]
  },
  {
   "cell_type": "code",
   "execution_count": 194,
   "id": "9745cd8e-2709-46e2-a060-84e6c18232cd",
   "metadata": {
    "tags": []
   },
   "outputs": [
    {
     "name": "stderr",
     "output_type": "stream",
     "text": [
      "predicting K = 3: 100%|████████████████████████████████████████████████████████████████████████████████████████████████████████████████████████| 943/943 [00:01<00:00, 790.12it/s]\n",
      "predicting K = 4: 100%|████████████████████████████████████████████████████████████████████████████████████████████████████████████████████████| 943/943 [00:01<00:00, 720.80it/s]\n",
      "predicting K = 5: 100%|████████████████████████████████████████████████████████████████████████████████████████████████████████████████████████| 943/943 [00:01<00:00, 651.92it/s]\n",
      "predicting K = 6: 100%|████████████████████████████████████████████████████████████████████████████████████████████████████████████████████████| 943/943 [00:01<00:00, 601.85it/s]\n",
      "predicting K = 7: 100%|████████████████████████████████████████████████████████████████████████████████████████████████████████████████████████| 943/943 [00:01<00:00, 569.26it/s]\n",
      "predicting K = 8: 100%|████████████████████████████████████████████████████████████████████████████████████████████████████████████████████████| 943/943 [00:01<00:00, 531.89it/s]\n",
      "predicting K = 9: 100%|████████████████████████████████████████████████████████████████████████████████████████████████████████████████████████| 943/943 [00:01<00:00, 496.47it/s]\n",
      "predicting K = 10: 100%|███████████████████████████████████████████████████████████████████████████████████████████████████████████████████████| 943/943 [00:02<00:00, 468.70it/s]\n",
      "predicting K = 20: 100%|███████████████████████████████████████████████████████████████████████████████████████████████████████████████████████| 943/943 [00:03<00:00, 300.20it/s]\n",
      "predicting K = 30: 100%|███████████████████████████████████████████████████████████████████████████████████████████████████████████████████████| 943/943 [00:04<00:00, 225.08it/s]\n",
      "predicting K = 40: 100%|███████████████████████████████████████████████████████████████████████████████████████████████████████████████████████| 943/943 [00:05<00:00, 179.54it/s]\n",
      "predicting K = 50: 100%|███████████████████████████████████████████████████████████████████████████████████████████████████████████████████████| 943/943 [00:06<00:00, 149.33it/s]\n",
      "predicting K = 60: 100%|███████████████████████████████████████████████████████████████████████████████████████████████████████████████████████| 943/943 [00:07<00:00, 127.46it/s]\n",
      "predicting K = 70: 100%|███████████████████████████████████████████████████████████████████████████████████████████████████████████████████████| 943/943 [00:08<00:00, 108.42it/s]\n",
      "predicting K = 80: 100%|████████████████████████████████████████████████████████████████████████████████████████████████████████████████████████| 943/943 [00:09<00:00, 98.04it/s]\n",
      "predicting K = 90: 100%|████████████████████████████████████████████████████████████████████████████████████████████████████████████████████████| 943/943 [00:10<00:00, 89.73it/s]\n",
      "predicting K = 100: 100%|███████████████████████████████████████████████████████████████████████████████████████████████████████████████████████| 943/943 [00:11<00:00, 79.86it/s]\n"
     ]
    }
   ],
   "source": [
    "# 與不同K個使用者相似程度比較\n",
    "K = [3,4,5,6,7,8,9,10,20,30,40,50, 60,70,80,90,100]\n",
    "ucf_cos = list()\n",
    "\n",
    "# 針對不同相似使用者個數進行分析\n",
    "for k in K:\n",
    "    predict_matrix = np.zeros((len(user), len(movie)))\n",
    "    delta_list = list()\n",
    "    # 取出前K個相似度最大的電影名稱，並設置於N\n",
    "    for i in tqdm(cos_dict.keys(), desc=f\"predicting K = {k}\"):\n",
    "        # Suv: 取出前K個最相似的使用者相似度 ex:K=3, output=[0.378, 0.353, 0.336]\n",
    "        Suv = heapq.nlargest(k,cos_dict[i])\n",
    "        # top_sim_index: 取出前K個最相似的使用者相似度(index) ex:K=3, output=[915, 406, 214]\n",
    "        top_sim_index = list(map(cos_dict[i].index, heapq.nlargest(k,cos_dict[i])))\n",
    "        # 利用相似的使用者對使用者i的每一部電影做評分預測\n",
    "        for m in range(len(movie)):\n",
    "            # ground truth\n",
    "            rth = user_matrix[i, m]\n",
    "            # 如果原始評分不為0，則納入計算RMSE\n",
    "            if rth != 0:\n",
    "                # copy Suv\n",
    "                copy_Suv = copy.deepcopy(Suv)\n",
    "                # R: 若相似使用者對電影 m 有評分則進行調整\n",
    "                R = list()\n",
    "                for c, j in enumerate(top_sim_index):\n",
    "                    if  user_matrix[j, m] == 0:\n",
    "                        R.append(0)\n",
    "                        copy_Suv[c] = 0\n",
    "                    else:\n",
    "                        R.append(user_matrix[j, m] - bias_matrix[j, m])\n",
    "\n",
    "                # 預測使用者u對於第m部電影的評分 + 使用者i及電影m的偏差\n",
    "                Rui = predict(copy_Suv, R) + bias_matrix[i, m]\n",
    "                # predict_matrix[i, m] = Rui\n",
    "                # 計算RMSE\n",
    "                delta_list.append(se(rth, Rui))\n",
    "    ucf_cos.append(rmse(delta_list))"
   ]
  },
  {
   "cell_type": "markdown",
   "id": "65173eef-ddd9-409b-a156-36875ab7e299",
   "metadata": {},
   "source": [
    "### 1.1.2. User‐Based CF use Pearson Correlation Coefficient result"
   ]
  },
  {
   "cell_type": "code",
   "execution_count": 195,
   "id": "82f6e2f3-6c7f-4c16-b7d0-7e528557e09f",
   "metadata": {
    "tags": []
   },
   "outputs": [
    {
     "name": "stderr",
     "output_type": "stream",
     "text": [
      "predicting K = 3: 100%|████████████████████████████████████████████████████████████████████████████████████████████████████████████████████████| 943/943 [00:01<00:00, 871.34it/s]\n",
      "predicting K = 4: 100%|████████████████████████████████████████████████████████████████████████████████████████████████████████████████████████| 943/943 [00:01<00:00, 781.71it/s]\n",
      "predicting K = 5: 100%|████████████████████████████████████████████████████████████████████████████████████████████████████████████████████████| 943/943 [00:01<00:00, 712.30it/s]\n",
      "predicting K = 6: 100%|████████████████████████████████████████████████████████████████████████████████████████████████████████████████████████| 943/943 [00:01<00:00, 632.66it/s]\n",
      "predicting K = 7: 100%|████████████████████████████████████████████████████████████████████████████████████████████████████████████████████████| 943/943 [00:01<00:00, 608.97it/s]\n",
      "predicting K = 8: 100%|████████████████████████████████████████████████████████████████████████████████████████████████████████████████████████| 943/943 [00:01<00:00, 571.65it/s]\n",
      "predicting K = 9: 100%|████████████████████████████████████████████████████████████████████████████████████████████████████████████████████████| 943/943 [00:01<00:00, 532.90it/s]\n",
      "predicting K = 10: 100%|███████████████████████████████████████████████████████████████████████████████████████████████████████████████████████| 943/943 [00:01<00:00, 503.40it/s]\n",
      "predicting K = 20: 100%|███████████████████████████████████████████████████████████████████████████████████████████████████████████████████████| 943/943 [00:02<00:00, 322.88it/s]\n",
      "predicting K = 30: 100%|███████████████████████████████████████████████████████████████████████████████████████████████████████████████████████| 943/943 [00:03<00:00, 240.76it/s]\n",
      "predicting K = 40: 100%|███████████████████████████████████████████████████████████████████████████████████████████████████████████████████████| 943/943 [00:04<00:00, 190.83it/s]\n",
      "predicting K = 50: 100%|███████████████████████████████████████████████████████████████████████████████████████████████████████████████████████| 943/943 [00:05<00:00, 158.26it/s]\n",
      "predicting K = 60: 100%|███████████████████████████████████████████████████████████████████████████████████████████████████████████████████████| 943/943 [00:06<00:00, 135.64it/s]\n",
      "predicting K = 70: 100%|███████████████████████████████████████████████████████████████████████████████████████████████████████████████████████| 943/943 [00:07<00:00, 118.15it/s]\n",
      "predicting K = 80: 100%|███████████████████████████████████████████████████████████████████████████████████████████████████████████████████████| 943/943 [00:08<00:00, 104.78it/s]\n",
      "predicting K = 90: 100%|████████████████████████████████████████████████████████████████████████████████████████████████████████████████████████| 943/943 [00:10<00:00, 94.25it/s]\n",
      "predicting K = 100: 100%|███████████████████████████████████████████████████████████████████████████████████████████████████████████████████████| 943/943 [00:11<00:00, 82.91it/s]\n"
     ]
    }
   ],
   "source": [
    "# 與不同K個使用者相似程度比較\n",
    "K = [3,4,5,6,7,8,9,10,20,30,40,50, 60,70,80,90,100]\n",
    "ucf_pcc = list()\n",
    "\n",
    "# 針對不同相似使用者個數進行分析\n",
    "for k in K:\n",
    "    predict_matrix = np.zeros((len(user), len(movie)))\n",
    "    delta_list = list()\n",
    "    # 取出前K個相似度最大的電影名稱，並設置於N\n",
    "    for i in tqdm(pcc_dict.keys(), desc=f\"predicting K = {k}\"):\n",
    "        # Suv: 取出前K個最相似的使用者相似度 ex:K=3, output=[0.378, 0.353, 0.336]\n",
    "        Suv = heapq.nlargest(k,pcc_dict[i])\n",
    "        # top_sim_index: 取出前K個最相似的使用者相似度(index) ex:K=3, output=[915, 406, 214]\n",
    "        top_sim_index = list(map(pcc_dict[i].index, heapq.nlargest(k,pcc_dict[i])))\n",
    "        # 利用相似的使用者對使用者u的每一部電影做評分預測\n",
    "        for m in range(len(movie)):\n",
    "            # ground truth\n",
    "            rth = user_matrix[i, m]\n",
    "            # 如果原始評分不為0，則納入計算RMSE\n",
    "            if rth != 0:\n",
    "                # copy Suv\n",
    "                copy_Suv = copy.deepcopy(Suv)\n",
    "                # R: 若相似使用者對電影 m 有評分則進行調整\n",
    "                R = list()\n",
    "                for c, j in enumerate(top_sim_index):\n",
    "                    if  user_matrix[j, m] == 0:\n",
    "                        R.append(0)\n",
    "                        copy_Suv[c] = 0\n",
    "                    else:\n",
    "                        R.append(user_matrix[j, m] - bias_matrix[j, m])\n",
    "\n",
    "                # 預測使用者u對於第m部電影的評分\n",
    "                Rui = predict(copy_Suv, R) + bias_matrix[i, m]\n",
    "                # predict_matrix[i, m] = Rui\n",
    "                # 計算RMSE\n",
    "                delta_list.append(se(rth, Rui))\n",
    "    ucf_pcc.append(rmse(delta_list))"
   ]
  },
  {
   "cell_type": "code",
   "execution_count": 196,
   "id": "42532276-0dea-4692-b327-3b05479b2888",
   "metadata": {
    "tags": []
   },
   "outputs": [
    {
     "data": {
      "image/png": "[encoded data removed]",
      "text/plain": [
       "<Figure size 1080x720 with 1 Axes>"
      ]
     },
     "metadata": {},
     "output_type": "display_data"
    }
   ],
   "source": [
    "# 將K轉成字串形式\n",
    "str_k = list(map(lambda x:str(x), K))\n",
    "# numpy to pandas\n",
    "df = pd.DataFrame({\"K\": str_k, \"U-CF-cos\":ucf_cos, \"U-CF-pcc\":ucf_pcc})\n",
    "# Visualize\n",
    "plot_result(df, \"Training MSE\")"
   ]
  },
  {
   "cell_type": "markdown",
   "id": "cc1e69f1-de0e-41d9-a4e8-19ee2631b231",
   "metadata": {
    "tags": []
   },
   "source": [
    "## 1.2. Item-based Collaborative Filtering (I-CF)"
   ]
  },
  {
   "cell_type": "code",
   "execution_count": 197,
   "id": "41e9a112-6d6f-454d-b303-3a2bb40a7c0b",
   "metadata": {
    "tags": []
   },
   "outputs": [
    {
     "data": {
      "text/plain": [
       "((1682, 943), (1682, 943))"
      ]
     },
     "execution_count": 197,
     "metadata": {},
     "output_type": "execute_result"
    }
   ],
   "source": [
    "# Transpose user_matrix as movie_matrix, bias_matrix as movie_bias.\n",
    "movie_matrix = user_matrix.T\n",
    "movie_bias = bias_matrix.T\n",
    "movie_matrix.shape, movie_bias.shape"
   ]
  },
  {
   "cell_type": "markdown",
   "id": "474c938e-6fd7-45ae-af04-e654256b79ab",
   "metadata": {},
   "source": [
    "#### ＃電影校正後會產生zero vec故在這裡不採用校正後matrix算相似度 "
   ]
  },
  {
   "cell_type": "code",
   "execution_count": 188,
   "id": "3de545a0-ff5b-4be6-9560-ed0f978705b6",
   "metadata": {
    "tags": []
   },
   "outputs": [
    {
     "name": "stdout",
     "output_type": "stream",
     "text": [
      "movie_matrix:\n",
      "[[0. 4. 0. ... 5. 0. 0.]\n",
      " [3. 0. 0. ... 0. 0. 5.]\n",
      " [4. 0. 0. ... 0. 0. 0.]\n",
      " ...\n",
      " [0. 0. 0. ... 0. 0. 0.]\n",
      " [0. 0. 0. ... 0. 0. 0.]\n",
      " [0. 0. 0. ... 0. 0. 0.]] \n",
      "\n",
      "after adjust:\n",
      "[[-1.30965005e+00  2.69034995e+00 -1.30965005e+00 ...  3.69034995e+00\n",
      "  -1.30965005e+00 -1.30965005e+00]\n",
      " [ 2.67020148e+00 -3.29798515e-01 -3.29798515e-01 ... -3.29798515e-01\n",
      "  -3.29798515e-01  4.67020148e+00]\n",
      " [ 3.78685048e+00 -2.13149523e-01 -2.13149523e-01 ... -2.13149523e-01\n",
      "  -2.13149523e-01 -2.13149523e-01]\n",
      " ...\n",
      " [-2.12089077e-03 -2.12089077e-03 -2.12089077e-03 ... -2.12089077e-03\n",
      "  -2.12089077e-03 -2.12089077e-03]\n",
      " [-3.18133616e-03 -3.18133616e-03 -3.18133616e-03 ... -3.18133616e-03\n",
      "  -3.18133616e-03 -3.18133616e-03]\n",
      " [ 0.00000000e+00  0.00000000e+00  0.00000000e+00 ...  0.00000000e+00\n",
      "   0.00000000e+00  0.00000000e+00]]\n"
     ]
    }
   ],
   "source": [
    "# 計算電影平均評分\n",
    "movie_mean = non_zero_mean(movie_matrix)\n",
    "# 使用個別電影平均校正電影對使用者的評分\n",
    "# movie_adjust = np.where(movie_matrix == 0, movie_matrix, movie_matrix-movie_mean)\n",
    "movie_adjust = movie_matrix - np.mean(movie_matrix, axis=1).reshape(-1, 1)\n",
    "print(f\"movie_matrix:\\n{movie_matrix} \\n\\nafter adjust:\\n{movie_adjust}\")"
   ]
  },
  {
   "cell_type": "code",
   "execution_count": 198,
   "id": "9bcd0751-91f6-4865-a108-9244bd667c4b",
   "metadata": {
    "tags": []
   },
   "outputs": [
    {
     "name": "stderr",
     "output_type": "stream",
     "text": [
      "caculator u & v similar: 100%|████████████████████████████████████████████████████████████████████████████████████████████████████████████████| 1682/1682 [02:43<00:00, 10.30it/s]\n"
     ]
    }
   ],
   "source": [
    "# 取得movie間的相似度名單\n",
    "cos_mdict, pcc_mdict = get_sim_dict(movie, movie_matrix)"
   ]
  },
  {
   "cell_type": "markdown",
   "id": "9a5af1ae-c013-4413-9a40-c0b9c859b255",
   "metadata": {
    "tags": []
   },
   "source": [
    "### 1.2.1.  Item‐Based CF use Cosine result"
   ]
  },
  {
   "cell_type": "code",
   "execution_count": 199,
   "id": "2f4d0eca-2199-4f9b-a84b-aa4a56e48ca1",
   "metadata": {
    "tags": []
   },
   "outputs": [
    {
     "name": "stderr",
     "output_type": "stream",
     "text": [
      "predicting K = 3: 100%|█████████████████████████████████████████████████████████████████████████████████████████████████████████████████████| 1682/1682 [00:01<00:00, 1172.43it/s]\n",
      "predicting K = 4: 100%|█████████████████████████████████████████████████████████████████████████████████████████████████████████████████████| 1682/1682 [00:01<00:00, 1081.25it/s]\n",
      "predicting K = 5: 100%|█████████████████████████████████████████████████████████████████████████████████████████████████████████████████████| 1682/1682 [00:01<00:00, 1008.87it/s]\n",
      "predicting K = 6: 100%|██████████████████████████████████████████████████████████████████████████████████████████████████████████████████████| 1682/1682 [00:01<00:00, 949.73it/s]\n",
      "predicting K = 7: 100%|██████████████████████████████████████████████████████████████████████████████████████████████████████████████████████| 1682/1682 [00:01<00:00, 890.94it/s]\n",
      "predicting K = 8: 100%|██████████████████████████████████████████████████████████████████████████████████████████████████████████████████████| 1682/1682 [00:02<00:00, 836.83it/s]\n",
      "predicting K = 9: 100%|██████████████████████████████████████████████████████████████████████████████████████████████████████████████████████| 1682/1682 [00:02<00:00, 778.57it/s]\n",
      "predicting K = 10: 100%|█████████████████████████████████████████████████████████████████████████████████████████████████████████████████████| 1682/1682 [00:02<00:00, 733.17it/s]\n",
      "predicting K = 20: 100%|█████████████████████████████████████████████████████████████████████████████████████████████████████████████████████| 1682/1682 [00:03<00:00, 484.07it/s]\n",
      "predicting K = 30: 100%|█████████████████████████████████████████████████████████████████████████████████████████████████████████████████████| 1682/1682 [00:04<00:00, 368.47it/s]\n",
      "predicting K = 40: 100%|█████████████████████████████████████████████████████████████████████████████████████████████████████████████████████| 1682/1682 [00:05<00:00, 297.65it/s]\n",
      "predicting K = 50: 100%|█████████████████████████████████████████████████████████████████████████████████████████████████████████████████████| 1682/1682 [00:06<00:00, 248.13it/s]\n",
      "predicting K = 60: 100%|█████████████████████████████████████████████████████████████████████████████████████████████████████████████████████| 1682/1682 [00:07<00:00, 214.07it/s]\n",
      "predicting K = 70: 100%|█████████████████████████████████████████████████████████████████████████████████████████████████████████████████████| 1682/1682 [00:09<00:00, 186.50it/s]\n",
      "predicting K = 80: 100%|█████████████████████████████████████████████████████████████████████████████████████████████████████████████████████| 1682/1682 [00:10<00:00, 168.00it/s]\n",
      "predicting K = 90: 100%|█████████████████████████████████████████████████████████████████████████████████████████████████████████████████████| 1682/1682 [00:11<00:00, 150.58it/s]\n",
      "predicting K = 100: 100%|████████████████████████████████████████████████████████████████████████████████████████████████████████████████████| 1682/1682 [00:12<00:00, 137.87it/s]\n"
     ]
    }
   ],
   "source": [
    "# 與不同K個電影相似程度比較\n",
    "K = [3,4,5,6,7,8,9,10,20,30,40,50, 60,70,80,90,100]\n",
    "icf_cos = list()\n",
    "\n",
    "# 針對不同相似電影個數進行分析\n",
    "for k in K:\n",
    "    predict_matrix = np.zeros((len(movie), len(user)))\n",
    "    delta_list = list()\n",
    "    # 取出前K個相似度最大的使用者名稱，並設置於N\n",
    "    for i in tqdm(cos_mdict.keys(), desc=f\"predicting K = {k}\"):\n",
    "        # Siv: 取出前K個最相似的電影相似度 ex:K=3, output=[0.378, 0.353, 0.336]\n",
    "        Siv = heapq.nlargest(k,cos_mdict[i])\n",
    "        # top_sim_index: 取出前K個最相似的電影相似度(index) ex:K=3, output=[915, 406, 214]\n",
    "        top_sim_index = list(map(cos_mdict[i].index, heapq.nlargest(k,cos_mdict[i])))\n",
    "        # 利用相似的電影對電影的每一位使用者做評分預測\n",
    "        for u in range(len(user)):\n",
    "            # ground truth\n",
    "            rth = movie_matrix[i, u]\n",
    "            # 如果原始評分不為0，則納入計算RMSE\n",
    "            if rth != 0:\n",
    "                # copy Suv\n",
    "                copy_Siv = copy.deepcopy(Siv)\n",
    "                # R: 相似電影對調整後使用者 u 的評分\n",
    "                R = list()\n",
    "                for c, j in enumerate(top_sim_index):\n",
    "                    if  movie_matrix[j, u] == 0:\n",
    "                        R.append(0)\n",
    "                        copy_Siv[c] = 0\n",
    "                    else:\n",
    "                        R.append(movie_matrix[j, u] - movie_bias[j, u])\n",
    "\n",
    "                # 預測使用者u對於第m部電影的評分\n",
    "                Riu = predict(Siv, R) + movie_bias[i, u]\n",
    "                # predict_matrix[i, u] = Riu\n",
    "                # 計算RMSE\n",
    "                delta_list.append(se(rth, Riu))\n",
    "    icf_cos.append(rmse(delta_list))"
   ]
  },
  {
   "cell_type": "markdown",
   "id": "9fdbde65-b744-4f73-82ad-5f0314b87f3c",
   "metadata": {
    "tags": []
   },
   "source": [
    "### 1.2.2.  Item‐Based CF use Pearson Correlation Coefficient result"
   ]
  },
  {
   "cell_type": "code",
   "execution_count": 200,
   "id": "c1f779b7-34fb-4582-8d1d-5f628120e405",
   "metadata": {
    "tags": []
   },
   "outputs": [
    {
     "name": "stderr",
     "output_type": "stream",
     "text": [
      "predicting K = 3: 100%|█████████████████████████████████████████████████████████████████████████████████████████████████████████████████████| 1682/1682 [00:01<00:00, 1213.55it/s]\n",
      "predicting K = 4: 100%|█████████████████████████████████████████████████████████████████████████████████████████████████████████████████████| 1682/1682 [00:01<00:00, 1102.20it/s]\n",
      "predicting K = 5: 100%|█████████████████████████████████████████████████████████████████████████████████████████████████████████████████████| 1682/1682 [00:01<00:00, 1018.92it/s]\n",
      "predicting K = 6: 100%|██████████████████████████████████████████████████████████████████████████████████████████████████████████████████████| 1682/1682 [00:01<00:00, 928.59it/s]\n",
      "predicting K = 7: 100%|██████████████████████████████████████████████████████████████████████████████████████████████████████████████████████| 1682/1682 [00:01<00:00, 868.85it/s]\n",
      "predicting K = 8: 100%|██████████████████████████████████████████████████████████████████████████████████████████████████████████████████████| 1682/1682 [00:02<00:00, 814.09it/s]\n",
      "predicting K = 9: 100%|██████████████████████████████████████████████████████████████████████████████████████████████████████████████████████| 1682/1682 [00:02<00:00, 769.85it/s]\n",
      "predicting K = 10: 100%|█████████████████████████████████████████████████████████████████████████████████████████████████████████████████████| 1682/1682 [00:02<00:00, 723.02it/s]\n",
      "predicting K = 20: 100%|█████████████████████████████████████████████████████████████████████████████████████████████████████████████████████| 1682/1682 [00:03<00:00, 469.88it/s]\n",
      "predicting K = 30: 100%|█████████████████████████████████████████████████████████████████████████████████████████████████████████████████████| 1682/1682 [00:04<00:00, 355.94it/s]\n",
      "predicting K = 40: 100%|█████████████████████████████████████████████████████████████████████████████████████████████████████████████████████| 1682/1682 [00:05<00:00, 285.69it/s]\n",
      "predicting K = 50: 100%|█████████████████████████████████████████████████████████████████████████████████████████████████████████████████████| 1682/1682 [00:06<00:00, 240.35it/s]\n",
      "predicting K = 60: 100%|█████████████████████████████████████████████████████████████████████████████████████████████████████████████████████| 1682/1682 [00:08<00:00, 207.90it/s]\n",
      "predicting K = 70: 100%|█████████████████████████████████████████████████████████████████████████████████████████████████████████████████████| 1682/1682 [00:09<00:00, 182.19it/s]\n",
      "predicting K = 80: 100%|█████████████████████████████████████████████████████████████████████████████████████████████████████████████████████| 1682/1682 [00:10<00:00, 161.16it/s]\n",
      "predicting K = 90: 100%|█████████████████████████████████████████████████████████████████████████████████████████████████████████████████████| 1682/1682 [00:11<00:00, 143.76it/s]\n",
      "predicting K = 100: 100%|████████████████████████████████████████████████████████████████████████████████████████████████████████████████████| 1682/1682 [00:12<00:00, 131.96it/s]\n"
     ]
    }
   ],
   "source": [
    "# 與不同K個電影相似程度比較\n",
    "K = [3,4,5,6,7,8,9,10,20,30,40,50, 60,70,80,90,100]\n",
    "icf_pcc = list()\n",
    "\n",
    "# 針對不同相似電影個數進行分析\n",
    "for k in K:\n",
    "    predict_matrix = np.zeros((len(movie), len(user)))\n",
    "    delta_list = list()\n",
    "    # 取出前K個相似度最大的使用者名稱，並設置於N\n",
    "    for i in tqdm(pcc_mdict.keys(), desc=f\"predicting K = {k}\"):\n",
    "        # Siv: 取出前K個最相似的電影相似度 ex:K=3, output=[0.378, 0.353, 0.336]\n",
    "        Siv = heapq.nlargest(k,pcc_mdict[i])\n",
    "        # top_sim_index: 取出前K個最相似的電影相似度(index) ex:K=3, output=[915, 406, 214]\n",
    "        top_sim_index = list(map(pcc_mdict[i].index, heapq.nlargest(k,pcc_mdict[i])))\n",
    "        # 利用相似的電影對電影的每一位使用者做評分預測\n",
    "        for u in range(len(user)):\n",
    "            # ground truth\n",
    "            rth = movie_matrix[i, u]\n",
    "            # 如果原始評分不為0，則納入計算RMSE\n",
    "            if rth != 0:\n",
    "                # copy Suv\n",
    "                copy_Siv = copy.deepcopy(Siv)\n",
    "                # R: 相似電影對調整後使用者 u 的評分\n",
    "                R = list()\n",
    "                for c, j in enumerate(top_sim_index):\n",
    "                    if  movie_matrix[j, u] == 0:\n",
    "                        R.append(0)\n",
    "                        copy_Siv[c] = 0\n",
    "                    else:\n",
    "                        R.append(movie_matrix[j, u] - movie_bias[j, u])\n",
    "\n",
    "                # 預測使用者u對於第m部電影的評分\n",
    "                Riu = predict(Siv, R) + movie_bias[i, u]\n",
    "                # predict_matrix[i, u] = Riu\n",
    "                # 計算RMSE\n",
    "                delta_list.append(se(rth, Riu))\n",
    "    icf_pcc.append(rmse(delta_list))"
   ]
  },
  {
   "cell_type": "code",
   "execution_count": 201,
   "id": "27a4ddb4-1ef0-4e7e-8902-1319804be7a1",
   "metadata": {
    "tags": []
   },
   "outputs": [
    {
     "data": {
      "image/png": "[encoded data removed]",
      "text/plain": [
       "<Figure size 1080x720 with 1 Axes>"
      ]
     },
     "metadata": {},
     "output_type": "display_data"
    }
   ],
   "source": [
    "# numpy to pandas\n",
    "df[\"I-CF-cos\"] = icf_cos\n",
    "df[\"I-CF-pcc\"] = icf_pcc\n",
    "# Visualize\n",
    "plot_result(df, \"Training MSE\")"
   ]
  },
  {
   "cell_type": "markdown",
   "id": "83f504b9-a05f-4672-9e6e-a395ab77451e",
   "metadata": {
    "tags": []
   },
   "source": [
    "## 1.3. Testing U-CF"
   ]
  },
  {
   "cell_type": "code",
   "execution_count": null,
   "id": "cf963505-51e3-4661-abc0-5c5ac15177b4",
   "metadata": {
    "tags": []
   },
   "outputs": [
    {
     "name": "stderr",
     "output_type": "stream",
     "text": [
      "data transfer user matrix: 100%|███████████████████████████████████████████████████████████████████████████████████████████████████████████████| 943/943 [00:02<00:00, 397.09it/s]\n"
     ]
    }
   ],
   "source": [
    "# init user_matrix as zero matrix\n",
    "user_testing = np.zeros((len(user), len(movie)))\n",
    "\n",
    "for u in tqdm(user, desc='data transfer user matrix'):\n",
    "    '''\n",
    "    train_data[train_data[:,0] == u] : 過濾出u使用者所有的評分資料\n",
    "    train_data[train_data[:,0] == u][:,1]: 取得u使用者所有評分過的電影名稱\n",
    "    '''\n",
    "    rate_index = test_data[test_data[:,0] == u][:,1]\n",
    "    for rate in rate_index:\n",
    "        '''\n",
    "        user_matrix[u-1, rate-1]: 欲設置的rateing位置\n",
    "        train_data[(train_data[:,0] == u) & (train_data[:,1] == rate)]: 取出u使用者對於評論過特定電影的資料\n",
    "        '''\n",
    "        user_testing[u-1, rate-1] = test_data[(test_data[:,0] == u) & (test_data[:,1] == rate)][:,2].item()"
   ]
  },
  {
   "cell_type": "code",
   "execution_count": null,
   "id": "1a20ff43-ae1c-4aa0-9add-46f39a50222e",
   "metadata": {
    "tags": []
   },
   "outputs": [
    {
     "name": "stdout",
     "output_type": "stream",
     "text": [
      "Calculating Bias...\n"
     ]
    },
    {
     "name": "stderr",
     "output_type": "stream",
     "text": [
      "caculator u & v similar: 100%|██████████████████████████████████████████████████████████████████████████████████████████████████████████████████| 943/943 [01:03<00:00, 14.85it/s]\n"
     ]
    }
   ],
   "source": [
    "training = True\n",
    "\n",
    "if training:\n",
    "    print(\"Array Exist!!\")\n",
    "\n",
    "else:\n",
    "    # 若bias不存在，則計算training bias\n",
    "    print(\"Calculating Bias...\")\n",
    "    bias_matrix = get_bias(user_matrix)\n",
    "\n",
    "    # 取得user間的相似度名單\n",
    "    # 計算使用者平均評分\n",
    "    user_mean = non_zero_mean(user_matrix)\n",
    "    # # 使用個別使用者平均校正使用者對電影的評分\n",
    "    # user_adjust = np.where(user_matrix == 0, user_matrix, user_matrix-user_mean)\n",
    "    # print(f\"user_matrix:\\n{user_matrix} \\n\\nafter adjust:\\n{user_adjust}\")\n",
    "\n",
    "    cos_dict, pcc_dict = get_sim_dict(user, user_matrix)"
   ]
  },
  {
   "cell_type": "markdown",
   "id": "d34e78b0-1944-442b-bb4a-1be624be0b48",
   "metadata": {},
   "source": [
    "### 1.3.1. Testing U-CF-cos"
   ]
  },
  {
   "cell_type": "code",
   "execution_count": null,
   "id": "7d1bdcb8-5478-488b-8730-8a161e4f60af",
   "metadata": {
    "tags": []
   },
   "outputs": [
    {
     "name": "stderr",
     "output_type": "stream",
     "text": [
      "predicting K = 3: 100%|████████████████████████████████████████████████████████████████████████████████████████████████████████████████████████| 943/943 [00:07<00:00, 118.48it/s]\n",
      "predicting K = 4: 100%|████████████████████████████████████████████████████████████████████████████████████████████████████████████████████████| 943/943 [00:08<00:00, 115.62it/s]\n",
      "predicting K = 5: 100%|████████████████████████████████████████████████████████████████████████████████████████████████████████████████████████| 943/943 [00:08<00:00, 113.31it/s]\n",
      "predicting K = 6: 100%|████████████████████████████████████████████████████████████████████████████████████████████████████████████████████████| 943/943 [00:08<00:00, 108.52it/s]\n",
      "predicting K = 7: 100%|████████████████████████████████████████████████████████████████████████████████████████████████████████████████████████| 943/943 [00:08<00:00, 105.67it/s]\n",
      "predicting K = 8: 100%|████████████████████████████████████████████████████████████████████████████████████████████████████████████████████████| 943/943 [00:09<00:00, 104.16it/s]\n",
      "predicting K = 9: 100%|████████████████████████████████████████████████████████████████████████████████████████████████████████████████████████| 943/943 [00:09<00:00, 101.37it/s]\n",
      "predicting K = 10: 100%|████████████████████████████████████████████████████████████████████████████████████████████████████████████████████████| 943/943 [00:09<00:00, 99.67it/s]\n",
      "predicting K = 20: 100%|████████████████████████████████████████████████████████████████████████████████████████████████████████████████████████| 943/943 [00:11<00:00, 81.16it/s]\n",
      "predicting K = 30: 100%|████████████████████████████████████████████████████████████████████████████████████████████████████████████████████████| 943/943 [00:13<00:00, 69.75it/s]\n",
      "predicting K = 40: 100%|████████████████████████████████████████████████████████████████████████████████████████████████████████████████████████| 943/943 [00:15<00:00, 60.44it/s]\n",
      "predicting K = 50: 100%|████████████████████████████████████████████████████████████████████████████████████████████████████████████████████████| 943/943 [00:17<00:00, 53.94it/s]\n",
      "predicting K = 60: 100%|████████████████████████████████████████████████████████████████████████████████████████████████████████████████████████| 943/943 [00:19<00:00, 48.42it/s]\n",
      "predicting K = 70: 100%|████████████████████████████████████████████████████████████████████████████████████████████████████████████████████████| 943/943 [00:21<00:00, 44.01it/s]\n",
      "predicting K = 80: 100%|████████████████████████████████████████████████████████████████████████████████████████████████████████████████████████| 943/943 [00:23<00:00, 40.02it/s]\n",
      "predicting K = 90: 100%|████████████████████████████████████████████████████████████████████████████████████████████████████████████████████████| 943/943 [00:25<00:00, 36.82it/s]\n",
      "predicting K = 100: 100%|███████████████████████████████████████████████████████████████████████████████████████████████████████████████████████| 943/943 [00:27<00:00, 34.33it/s]\n"
     ]
    }
   ],
   "source": [
    "# 與不同K個使用者相似程度比較\n",
    "K = [3,4,5,6,7,8,9,10,20,30,40,50, 60,70,80,90,100]\n",
    "ucf_tcos = list()\n",
    "\n",
    "# 針對不同相似使用者個數進行分析\n",
    "for k in K:\n",
    "    predict_matrix = np.zeros((len(user), len(movie)))\n",
    "    delta_list = list()\n",
    "    # 取出前K個相似度最大的電影名稱，並設置於N\n",
    "    for i in tqdm(cos_dict.keys(), desc=f\"predicting K = {k}\"):\n",
    "        # Suv: 取出前K個最相似的使用者相似度 ex:K=3, output=[0.378, 0.353, 0.336]\n",
    "        Suv = heapq.nlargest(k,cos_dict[i])\n",
    "        # top_sim_index: 取出前K個最相似的使用者相似度(index) ex:K=3, output=[915, 406, 214]\n",
    "        top_sim_index = list(map(cos_dict[i].index, heapq.nlargest(k,cos_dict[i])))\n",
    "        # 利用相似的使用者對使用者i的每一部電影做評分預測\n",
    "        for m in range(len(movie)):\n",
    "            # ground truth\n",
    "            rth = user_testing[i, m]\n",
    "            # 如果原始評分不為0，則納入計算RMSE\n",
    "            if rth != 0:\n",
    "                # copy Suv\n",
    "                copy_Suv = copy.deepcopy(Suv)\n",
    "                # R: 相似電影對調整後使用者 u 的評分\n",
    "                R = list()\n",
    "                for c, j in enumerate(top_sim_index):\n",
    "                    if  user_testing[j, m] == 0:\n",
    "                        R.append(0)\n",
    "                        copy_Suv[c] = 0\n",
    "                    else:\n",
    "                        R.append(user_testing[j, m] - bias_matrix[j, m])\n",
    "\n",
    "            # # R: 相似使用者對調整後電影 m 的評分\n",
    "            # R = [user_testing[:,m][j] - bias_matrix[i, j] for j in top_sim_index]\n",
    "            # 預測使用者u對於第m部電影的評分 + 使用者i及電影m的偏差\n",
    "            Rui = predict(Suv, R) + bias_matrix[i, m]\n",
    "            # predict_matrix[i, m] = Rui\n",
    "            # 計算RMSE\n",
    "            delta_list.append(se(rth, Rui))\n",
    "    ucf_tcos.append(rmse(delta_list))"
   ]
  },
  {
   "cell_type": "markdown",
   "id": "4a7c1022-2fca-430d-967a-7dbf53f9df11",
   "metadata": {},
   "source": [
    "### 1.3.2. Testing U-CF-pcc"
   ]
  },
  {
   "cell_type": "code",
   "execution_count": null,
   "id": "1ad3193b-f351-410c-85f3-3794fe407949",
   "metadata": {
    "tags": []
   },
   "outputs": [
    {
     "name": "stderr",
     "output_type": "stream",
     "text": [
      "predicting K = 3: 100%|████████████████████████████████████████████████████████████████████████████████████████████████████████████████████████| 943/943 [00:08<00:00, 117.36it/s]\n",
      "predicting K = 4: 100%|████████████████████████████████████████████████████████████████████████████████████████████████████████████████████████| 943/943 [00:08<00:00, 115.32it/s]\n",
      "predicting K = 5: 100%|████████████████████████████████████████████████████████████████████████████████████████████████████████████████████████| 943/943 [00:08<00:00, 108.23it/s]\n",
      "predicting K = 6: 100%|████████████████████████████████████████████████████████████████████████████████████████████████████████████████████████| 943/943 [00:08<00:00, 107.58it/s]\n",
      "predicting K = 7: 100%|████████████████████████████████████████████████████████████████████████████████████████████████████████████████████████| 943/943 [00:08<00:00, 105.86it/s]\n",
      "predicting K = 8: 100%|████████████████████████████████████████████████████████████████████████████████████████████████████████████████████████| 943/943 [00:09<00:00, 103.80it/s]\n",
      "predicting K = 9: 100%|████████████████████████████████████████████████████████████████████████████████████████████████████████████████████████| 943/943 [00:09<00:00, 100.43it/s]\n",
      "predicting K = 10: 100%|████████████████████████████████████████████████████████████████████████████████████████████████████████████████████████| 943/943 [00:09<00:00, 97.37it/s]\n",
      "predicting K = 20: 100%|████████████████████████████████████████████████████████████████████████████████████████████████████████████████████████| 943/943 [00:11<00:00, 81.69it/s]\n",
      "predicting K = 30: 100%|████████████████████████████████████████████████████████████████████████████████████████████████████████████████████████| 943/943 [00:13<00:00, 70.12it/s]\n",
      "predicting K = 40: 100%|████████████████████████████████████████████████████████████████████████████████████████████████████████████████████████| 943/943 [00:15<00:00, 60.80it/s]\n",
      "predicting K = 50: 100%|████████████████████████████████████████████████████████████████████████████████████████████████████████████████████████| 943/943 [00:17<00:00, 54.03it/s]\n",
      "predicting K = 60: 100%|████████████████████████████████████████████████████████████████████████████████████████████████████████████████████████| 943/943 [00:19<00:00, 47.92it/s]\n",
      "predicting K = 70: 100%|████████████████████████████████████████████████████████████████████████████████████████████████████████████████████████| 943/943 [00:21<00:00, 43.86it/s]\n",
      "predicting K = 80: 100%|████████████████████████████████████████████████████████████████████████████████████████████████████████████████████████| 943/943 [00:23<00:00, 40.14it/s]\n",
      "predicting K = 90: 100%|████████████████████████████████████████████████████████████████████████████████████████████████████████████████████████| 943/943 [00:25<00:00, 37.10it/s]\n",
      "predicting K = 100: 100%|███████████████████████████████████████████████████████████████████████████████████████████████████████████████████████| 943/943 [00:27<00:00, 34.13it/s]\n"
     ]
    }
   ],
   "source": [
    "# 與不同K個使用者相似程度比較\n",
    "K = [3,4,5,6,7,8,9,10,20,30,40,50, 60,70,80,90,100]\n",
    "ucf_tpcc = list()\n",
    "\n",
    "# 針對不同相似使用者個數進行分析\n",
    "for k in K:\n",
    "    predict_matrix = np.zeros((len(user), len(movie)))\n",
    "    delta_list = list()\n",
    "    # 取出前K個相似度最大的電影名稱，並設置於N\n",
    "    for i in tqdm(pcc_dict.keys(), desc=f\"predicting K = {k}\"):\n",
    "        # Suv: 取出前K個最相似的使用者相似度 ex:K=3, output=[0.378, 0.353, 0.336]\n",
    "        Suv = heapq.nlargest(k,pcc_dict[i])\n",
    "        # top_sim_index: 取出前K個最相似的使用者相似度(index) ex:K=3, output=[915, 406, 214]\n",
    "        top_sim_index = list(map(pcc_dict[i].index, heapq.nlargest(k,pcc_dict[i])))\n",
    "        # 利用相似的使用者對使用者i的每一部電影做評分預測\n",
    "        for m in range(len(movie)):\n",
    "            # ground truth\n",
    "            rth = user_testing[i, m]\n",
    "            # 如果原始評分不為0，則納入計算RMSE\n",
    "            if rth != 0:\n",
    "                # copy Suv\n",
    "                copy_Suv = copy.deepcopy(Suv)\n",
    "                # R: 相似電影對調整後使用者 u 的評分\n",
    "                R = list()\n",
    "                for c, j in enumerate(top_sim_index):\n",
    "                    if  user_testing[j, m] == 0:\n",
    "                        R.append(0)\n",
    "                        copy_Suv[c] = 0\n",
    "                    else:\n",
    "                        R.append(user_testing[j, m] - bias_matrix[j, m])\n",
    "                        \n",
    "            # # R: 相似使用者對調整後電影 m 的評分\n",
    "            # R = [user_testing[:,m][j] - bias_matrix[i, j] for j in top_sim_index]\n",
    "            # 預測使用者u對於第m部電影的評分 + 使用者i及電影m的偏差\n",
    "            Rui = predict(Suv, R) + bias_matrix[i, m]\n",
    "            # predict_matrix[i, m] = Rui\n",
    "            # 計算RMSE\n",
    "            delta_list.append(se(rth, Rui))\n",
    "    ucf_tpcc.append(rmse(delta_list))"
   ]
  },
  {
   "cell_type": "markdown",
   "id": "7263c0d6-ba4d-4f54-a0df-a21709666bb4",
   "metadata": {},
   "source": [
    "## 1.4. Testing I-CF"
   ]
  },
  {
   "cell_type": "code",
   "execution_count": null,
   "id": "907243f7-f10b-401d-b25c-b68ef36e2e0e",
   "metadata": {
    "tags": []
   },
   "outputs": [
    {
     "name": "stdout",
     "output_type": "stream",
     "text": [
      "getting movie bias...\n",
      "getting similarity...\n"
     ]
    },
    {
     "name": "stderr",
     "output_type": "stream",
     "text": [
      "caculator u & v similar: 100%|████████████████████████████████████████████████████████████████████████████████████████████████████████████████| 1682/1682 [02:38<00:00, 10.59it/s]\n"
     ]
    }
   ],
   "source": [
    "movie_testing = user_testing.T\n",
    "\n",
    "# 取得 bias\n",
    "if training:\n",
    "    print(\"Array Exist!!\")\n",
    "\n",
    "else:\n",
    "    print(\"getting movie bias...\")\n",
    "    # Transpose user_matrix as movie_matrix, bias_matrix as movie_bias.\n",
    "    movie_bias = bias_matrix.T\n",
    "    \n",
    "    # 取得movie間的相似度名單\n",
    "    print(\"getting similarity...\")\n",
    "    cos_mdict, pcc_mdict = get_sim_dict(movie, movie_matrix)"
   ]
  },
  {
   "cell_type": "markdown",
   "id": "5774db9e-af66-4538-873d-6e1773736eba",
   "metadata": {
    "tags": []
   },
   "source": [
    "### 1.4.1. Testing I-CF-cos"
   ]
  },
  {
   "cell_type": "code",
   "execution_count": null,
   "id": "06647ddc-a3a3-407b-a432-638a868f42dd",
   "metadata": {
    "tags": []
   },
   "outputs": [
    {
     "name": "stderr",
     "output_type": "stream",
     "text": [
      "predicting K = 3: 100%|██████████████████████████████████████████████████████████████████████████████████████████████████████████████████████| 1682/1682 [00:09<00:00, 169.05it/s]\n",
      "predicting K = 4: 100%|██████████████████████████████████████████████████████████████████████████████████████████████████████████████████████| 1682/1682 [00:10<00:00, 165.41it/s]\n",
      "predicting K = 5: 100%|██████████████████████████████████████████████████████████████████████████████████████████████████████████████████████| 1682/1682 [00:10<00:00, 163.54it/s]\n",
      "predicting K = 6: 100%|██████████████████████████████████████████████████████████████████████████████████████████████████████████████████████| 1682/1682 [00:10<00:00, 157.93it/s]\n",
      "predicting K = 7: 100%|██████████████████████████████████████████████████████████████████████████████████████████████████████████████████████| 1682/1682 [00:10<00:00, 155.26it/s]\n",
      "predicting K = 8: 100%|██████████████████████████████████████████████████████████████████████████████████████████████████████████████████████| 1682/1682 [00:10<00:00, 153.08it/s]\n",
      "predicting K = 9: 100%|██████████████████████████████████████████████████████████████████████████████████████████████████████████████████████| 1682/1682 [00:11<00:00, 148.17it/s]\n",
      "predicting K = 10: 100%|█████████████████████████████████████████████████████████████████████████████████████████████████████████████████████| 1682/1682 [00:11<00:00, 145.06it/s]\n",
      "predicting K = 20: 100%|█████████████████████████████████████████████████████████████████████████████████████████████████████████████████████| 1682/1682 [00:13<00:00, 126.34it/s]\n",
      "predicting K = 30: 100%|█████████████████████████████████████████████████████████████████████████████████████████████████████████████████████| 1682/1682 [00:15<00:00, 110.77it/s]\n",
      "predicting K = 40: 100%|██████████████████████████████████████████████████████████████████████████████████████████████████████████████████████| 1682/1682 [00:16<00:00, 98.95it/s]\n",
      "predicting K = 50: 100%|██████████████████████████████████████████████████████████████████████████████████████████████████████████████████████| 1682/1682 [00:18<00:00, 88.95it/s]\n",
      "predicting K = 60: 100%|██████████████████████████████████████████████████████████████████████████████████████████████████████████████████████| 1682/1682 [00:20<00:00, 81.28it/s]\n",
      "predicting K = 70: 100%|██████████████████████████████████████████████████████████████████████████████████████████████████████████████████████| 1682/1682 [00:22<00:00, 74.63it/s]\n",
      "predicting K = 80: 100%|██████████████████████████████████████████████████████████████████████████████████████████████████████████████████████| 1682/1682 [00:24<00:00, 68.29it/s]\n",
      "predicting K = 90: 100%|██████████████████████████████████████████████████████████████████████████████████████████████████████████████████████| 1682/1682 [00:26<00:00, 64.21it/s]\n",
      "predicting K = 100: 100%|█████████████████████████████████████████████████████████████████████████████████████████████████████████████████████| 1682/1682 [00:28<00:00, 60.02it/s]\n"
     ]
    }
   ],
   "source": [
    "# 與不同K個電影相似程度比較\n",
    "K = [3,4,5,6,7,8,9,10,20,30,40,50, 60,70,80,90,100]\n",
    "icf_tcos = list()\n",
    "\n",
    "# 針對不同相似電影個數進行分析\n",
    "for k in K:\n",
    "    predict_matrix = np.zeros((len(movie), len(user)))\n",
    "    delta_list = list()\n",
    "    # 取出前K個相似度最大的使用者名稱，並設置於N\n",
    "    for i in tqdm(cos_mdict.keys(), desc=f\"predicting K = {k}\"):\n",
    "        # Siv: 取出前K個最相似的電影相似度 ex:K=3, output=[0.378, 0.353, 0.336]\n",
    "        Siv = heapq.nlargest(k,cos_mdict[i])\n",
    "        # top_sim_index: 取出前K個最相似的電影相似度(index) ex:K=3, output=[915, 406, 214]\n",
    "        top_sim_index = list(map(cos_mdict[i].index, heapq.nlargest(k,cos_mdict[i])))\n",
    "        # 利用相似的電影對電影的每一位使用者做評分預測\n",
    "        for u in range(len(user)):\n",
    "            # ground truth\n",
    "            rth = movie_testing[i, u]\n",
    "            # 如果原始評分不為0，則納入計算RMSE\n",
    "            if rth != 0:\n",
    "                # copy Suv\n",
    "                copy_Suv = copy.deepcopy(Suv)\n",
    "                # R: 相似電影對調整後使用者 u 的評分\n",
    "                R = list()\n",
    "                for c, j in enumerate(top_sim_index):\n",
    "                    if  movie_testing[j, u] == 0:\n",
    "                        R.append(0)\n",
    "                        copy_Suv[c] = 0\n",
    "                    else:\n",
    "                        R.append(movie_testing[j, u] - movie_bias[j, u])\n",
    "                        \n",
    "            # # R: 相似電影對調整後使用者 u 的評分\n",
    "            # R = [movie_testing[:,u][j] - movie_bias[i, j] for j in top_sim_index]\n",
    "            # 預測使用者u對於第m部電影的評分\n",
    "            Riu = predict(Siv, R) + movie_bias[i, u]\n",
    "            # predict_matrix[i, u] = Riu\n",
    "            # 計算RMSE\n",
    "            delta_list.append(se(rth, Riu))\n",
    "    icf_tcos.append(rmse(delta_list))"
   ]
  },
  {
   "cell_type": "markdown",
   "id": "0511457f-8124-44b7-aa82-830998e11cd5",
   "metadata": {},
   "source": [
    "### 1.4.2. Testing I-CF-pcc"
   ]
  },
  {
   "cell_type": "code",
   "execution_count": null,
   "id": "f4821132-2294-4752-8514-3c8ee81619c0",
   "metadata": {
    "tags": []
   },
   "outputs": [
    {
     "name": "stderr",
     "output_type": "stream",
     "text": [
      "predicting K = 3: 100%|██████████████████████████████████████████████████████████████████████████████████████████████████████████████████████| 1682/1682 [00:10<00:00, 167.70it/s]\n",
      "predicting K = 4: 100%|██████████████████████████████████████████████████████████████████████████████████████████████████████████████████████| 1682/1682 [00:10<00:00, 164.28it/s]\n",
      "predicting K = 5: 100%|██████████████████████████████████████████████████████████████████████████████████████████████████████████████████████| 1682/1682 [00:10<00:00, 162.51it/s]\n",
      "predicting K = 6: 100%|██████████████████████████████████████████████████████████████████████████████████████████████████████████████████████| 1682/1682 [00:10<00:00, 156.37it/s]\n",
      "predicting K = 7: 100%|██████████████████████████████████████████████████████████████████████████████████████████████████████████████████████| 1682/1682 [00:10<00:00, 154.13it/s]\n",
      "predicting K = 8: 100%|██████████████████████████████████████████████████████████████████████████████████████████████████████████████████████| 1682/1682 [00:11<00:00, 147.13it/s]\n",
      "predicting K = 9: 100%|██████████████████████████████████████████████████████████████████████████████████████████████████████████████████████| 1682/1682 [00:11<00:00, 148.15it/s]\n",
      "predicting K = 10: 100%|█████████████████████████████████████████████████████████████████████████████████████████████████████████████████████| 1682/1682 [00:11<00:00, 146.60it/s]\n",
      "predicting K = 20: 100%|█████████████████████████████████████████████████████████████████████████████████████████████████████████████████████| 1682/1682 [00:13<00:00, 125.71it/s]\n",
      "predicting K = 30: 100%|█████████████████████████████████████████████████████████████████████████████████████████████████████████████████████| 1682/1682 [00:15<00:00, 109.23it/s]\n",
      "predicting K = 40: 100%|██████████████████████████████████████████████████████████████████████████████████████████████████████████████████████| 1682/1682 [00:17<00:00, 97.09it/s]\n",
      "predicting K = 50: 100%|██████████████████████████████████████████████████████████████████████████████████████████████████████████████████████| 1682/1682 [00:19<00:00, 87.72it/s]\n",
      "predicting K = 60: 100%|██████████████████████████████████████████████████████████████████████████████████████████████████████████████████████| 1682/1682 [00:21<00:00, 79.67it/s]\n",
      "predicting K = 70: 100%|██████████████████████████████████████████████████████████████████████████████████████████████████████████████████████| 1682/1682 [00:22<00:00, 73.16it/s]\n",
      "predicting K = 80: 100%|██████████████████████████████████████████████████████████████████████████████████████████████████████████████████████| 1682/1682 [00:24<00:00, 67.68it/s]\n",
      "predicting K = 90: 100%|██████████████████████████████████████████████████████████████████████████████████████████████████████████████████████| 1682/1682 [00:26<00:00, 63.07it/s]\n",
      "predicting K = 100: 100%|█████████████████████████████████████████████████████████████████████████████████████████████████████████████████████| 1682/1682 [00:28<00:00, 58.64it/s]\n"
     ]
    }
   ],
   "source": [
    "# 與不同K個電影相似程度比較\n",
    "K = [3,4,5,6,7,8,9,10,20,30,40,50, 60,70,80,90,100]\n",
    "icf_tpcc = list()\n",
    "\n",
    "# 針對不同相似電影個數進行分析\n",
    "for k in K:\n",
    "    predict_matrix = np.zeros((len(movie), len(user)))\n",
    "    delta_list = list()\n",
    "    # 取出前K個相似度最大的使用者名稱，並設置於N\n",
    "    for i in tqdm(pcc_mdict.keys(), desc=f\"predicting K = {k}\"):\n",
    "        # Siv: 取出前K個最相似的電影相似度 ex:K=3, output=[0.378, 0.353, 0.336]\n",
    "        Siv = heapq.nlargest(k,pcc_mdict[i])\n",
    "        # top_sim_index: 取出前K個最相似的電影相似度(index) ex:K=3, output=[915, 406, 214]\n",
    "        top_sim_index = list(map(pcc_mdict[i].index, heapq.nlargest(k,pcc_mdict[i])))\n",
    "        # 利用相似的電影對電影的每一位使用者做評分預測\n",
    "        for u in range(len(user)):\n",
    "            # ground truth\n",
    "            rth = movie_testing[i, u]\n",
    "            # 如果原始評分不為0，則納入計算RMSE\n",
    "            if rth != 0:\n",
    "                # copy Suv\n",
    "                copy_Suv = copy.deepcopy(Suv)\n",
    "                # R: 相似電影對調整後使用者 u 的評分\n",
    "                R = list()\n",
    "                for c, j in enumerate(top_sim_index):\n",
    "                    if  movie_testing[j, u] == 0:\n",
    "                        R.append(0)\n",
    "                        copy_Suv[c] = 0\n",
    "                    else:\n",
    "                        R.append(movie_testing[j, u] - movie_bias[j, u])\n",
    "                        \n",
    "            # # R: 相似電影對調整後使用者 u 的評分\n",
    "            # R = [movie_testing[:,u][j] - movie_bias[i, j] for j in top_sim_index]\n",
    "            # 預測使用者u對於第m部電影的評分\n",
    "            Riu = predict(Siv, R) + movie_bias[i, u]\n",
    "            # predict_matrix[i, u] = Riu\n",
    "            # 計算RMSE\n",
    "            delta_list.append(se(rth, Riu))\n",
    "    icf_tpcc.append(rmse(delta_list))"
   ]
  },
  {
   "cell_type": "markdown",
   "id": "3334445d-09e3-4e58-b76a-c0ead922d876",
   "metadata": {},
   "source": [
    "## 1.5. Training & Testing Result"
   ]
  },
  {
   "cell_type": "code",
   "execution_count": null,
   "id": "07945b8d-a615-41c9-9ec2-4b79777b9846",
   "metadata": {
    "tags": []
   },
   "outputs": [
    {
     "data": {
      "text/html": [
       "<div>\n",
       "<style scoped>\n",
       "    .dataframe tbody tr th:only-of-type {\n",
       "        vertical-align: middle;\n",
       "    }\n",
       "\n",
       "    .dataframe tbody tr th {\n",
       "        vertical-align: top;\n",
       "    }\n",
       "\n",
       "    .dataframe thead th {\n",
       "        text-align: right;\n",
       "    }\n",
       "</style>\n",
       "<table border=\"1\" class=\"dataframe\">\n",
       "  <thead>\n",
       "    <tr style=\"text-align: right;\">\n",
       "      <th></th>\n",
       "      <th>K</th>\n",
       "      <th>U-CF-cos</th>\n",
       "      <th>U-CF-pcc</th>\n",
       "      <th>I-CF-cos</th>\n",
       "      <th>I-CF-pcc</th>\n",
       "    </tr>\n",
       "  </thead>\n",
       "  <tbody>\n",
       "    <tr>\n",
       "      <th>0</th>\n",
       "      <td>3</td>\n",
       "      <td>1.165222</td>\n",
       "      <td>1.013305</td>\n",
       "      <td>1.203750</td>\n",
       "      <td>0.975543</td>\n",
       "    </tr>\n",
       "    <tr>\n",
       "      <th>1</th>\n",
       "      <td>4</td>\n",
       "      <td>1.135065</td>\n",
       "      <td>0.998575</td>\n",
       "      <td>1.174316</td>\n",
       "      <td>0.965153</td>\n",
       "    </tr>\n",
       "    <tr>\n",
       "      <th>2</th>\n",
       "      <td>5</td>\n",
       "      <td>1.114338</td>\n",
       "      <td>0.985319</td>\n",
       "      <td>1.156180</td>\n",
       "      <td>0.960296</td>\n",
       "    </tr>\n",
       "    <tr>\n",
       "      <th>3</th>\n",
       "      <td>6</td>\n",
       "      <td>1.102331</td>\n",
       "      <td>0.978725</td>\n",
       "      <td>1.139073</td>\n",
       "      <td>0.958294</td>\n",
       "    </tr>\n",
       "    <tr>\n",
       "      <th>4</th>\n",
       "      <td>7</td>\n",
       "      <td>1.093507</td>\n",
       "      <td>0.969437</td>\n",
       "      <td>1.128360</td>\n",
       "      <td>0.955801</td>\n",
       "    </tr>\n",
       "    <tr>\n",
       "      <th>5</th>\n",
       "      <td>8</td>\n",
       "      <td>1.084284</td>\n",
       "      <td>0.964698</td>\n",
       "      <td>1.119274</td>\n",
       "      <td>0.952430</td>\n",
       "    </tr>\n",
       "    <tr>\n",
       "      <th>6</th>\n",
       "      <td>9</td>\n",
       "      <td>1.078564</td>\n",
       "      <td>0.961137</td>\n",
       "      <td>1.112424</td>\n",
       "      <td>0.950516</td>\n",
       "    </tr>\n",
       "    <tr>\n",
       "      <th>7</th>\n",
       "      <td>10</td>\n",
       "      <td>1.072028</td>\n",
       "      <td>0.959319</td>\n",
       "      <td>1.106573</td>\n",
       "      <td>0.948829</td>\n",
       "    </tr>\n",
       "    <tr>\n",
       "      <th>8</th>\n",
       "      <td>20</td>\n",
       "      <td>1.044643</td>\n",
       "      <td>0.946539</td>\n",
       "      <td>1.077959</td>\n",
       "      <td>0.941421</td>\n",
       "    </tr>\n",
       "    <tr>\n",
       "      <th>9</th>\n",
       "      <td>30</td>\n",
       "      <td>1.033799</td>\n",
       "      <td>0.940997</td>\n",
       "      <td>1.065221</td>\n",
       "      <td>0.938040</td>\n",
       "    </tr>\n",
       "    <tr>\n",
       "      <th>10</th>\n",
       "      <td>40</td>\n",
       "      <td>1.026370</td>\n",
       "      <td>0.936996</td>\n",
       "      <td>1.058017</td>\n",
       "      <td>0.936183</td>\n",
       "    </tr>\n",
       "    <tr>\n",
       "      <th>11</th>\n",
       "      <td>50</td>\n",
       "      <td>1.021116</td>\n",
       "      <td>0.934320</td>\n",
       "      <td>1.052777</td>\n",
       "      <td>0.934673</td>\n",
       "    </tr>\n",
       "    <tr>\n",
       "      <th>12</th>\n",
       "      <td>60</td>\n",
       "      <td>1.017232</td>\n",
       "      <td>0.932500</td>\n",
       "      <td>1.048464</td>\n",
       "      <td>0.933571</td>\n",
       "    </tr>\n",
       "    <tr>\n",
       "      <th>13</th>\n",
       "      <td>70</td>\n",
       "      <td>1.014161</td>\n",
       "      <td>0.930823</td>\n",
       "      <td>1.045459</td>\n",
       "      <td>0.932682</td>\n",
       "    </tr>\n",
       "    <tr>\n",
       "      <th>14</th>\n",
       "      <td>80</td>\n",
       "      <td>1.011262</td>\n",
       "      <td>0.929490</td>\n",
       "      <td>1.042330</td>\n",
       "      <td>0.932071</td>\n",
       "    </tr>\n",
       "    <tr>\n",
       "      <th>15</th>\n",
       "      <td>90</td>\n",
       "      <td>1.009222</td>\n",
       "      <td>0.928322</td>\n",
       "      <td>1.040127</td>\n",
       "      <td>0.931554</td>\n",
       "    </tr>\n",
       "    <tr>\n",
       "      <th>16</th>\n",
       "      <td>100</td>\n",
       "      <td>1.007184</td>\n",
       "      <td>0.927565</td>\n",
       "      <td>1.038027</td>\n",
       "      <td>0.931122</td>\n",
       "    </tr>\n",
       "  </tbody>\n",
       "</table>\n",
       "</div>"
      ],
      "text/plain": [
       "      K  U-CF-cos  U-CF-pcc  I-CF-cos  I-CF-pcc\n",
       "0     3  1.165222  1.013305  1.203750  0.975543\n",
       "1     4  1.135065  0.998575  1.174316  0.965153\n",
       "2     5  1.114338  0.985319  1.156180  0.960296\n",
       "3     6  1.102331  0.978725  1.139073  0.958294\n",
       "4     7  1.093507  0.969437  1.128360  0.955801\n",
       "5     8  1.084284  0.964698  1.119274  0.952430\n",
       "6     9  1.078564  0.961137  1.112424  0.950516\n",
       "7    10  1.072028  0.959319  1.106573  0.948829\n",
       "8    20  1.044643  0.946539  1.077959  0.941421\n",
       "9    30  1.033799  0.940997  1.065221  0.938040\n",
       "10   40  1.026370  0.936996  1.058017  0.936183\n",
       "11   50  1.021116  0.934320  1.052777  0.934673\n",
       "12   60  1.017232  0.932500  1.048464  0.933571\n",
       "13   70  1.014161  0.930823  1.045459  0.932682\n",
       "14   80  1.011262  0.929490  1.042330  0.932071\n",
       "15   90  1.009222  0.928322  1.040127  0.931554\n",
       "16  100  1.007184  0.927565  1.038027  0.931122"
      ]
     },
     "execution_count": 102,
     "metadata": {},
     "output_type": "execute_result"
    }
   ],
   "source": [
    "# 將K轉成字串形式\n",
    "str_k = list(map(lambda x:str(x), K))\n",
    "# numpy to pandas\n",
    "df_test = pd.DataFrame({\"K\": str_k, \"U-CF-cos\":ucf_tcos, \"U-CF-pcc\":ucf_tpcc, \"I-CF-cos\":icf_tcos, \"I-CF-pcc\":icf_tpcc})\n",
    "df_test"
   ]
  },
  {
   "cell_type": "code",
   "execution_count": null,
   "id": "9ff65de4-3c5a-4b17-b9ba-55277038d0ca",
   "metadata": {
    "tags": []
   },
   "outputs": [
    {
     "data": {
      "image/png": "[encoded data removed]",
      "text/plain": [
       "<Figure size 2160x720 with 2 Axes>"
      ]
     },
     "metadata": {},
     "output_type": "display_data"
    }
   ],
   "source": [
    "fig,axes=plt.subplots(1,2, figsize=(30,10), sharey=True)\n",
    "plot_training_testing(df, axes[0], \"Training RMSE\")\n",
    "plot_training_testing(df_test, axes[1], \"Testing RMSE\")"
   ]
  },
  {
   "cell_type": "markdown",
   "id": "d84e267a-3872-41ea-beed-ecebd1593241",
   "metadata": {},
   "source": [
    "# 2. Latent Factor Model (Matrix Factorization)"
   ]
  },
  {
   "cell_type": "code",
   "execution_count": 10,
   "id": "8b19bdaf-4ffa-4f09-b9bd-b9da9be2349f",
   "metadata": {
    "tags": []
   },
   "outputs": [
    {
     "data": {
      "text/plain": [
       "((75000, 4), (25000, 4))"
      ]
     },
     "execution_count": 10,
     "metadata": {},
     "output_type": "execute_result"
    }
   ],
   "source": [
    "# 存取使用者及電影名稱\n",
    "user = np.unique(data[:,0])\n",
    "movie = np.unique(data[:,1])\n",
    "\n",
    "# 訓練資料及測試資料\n",
    "train_data.shape, test_data.shape"
   ]
  },
  {
   "cell_type": "code",
   "execution_count": 11,
   "id": "5d476bdd-c6b8-422f-8660-b128c00d2e11",
   "metadata": {
    "tags": []
   },
   "outputs": [
    {
     "name": "stderr",
     "output_type": "stream",
     "text": [
      "data transfer user matrix: 100%|████████████████████████████████████████████████████████████████████████████████████████████████████████████████| 943/943 [00:20<00:00, 46.67it/s]\n"
     ]
    }
   ],
   "source": [
    "# init user_matrix as zero matrix\n",
    "user_item = np.zeros((len(user), len(movie)))\n",
    "\n",
    "# 將資料轉成矩陣形式\n",
    "for u in tqdm(user, desc='data transfer user matrix'):\n",
    "    '''\n",
    "    train_data[train_data[:,0] == u] : 過濾出u使用者所有的評分資料\n",
    "    train_data[train_data[:,0] == u][:,1]: 取得u使用者所有評分過的電影名稱\n",
    "    '''\n",
    "    rate_index = train_data[train_data[:,0] == u][:,1]\n",
    "    for rate in rate_index:\n",
    "        '''\n",
    "        user_matrix[u-1, rate-1]: 欲設置的rateing位置\n",
    "        train_data[(train_data[:,0] == u) & (train_data[:,1] == rate)]: 取出u使用者對於評論過特定電影的資料\n",
    "        '''\n",
    "        user_item[u-1, rate-1] = train_data[(train_data[:,0] == u) & (train_data[:,1] == rate)][:,2].item()"
   ]
  },
  {
   "cell_type": "code",
   "execution_count": 70,
   "id": "218087b1-1af4-4368-996a-c09b822da979",
   "metadata": {},
   "outputs": [],
   "source": [
    "def test(test_data, p, q, gu=False, bu=False, bi=False):\n",
    "    rmse_test = list()\n",
    "\n",
    "    for test in test_data:\n",
    "        user = test[0] - 1\n",
    "        movie = test[1] - 1\n",
    "        # 判斷是否有bias\n",
    "        if gu and bu and bi:\n",
    "            rmse_test.append(se(test[2], (np.dot(p[user], q[movie]) + gu + bu[user] + bi[movie])))\n",
    "        else:\n",
    "            rmse_test.append(se(test[2], (np.dot(p[user], q[movie]))))\n",
    "    return rmse(rmse_test)\n",
    "\n",
    "# Vistualize Result\n",
    "def plot_latent(df, x):\n",
    "    sns.set_style('whitegrid')\n",
    "    sns.set_context('talk')\n",
    "    plt.figure(figsize=(20,8))\n",
    "    for c in df.columns:\n",
    "        if c != x:\n",
    "            g = sns.lineplot(data=df, x=x, y=c, label=c)\n",
    "    g.set(ylabel = \"RMSE\")"
   ]
  },
  {
   "cell_type": "markdown",
   "id": "ca191ec0-ec7f-42c9-a0ac-7a45cd1e9174",
   "metadata": {},
   "source": [
    "## 2.1. Initialize latent matrix"
   ]
  },
  {
   "cell_type": "code",
   "execution_count": 160,
   "id": "83979866-ef6f-4646-8d85-fd55c7e52a39",
   "metadata": {
    "tags": []
   },
   "outputs": [],
   "source": [
    "# init lentent vector\n",
    "K = 20\n",
    "# init user lentent matrix\n",
    "P = np.random.uniform(low=0, high=3, size=(len(user), K))\n",
    "# init movie lentent matrix\n",
    "Q = np.random.uniform(low=0, high=3, size=(len(movie), K))\n",
    "# init user lentent matrix(nobias)\n",
    "NP = np.random.uniform(low=0, high=3, size=(len(user), K))\n",
    "# init movie lentent matrix(nobias)\n",
    "NQ = np.random.uniform(low=0, high=3, size=(len(movie), K))"
   ]
  },
  {
   "cell_type": "markdown",
   "id": "d7c5c4bd-31b9-4b0a-99ad-57691c0f6c20",
   "metadata": {},
   "source": [
    "## 2.2. Use SGD optimization algorithm update latent matrix"
   ]
  },
  {
   "cell_type": "code",
   "execution_count": 13,
   "id": "408e4169-94bf-41c5-8dbb-310f2fa50a19",
   "metadata": {},
   "outputs": [],
   "source": [
    "# 設定SGD learning_rate\n",
    "alpha = 0.01\n",
    "# 設定正則化參數\n",
    "l = 0.1\n",
    "# epochs setting\n",
    "epochs = 100"
   ]
  },
  {
   "cell_type": "markdown",
   "id": "cd8d785c-ffcc-4552-b152-35b61175ded7",
   "metadata": {},
   "source": [
    "### 2.2.1. Nobias"
   ]
  },
  {
   "cell_type": "code",
   "execution_count": 158,
   "id": "aa54e53f-46bb-490b-b1f0-2917c55ca215",
   "metadata": {
    "tags": []
   },
   "outputs": [
    {
     "name": "stdout",
     "output_type": "stream",
     "text": [
      "epoch=0, trainging=1.8001772469504627, testing=4.0422336829187575\n",
      "epoch=9, trainging=0.6287348994639808, testing=1.3677740503742313\n",
      "epoch=18, trainging=0.6177226437282037, testing=1.1817049289370094\n",
      "epoch=27, trainging=0.6086645442070204, testing=1.0968647131032148\n",
      "epoch=36, trainging=0.5995468593934118, testing=1.0518424513342541\n",
      "epoch=45, trainging=0.5915305323813782, testing=1.026373576976324\n",
      "epoch=54, trainging=0.584818512106063, testing=1.011157902676769\n",
      "epoch=63, trainging=0.5792717297956946, testing=1.0015255180754716\n",
      "epoch=72, trainging=0.5746877056801235, testing=0.9950582598373516\n",
      "epoch=81, trainging=0.5708802571647944, testing=0.990476096999477\n",
      "epoch=90, trainging=0.5676964364730426, testing=0.9870808529052161\n",
      "epoch=99, trainging=0.5650147061711426, testing=0.9844756716237384\n"
     ]
    }
   ],
   "source": [
    "MF_nobias_training = list()\n",
    "MF_nobias_testing = list()\n",
    "\n",
    "for epoch in range(epochs):\n",
    "    rmse_list = list()\n",
    "    # 針對user有評分過的rating位置進行更新(User Latent Matrix)\n",
    "    for j in range(len(user)):\n",
    "        # 找出使用者j對哪幾部電影評分的index\n",
    "        movie_index = [i for i, e in enumerate(user_item[j]) if e != 0]\n",
    "        for m in movie_index:\n",
    "            # 若user item 有值則對Q的相對欄位進行SGD更新, 將更新後user latent matrix先暫存\n",
    "            tmp = NQ[m] - alpha * ((np.dot(NP[j], NQ[m]) - user_item[j,m]) * NP[j] + l*(NQ[m]))\n",
    "            # 更新 movie latent matrix\n",
    "            NP[j] -= alpha * ((np.dot(NP[j], NQ[m]) - user_item[j,m]) * NQ[m] + l*(NP[j]))\n",
    "            # 更新 user latent matrix\n",
    "            NQ[m] = tmp\n",
    "            # 計算ＳＥ\n",
    "            rmse_list.append(se(user_item[j, m], np.dot(NP[j], NQ[m])))\n",
    "    \n",
    "    MF_nobias_training.append(rmse(rmse_list))\n",
    "    # 進行驗證資料測試\n",
    "    MF_nobias_testing.append(test(test_data, NP, NQ))\n",
    "    if epoch % 9 == 0:\n",
    "        print(f\"epoch={epoch}, trainging={MF_nobias_training[-1]}, testing={MF_nobias_testing[-1]}\")"
   ]
  },
  {
   "cell_type": "markdown",
   "id": "3de2bbe0-9e4e-433d-b8a7-cf46590c8762",
   "metadata": {},
   "source": [
    "### 2.2.2. Having Bias"
   ]
  },
  {
   "cell_type": "code",
   "execution_count": 56,
   "id": "358f4714-c681-495b-927c-96277a0415ca",
   "metadata": {},
   "outputs": [
    {
     "name": "stdout",
     "output_type": "stream",
     "text": [
      "epoch=0, gu=-9.370793279313942, bu=-0.6476141057352623, bi=-0.9279403758652923, training=1.267928034112335, testing=9.89922423691281\n",
      "epoch=9, gu=0.8922032140073325, bu=-0.0050049809782474084, bi=-0.5793962739216707, training=0.771622620800976, testing=1.240836187398587\n",
      "epoch=18, gu=0.8798134249239599, bu=0.2522423690283363, bi=-0.444723947963059, training=0.7582561038794315, testing=1.091295221461148\n",
      "epoch=27, gu=0.8949522021737343, bu=0.40972769658008357, bi=-0.3630207903535454, training=0.7419341316374009, testing=1.0360080769583309\n",
      "epoch=36, gu=0.9055913991653105, bu=0.5228555499145784, bi=-0.3023153922443184, training=0.7264313498246759, testing=1.006837241937323\n",
      "epoch=45, gu=0.9127196030278837, bu=0.6075673584302681, bi=-0.25281743177940785, training=0.7127733394147955, testing=0.989275074217344\n",
      "epoch=54, gu=0.9186539690827813, bu=0.6722216119574194, bi=-0.21019943985170775, training=0.7007661728711018, testing=0.977455908602907\n",
      "epoch=63, gu=0.9239176929297502, bu=0.7222782718580808, bi=-0.1722893463148656, training=0.6905438279585668, testing=0.9689565370805843\n",
      "epoch=72, gu=0.9283870623224473, bu=0.7615602928118657, bi=-0.1378992339297064, training=0.6820365543178444, testing=0.9626105615554886\n",
      "epoch=81, gu=0.9320895352027685, bu=0.7927898847568309, bi=-0.10632723401018154, training=0.6749851365093382, testing=0.9577419078290702\n",
      "epoch=90, gu=0.9351775685659457, bu=0.8179228064373065, bi=-0.07712265289295184, training=0.6691022203091275, testing=0.9539244965008783\n",
      "epoch=99, gu=0.9378072161457945, bu=0.8383793472933506, bi=-0.04997093604361844, training=0.664149791741232, testing=0.9508782170788109\n"
     ]
    }
   ],
   "source": [
    "MF_bias_training = list()\n",
    "MF_bias_testing = list()\n",
    "# init setting global mean\n",
    "gu= get_u()\n",
    "# init setting user mean as bias\n",
    "bu = [get_ubias(i) - gu for i in range(len(user))] \n",
    "# init setting movie mean as bias\n",
    "bi = [get_ibias(m) - gu for m in range(len(movie))] \n",
    "\n",
    "for epoch in range(epochs):\n",
    "    rmse_list = list()\n",
    "    # 針對user有評分過的rating位置進行更新(User Latent Matrix)\n",
    "    for j in range(len(user)):\n",
    "        # 找出使用者j對哪幾部電影評分的index\n",
    "        movie_index = [i for i, e in enumerate(user_item[j]) if e != 0]\n",
    "        for m in movie_index:\n",
    "            # 對u 做偏微分進行ＳＧＤ更新\n",
    "            tmp_gu = gu - alpha * (((np.dot(P[j], Q[m]) + gu + bu[j] + bi[m]) - user_item[j,m]) + l*(gu))\n",
    "            # 對bu 做偏微分進行ＳＧＤ更新\n",
    "            tmp_bu = bu[j] - alpha * (((np.dot(P[j], Q[m]) + gu + bu[j] + bi[m]) - user_item[j,m]) + l*(bu[j]))\n",
    "            # 對bi 做偏微分進行ＳＧＤ更新\n",
    "            tmp_bi = bi[m] - alpha * (((np.dot(P[j], Q[m]) + gu + bu[j] + bi[m]) - user_item[j,m]) + l*(bi[m]))\n",
    "            # 若user item 有值則對Q的相對欄位進行SGD更新, 將更新後user latent matrix先暫存\n",
    "            tmp = Q[m] - alpha * (((np.dot(P[j], Q[m]) + gu + bu[j] + bi[m]) - user_item[j,m]) * P[j] + l*(Q[m]))\n",
    "            # 更新 movie latent matrix\n",
    "            P[j] -= alpha * (((np.dot(P[j], Q[m]) + gu + bu[j] + bi[m]) - user_item[j,m]) * Q[m] + l*(P[j]))\n",
    "            # 更新 user latent matrix\n",
    "            Q[m] = tmp\n",
    "            # 更新bias\n",
    "            gu = tmp_gu\n",
    "            bu[j] = tmp_bu\n",
    "            bi[m] = tmp_bi\n",
    "            # 計算ＳＥ\n",
    "            rmse_list.append(se(user_item[j, m], (np.dot(P[j], Q[m]) + gu + bu[j] + bi[m])))\n",
    "    MF_bias_training.append(rmse(rmse_list))\n",
    "    # 進行驗證資料測試\n",
    "    MF_bias_testing.append(test(test_data, P, Q, gu, bu, bi))\n",
    "    if epoch % 9 == 0:\n",
    "        print(f\"epoch={epoch}, gu={gu}, bu={np.mean(bu)}, bi={np.mean(bi)}, training={MF_bias_training[-1]}, testing={MF_bias_testing[-1]}\")"
   ]
  },
  {
   "cell_type": "markdown",
   "id": "d784f775-8efb-480e-9234-b3af0f87c283",
   "metadata": {},
   "source": [
    "## 2.3. Vistualize Result"
   ]
  },
  {
   "cell_type": "code",
   "execution_count": 64,
   "id": "0ad364e1-d20d-419f-ab1e-905d9b2d06d5",
   "metadata": {},
   "outputs": [],
   "source": [
    "# numpy to pandas\n",
    "latent_iteration = pd.DataFrame({\"Iteration\": [i for i in range(1, 100+1)],\n",
    "                                 \"MF-nobias (training)\": MF_nobias_training,\n",
    "                                 \"MF-nobias (testing)\": MF_nobias_testing,\n",
    "                                 \"MF-bias (training)\": MF_bias_training,\n",
    "                                 \"MF-bias (testing)\": MF_bias_testing\n",
    "                                })\n"
   ]
  },
  {
   "cell_type": "markdown",
   "id": "239c3b1f-5035-4069-af4e-d36ef72ce95a",
   "metadata": {},
   "source": [
    "### 2.3.1 Varying the iteration number"
   ]
  },
  {
   "cell_type": "code",
   "execution_count": 71,
   "id": "036a8ad2-6907-4224-a855-5a96d941ff10",
   "metadata": {},
   "outputs": [
    {
     "data": {
      "image/png": "[encoded data removed]",
      "text/plain": [
       "<Figure size 1440x576 with 1 Axes>"
      ]
     },
     "metadata": {},
     "output_type": "display_data"
    }
   ],
   "source": [
    "# Visualize\n",
    "plot_latent(latent_iteration, \"Iteration\")"
   ]
  },
  {
   "cell_type": "markdown",
   "id": "78b91a69-80a0-43f4-a1ea-60e72ab8d38e",
   "metadata": {},
   "source": [
    "### 2.3.2. Varying the number of latent factors"
   ]
  },
  {
   "cell_type": "code",
   "execution_count": 166,
   "id": "3565438c-ece7-4b50-9a6c-2f52fcb645ce",
   "metadata": {},
   "outputs": [
    {
     "name": "stderr",
     "output_type": "stream",
     "text": [
      "K=0: 100%|██████████████████████████████████████████████████████████████████████████████████████████████████████████████████████████████████████| 100/100 [02:27<00:00,  1.47s/it]\n"
     ]
    },
    {
     "name": "stdout",
     "output_type": "stream",
     "text": [
      "Nobias: K=0, trainging=3.70456115259734, testing=3.706324324718494\n",
      "Bias: K=0, gu=1.1811261868361886, bu=1.197450655680285, bi=0.6373763845243926, training=0.9011936755050223, testing=0.9734290095900086\n"
     ]
    },
    {
     "name": "stderr",
     "output_type": "stream",
     "text": [
      "K=5: 100%|██████████████████████████████████████████████████████████████████████████████████████████████████████████████████████████████████████| 100/100 [02:24<00:00,  1.44s/it]\n"
     ]
    },
    {
     "name": "stdout",
     "output_type": "stream",
     "text": [
      "Nobias: K=5, trainging=0.7696684673740791, testing=0.9505270961636066\n",
      "Bias: K=5, gu=0.9574738071236988, bu=0.8947159530817573, bi=0.21137685480111798, training=0.7771629105030491, testing=0.9407364251100186\n"
     ]
    },
    {
     "name": "stderr",
     "output_type": "stream",
     "text": [
      "K=10: 100%|█████████████████████████████████████████████████████████████████████████████████████████████████████████████████████████████████████| 100/100 [02:23<00:00,  1.44s/it]\n"
     ]
    },
    {
     "name": "stdout",
     "output_type": "stream",
     "text": [
      "Nobias: K=10, trainging=0.7103080218570598, testing=0.9528886219212066\n",
      "Bias: K=10, gu=0.9277640912658215, bu=0.8635587443510262, bi=0.12135362284159837, training=0.7223763565980157, testing=0.9448427386668983\n"
     ]
    },
    {
     "name": "stderr",
     "output_type": "stream",
     "text": [
      "K=15: 100%|█████████████████████████████████████████████████████████████████████████████████████████████████████████████████████████████████████| 100/100 [07:46<00:00,  4.66s/it]\n"
     ]
    },
    {
     "name": "stdout",
     "output_type": "stream",
     "text": [
      "Nobias: K=15, trainging=0.6728605225842084, testing=0.9636806151916772\n",
      "Bias: K=15, gu=0.9195239739497286, bu=0.8491752070977914, bi=0.06231733051853856, training=0.6839550791969166, testing=0.9436033507299805\n"
     ]
    },
    {
     "name": "stderr",
     "output_type": "stream",
     "text": [
      "K=20: 100%|███████████████████████████████████████████████████████████████████████████████████████████████████████████████████████████████████| 100/100 [1:03:36<00:00, 38.16s/it]\n"
     ]
    },
    {
     "name": "stdout",
     "output_type": "stream",
     "text": [
      "Nobias: K=20, trainging=0.646930814164387, testing=0.9690644138282642\n",
      "Bias: K=20, gu=0.9167156914377734, bu=0.8391314350180163, bi=0.022963767892949346, training=0.6582316716598365, testing=0.9391749815545501\n"
     ]
    },
    {
     "name": "stderr",
     "output_type": "stream",
     "text": [
      "K=25: 100%|█████████████████████████████████████████████████████████████████████████████████████████████████████████████████████████████████████| 100/100 [02:25<00:00,  1.46s/it]\n"
     ]
    },
    {
     "name": "stdout",
     "output_type": "stream",
     "text": [
      "Nobias: K=25, trainging=0.6246789535451778, testing=0.9735027429821734\n",
      "Bias: K=25, gu=0.9112420068662821, bu=0.8330191285910589, bi=-0.0003068573205312945, training=0.6384392487551641, testing=0.939203120944898\n"
     ]
    },
    {
     "name": "stderr",
     "output_type": "stream",
     "text": [
      "K=30: 100%|█████████████████████████████████████████████████████████████████████████████████████████████████████████████████████████████████████| 100/100 [02:24<00:00,  1.44s/it]\n"
     ]
    },
    {
     "name": "stdout",
     "output_type": "stream",
     "text": [
      "Nobias: K=30, trainging=0.6128843154753085, testing=0.9716464150631731\n",
      "Bias: K=30, gu=0.9194939396598995, bu=0.8286567068716483, bi=-0.026788842196439146, training=0.624320237842303, testing=0.9392026342588745\n"
     ]
    },
    {
     "name": "stderr",
     "output_type": "stream",
     "text": [
      "K=35: 100%|█████████████████████████████████████████████████████████████████████████████████████████████████████████████████████████████████████| 100/100 [02:25<00:00,  1.45s/it]\n"
     ]
    },
    {
     "name": "stdout",
     "output_type": "stream",
     "text": [
      "Nobias: K=35, trainging=0.6001668713514465, testing=0.976452584567707\n",
      "Bias: K=35, gu=0.9173085667331007, bu=0.8277846460094376, bi=-0.035838985290223446, training=0.6116105589512845, testing=0.9457231849438561\n"
     ]
    },
    {
     "name": "stderr",
     "output_type": "stream",
     "text": [
      "K=40: 100%|█████████████████████████████████████████████████████████████████████████████████████████████████████████████████████████████████████| 100/100 [02:25<00:00,  1.45s/it]\n"
     ]
    },
    {
     "name": "stdout",
     "output_type": "stream",
     "text": [
      "Nobias: K=40, trainging=0.5917934995273699, testing=0.9812412656979785\n",
      "Bias: K=40, gu=0.9140365683000788, bu=0.825604700190519, bi=-0.042095635024320344, training=0.6045426227609202, testing=0.9416944667129732\n"
     ]
    },
    {
     "name": "stderr",
     "output_type": "stream",
     "text": [
      "K=45: 100%|█████████████████████████████████████████████████████████████████████████████████████████████████████████████████████████████████████| 100/100 [02:26<00:00,  1.46s/it]\n"
     ]
    },
    {
     "name": "stdout",
     "output_type": "stream",
     "text": [
      "Nobias: K=45, trainging=0.5836713101776371, testing=0.9785997767393634\n",
      "Bias: K=45, gu=0.9219640000418562, bu=0.8274284319678235, bi=-0.0473166710191901, training=0.5978113908299152, testing=0.9462937121604382\n"
     ]
    },
    {
     "name": "stderr",
     "output_type": "stream",
     "text": [
      "K=50: 100%|█████████████████████████████████████████████████████████████████████████████████████████████████████████████████████████████████████| 100/100 [02:26<00:00,  1.46s/it]\n"
     ]
    },
    {
     "name": "stdout",
     "output_type": "stream",
     "text": [
      "Nobias: K=50, trainging=0.5792679533599469, testing=0.976414853297908\n",
      "Bias: K=50, gu=0.9233838328538908, bu=0.828049319222053, bi=-0.04457121266126727, training=0.592994149491067, testing=0.9432586151448473\n"
     ]
    },
    {
     "name": "stderr",
     "output_type": "stream",
     "text": [
      "K=55: 100%|█████████████████████████████████████████████████████████████████████████████████████████████████████████████████████████████████████| 100/100 [02:27<00:00,  1.47s/it]\n"
     ]
    },
    {
     "name": "stdout",
     "output_type": "stream",
     "text": [
      "Nobias: K=55, trainging=0.5744674731587396, testing=0.9789630870382603\n",
      "Bias: K=55, gu=0.9253192954291276, bu=0.8297903642215482, bi=-0.043317594847113866, training=0.587127973842539, testing=0.9451986118897147\n"
     ]
    },
    {
     "name": "stderr",
     "output_type": "stream",
     "text": [
      "K=60: 100%|█████████████████████████████████████████████████████████████████████████████████████████████████████████████████████████████████████| 100/100 [02:26<00:00,  1.46s/it]\n"
     ]
    },
    {
     "name": "stdout",
     "output_type": "stream",
     "text": [
      "Nobias: K=60, trainging=0.5707853026475243, testing=0.9812857712974369\n",
      "Bias: K=60, gu=0.931006407939358, bu=0.8317403389465723, bi=-0.04022218657678747, training=0.5843398739172637, testing=0.9450142165089991\n"
     ]
    },
    {
     "name": "stderr",
     "output_type": "stream",
     "text": [
      "K=65: 100%|█████████████████████████████████████████████████████████████████████████████████████████████████████████████████████████████████████| 100/100 [02:26<00:00,  1.47s/it]\n"
     ]
    },
    {
     "name": "stdout",
     "output_type": "stream",
     "text": [
      "Nobias: K=65, trainging=0.5680022710697836, testing=0.9773726824383322\n",
      "Bias: K=65, gu=0.9299255272735155, bu=0.8352243423909536, bi=-0.03469387962480484, training=0.581952418512194, testing=0.94941419540253\n"
     ]
    },
    {
     "name": "stderr",
     "output_type": "stream",
     "text": [
      "K=70: 100%|█████████████████████████████████████████████████████████████████████████████████████████████████████████████████████████████████████| 100/100 [02:24<00:00,  1.45s/it]\n"
     ]
    },
    {
     "name": "stdout",
     "output_type": "stream",
     "text": [
      "Nobias: K=70, trainging=0.5658192911680312, testing=0.9801424254740452\n",
      "Bias: K=70, gu=0.9284630427055395, bu=0.8353587270646268, bi=-0.028119803443363785, training=0.5788492687912188, testing=0.9469302602365065\n"
     ]
    },
    {
     "name": "stderr",
     "output_type": "stream",
     "text": [
      "K=75: 100%|█████████████████████████████████████████████████████████████████████████████████████████████████████████████████████████████████████| 100/100 [02:25<00:00,  1.45s/it]\n"
     ]
    },
    {
     "name": "stdout",
     "output_type": "stream",
     "text": [
      "Nobias: K=75, trainging=0.5628583959968664, testing=0.9765497432563233\n",
      "Bias: K=75, gu=0.9388876941542021, bu=0.8396601124502675, bi=-0.019997099491810347, training=0.5770024573647495, testing=0.9461254150083863\n"
     ]
    },
    {
     "name": "stderr",
     "output_type": "stream",
     "text": [
      "K=80: 100%|█████████████████████████████████████████████████████████████████████████████████████████████████████████████████████████████████████| 100/100 [02:25<00:00,  1.45s/it]\n"
     ]
    },
    {
     "name": "stdout",
     "output_type": "stream",
     "text": [
      "Nobias: K=80, trainging=0.5612076272662998, testing=0.9777661915228221\n",
      "Bias: K=80, gu=0.9323461471989326, bu=0.8416344078875022, bi=-0.011698618075871855, training=0.5753987000616548, testing=0.9463892778656924\n"
     ]
    },
    {
     "name": "stderr",
     "output_type": "stream",
     "text": [
      "K=85: 100%|█████████████████████████████████████████████████████████████████████████████████████████████████████████████████████████████████████| 100/100 [05:58<00:00,  3.59s/it]\n"
     ]
    },
    {
     "name": "stdout",
     "output_type": "stream",
     "text": [
      "Nobias: K=85, trainging=0.5592735246134759, testing=0.9758213106696813\n",
      "Bias: K=85, gu=0.927285948578725, bu=0.8472470589096848, bi=-0.0011700410956759896, training=0.574209095265937, testing=0.9443011820708347\n"
     ]
    },
    {
     "name": "stderr",
     "output_type": "stream",
     "text": [
      "K=90: 100%|█████████████████████████████████████████████████████████████████████████████████████████████████████████████████████████████████████| 100/100 [02:26<00:00,  1.47s/it]\n"
     ]
    },
    {
     "name": "stdout",
     "output_type": "stream",
     "text": [
      "Nobias: K=90, trainging=0.5580056100887136, testing=0.9831103653242166\n",
      "Bias: K=90, gu=0.9360356355393805, bu=0.8521701006022198, bi=0.004394088839161305, training=0.5727109397257857, testing=0.9468417898417233\n"
     ]
    },
    {
     "name": "stderr",
     "output_type": "stream",
     "text": [
      "K=95: 100%|█████████████████████████████████████████████████████████████████████████████████████████████████████████████████████████████████████| 100/100 [02:27<00:00,  1.48s/it]\n"
     ]
    },
    {
     "name": "stdout",
     "output_type": "stream",
     "text": [
      "Nobias: K=95, trainging=0.5571319253619551, testing=0.9709385963839234\n",
      "Bias: K=95, gu=0.9379045256105604, bu=0.856994200738932, bi=0.01605528535815996, training=0.5718651960022961, testing=0.9447195259207573\n"
     ]
    },
    {
     "name": "stderr",
     "output_type": "stream",
     "text": [
      "K=100: 100%|████████████████████████████████████████████████████████████████████████████████████████████████████████████████████████████████████| 100/100 [02:28<00:00,  1.48s/it]"
     ]
    },
    {
     "name": "stdout",
     "output_type": "stream",
     "text": [
      "Nobias: K=100, trainging=0.5560266107669721, testing=0.9731434599777568\n",
      "Bias: K=100, gu=0.9395772229066601, bu=0.8642923883735176, bi=0.027283141261001755, training=0.5702743319856803, testing=0.9438512726906352\n"
     ]
    },
    {
     "name": "stderr",
     "output_type": "stream",
     "text": [
      "\n"
     ]
    }
   ],
   "source": [
    "# setting the number of latent factors\n",
    "LK = [ i for i in range(5, 100+1, 5)]\n",
    "\n",
    "_MF_bias_training = list()\n",
    "_MF_bias_testing = list()\n",
    "_MF_nobias_training = list()\n",
    "_MF_nobias_testing = list()\n",
    "\n",
    "# 搜集不同Ｋ經過100次迴圈所產生的ＲＭＳＥ結果\n",
    "for k in LK:\n",
    "    # init lentent vector\n",
    "    K = k\n",
    "    # init user lentent matrix\n",
    "    P = np.random.uniform(low=0, high=2, size=(len(user), K))\n",
    "    # init movie lentent matrix\n",
    "    Q = np.random.uniform(low=0, high=2, size=(len(movie), K))\n",
    "    # init user lentent matrix(nobias)\n",
    "    NP = np.random.uniform(low=0, high=2, size=(len(user), K))\n",
    "    # init movie lentent matrix(nobias)\n",
    "    NQ = np.random.uniform(low=0, high=2, size=(len(movie), K))\n",
    "    \n",
    "    # having bias setting\n",
    "    # init setting global mean\n",
    "    gu= get_u()\n",
    "    # init setting user mean as bias\n",
    "    bu = [get_ubias(i) - gu for i in range(len(user))] \n",
    "    # init setting movie mean as bias\n",
    "    bi = [get_ibias(m) - gu for m in range(len(movie))] \n",
    "    \n",
    "    ######### nobias ############\n",
    "    for epoch in tqdm(range(epochs), desc=f\"K={K}\"):\n",
    "        rmse_list = list()\n",
    "        bias_rmse_list = list()\n",
    "        # 針對user有評分過的rating位置進行更新(User Latent Matrix)\n",
    "        for j in range(len(user)):\n",
    "            # 找出使用者j對哪幾部電影評分的index\n",
    "            movie_index = [i for i, e in enumerate(user_item[j]) if e != 0]\n",
    "            for m in movie_index:\n",
    "                # 若user item 有值則對Q的相對欄位進行SGD更新, 將更新後user latent matrix先暫存\n",
    "                tmp = NQ[m] - alpha * ((np.dot(NP[j], NQ[m]) - user_item[j,m]) * NP[j] + l*(NQ[m]))\n",
    "                # 更新 movie latent matrix\n",
    "                NP[j] -= alpha * ((np.dot(NP[j], NQ[m]) - user_item[j,m]) * NQ[m] + l*(NP[j]))\n",
    "                # 更新 user latent matrix\n",
    "                NQ[m] = tmp\n",
    "                if epoch == 99:\n",
    "                    # 計算ＳＥ\n",
    "                    rmse_list.append(se(user_item[j, m], np.dot(NP[j], NQ[m])))\n",
    "    ######### having bias ############\n",
    "                # 對u 做偏微分進行ＳＧＤ更新\n",
    "                tmp_gu = gu - alpha * (((np.dot(P[j], Q[m]) + gu + bu[j] + bi[m]) - user_item[j,m]) + l*(gu))\n",
    "                # 對bu 做偏微分進行ＳＧＤ更新\n",
    "                tmp_bu = bu[j] - alpha * (((np.dot(P[j], Q[m]) + gu + bu[j] + bi[m]) - user_item[j,m]) + l*(bu[j]))\n",
    "                # 對bi 做偏微分進行ＳＧＤ更新\n",
    "                tmp_bi = bi[m] - alpha * (((np.dot(P[j], Q[m]) + gu + bu[j] + bi[m]) - user_item[j,m]) + l*(bi[m]))\n",
    "                # 若user item 有值則對Q的相對欄位進行SGD更新, 將更新後user latent matrix先暫存\n",
    "                tmp = Q[m] - alpha * (((np.dot(P[j], Q[m]) + gu + bu[j] + bi[m]) - user_item[j,m]) * P[j] + l*(Q[m]))\n",
    "                # 更新 movie latent matrix\n",
    "                P[j] -= alpha * (((np.dot(P[j], Q[m]) + gu + bu[j] + bi[m]) - user_item[j,m]) * Q[m] + l*(P[j]))\n",
    "                # 更新 user latent matrix\n",
    "                Q[m] = tmp\n",
    "                # 更新bias\n",
    "                gu = tmp_gu\n",
    "                bu[j] = tmp_bu\n",
    "                bi[m] = tmp_bi\n",
    "                if epoch == 99:\n",
    "                    # 計算ＳＥ\n",
    "                    bias_rmse_list.append(se(user_item[j, m], (np.dot(P[j], Q[m]) + gu + bu[j] + bi[m])))\n",
    "                    \n",
    "        if epoch == 99:\n",
    "            _MF_nobias_training.append(rmse(rmse_list))\n",
    "            # 進行驗證資料測試\n",
    "            _MF_nobias_testing.append(test(test_data, NP, NQ))\n",
    "            print(f\"Nobias: K={K}, trainging={_MF_nobias_training[-1]}, testing={_MF_nobias_testing[-1]}\")\n",
    "            \n",
    "            _MF_bias_training.append(rmse(bias_rmse_list))\n",
    "            # 進行驗證資料測試\n",
    "            _MF_bias_testing.append(test(test_data, P, Q, gu, bu, bi))\n",
    "            print(f\"Bias: K={K}, gu={gu}, bu={np.mean(bu)}, bi={np.mean(bi)}, training={_MF_bias_training[-1]}, testing={_MF_bias_testing[-1]}\")"
   ]
  },
  {
   "cell_type": "code",
   "execution_count": 180,
   "id": "a6eef2b0-9676-42c9-bb51-e8fd4b66cd59",
   "metadata": {},
   "outputs": [],
   "source": [
    "# 將K轉成字串形式\n",
    "str_k = list(map(lambda x:str(x), LK))\n",
    "\n",
    "# numpy to pandas\n",
    "latent_k = pd.DataFrame({\"Number of latent factor k\": str_k,\n",
    "                                 \"MF-nobias (training)\": _MF_nobias_training,\n",
    "                                 \"MF-nobias (testing)\": _MF_nobias_testing,\n",
    "                                 \"MF-bias (training)\": _MF_bias_training,\n",
    "                                 \"MF-bias (testing)\": _MF_bias_testing\n",
    "                                })"
   ]
  },
  {
   "cell_type": "code",
   "execution_count": 181,
   "id": "4f38f3e5-5fb5-4a00-ad5b-1874edd6c63f",
   "metadata": {},
   "outputs": [
    {
     "data": {
      "image/png": "[encoded data removed]",
      "text/plain": [
       "<Figure size 1440x576 with 1 Axes>"
      ]
     },
     "metadata": {},
     "output_type": "display_data"
    }
   ],
   "source": [
    "# Visualize\n",
    "plot_latent(latent_k, \"Number of latent factor k\")"
   ]
  },
  {
   "cell_type": "markdown",
   "id": "e17b00c9-772a-43f8-83bc-53c7d2a053ac",
   "metadata": {},
   "source": [
    "# 3. Report the Perforemance"
   ]
  },
  {
   "cell_type": "code",
   "execution_count": 202,
   "id": "35b48268-2144-422d-80a1-ce9f16d5e509",
   "metadata": {},
   "outputs": [],
   "source": [
    "# Default Parameters\n",
    "ucf_pcc_default = ucf_tpcc[3]\n",
    "ucf_cos_default = ucf_tcos[3]\n",
    "icf_pcc_default = icf_tpcc[3]\n",
    "icf_cos_default = icf_tcos[3]\n",
    "mf_bias_default = MF_bias_testing[-1]\n",
    "mf_nobias_default = MF_nobias_testing[-1]\n",
    "\n",
    "# Turned Parameters\n",
    "ucf_pcc_tuned = min(ucf_tpcc)\n",
    "ucf_cos_tuned = min(ucf_tcos)\n",
    "icf_pcc_tuned = min(icf_tpcc)\n",
    "icf_cos_tuned = min(icf_tcos)\n",
    "mf_bias_tuned = min(_MF_bias_testing)\n",
    "mf_nobias_tuned = min(MF_bias_testing)"
   ]
  },
  {
   "cell_type": "code",
   "execution_count": 224,
   "id": "1fb96396-70b6-4043-bb74-485303de5fb5",
   "metadata": {},
   "outputs": [],
   "source": [
    "# create data\n",
    "d = [\n",
    "    [\"U-CF-pcc\", \"Default Parameters\", ucf_pcc_default],\n",
    "    [\"U-CF-cos\", \"Default Parameters\", ucf_cos_default],\n",
    "    [\"I-CF-pcc\", \"Default Parameters\", icf_pcc_default],\n",
    "    [\"I-CF-cos\", \"Default Parameters\", icf_cos_default],\n",
    "    [\"MF-nobias\", \"Default Parameters\", ucf_pcc_default],\n",
    "    [\"MF-bias\", \"Default Parameters\", mf_bias_default],\n",
    "    \n",
    "    [\"U-CF-pcc\", \"Tuned Parameters\", ucf_pcc_tuned],\n",
    "    [\"U-CF-cos\", \"Tuned Parameters\", ucf_cos_tuned],\n",
    "    [\"I-CF-pcc\", \"Tuned Parameters\", icf_pcc_tuned],\n",
    "    [\"I-CF-cos\", \"Tuned Parameters\", icf_cos_tuned],\n",
    "    [\"MF-nobias\", \"Tuned Parameters\", ucf_pcc_tuned],\n",
    "    [\"MF-bias\", \"Tuned Parameters\", mf_bias_tuned],\n",
    "]\n",
    "performance = pd.DataFrame(d, columns=[\"method\",\"type\",\"RMSE\"])"
   ]
  },
  {
   "cell_type": "code",
   "execution_count": 225,
   "id": "503c0080-fe47-4f2a-8721-22e496219ec1",
   "metadata": {},
   "outputs": [
    {
     "data": {
      "text/plain": [
       "<matplotlib.legend.Legend at 0x2969f05b0>"
      ]
     },
     "execution_count": 225,
     "metadata": {},
     "output_type": "execute_result"
    },
    {
     "data": {
      "image/png": "[encoded data removed]",
      "text/plain": [
       "<Figure size 576x360 with 1 Axes>"
      ]
     },
     "metadata": {},
     "output_type": "display_data"
    }
   ],
   "source": [
    "plt.figure(figsize=(8,5))\n",
    "plt.ylim(0,2)\n",
    "sns.barplot(x=\"type\", y=\"RMSE\", hue=\"method\", data=performance)\n",
    "plt.legend(loc=\"upper right\", prop={'size':12})"
   ]
  },
  {
   "cell_type": "code",
   "execution_count": null,
   "id": "4181add9-b6eb-4e52-8ba3-dea16f8362c5",
   "metadata": {},
   "outputs": [],
   "source": []
  }
 ],
 "metadata": {
  "kernelspec": {
   "display_name": "Python 3 (ipykernel)",
   "language": "python",
   "name": "python3"
  },
  "language_info": {
   "codemirror_mode": {
    "name": "ipython",
    "version": 3
   },
   "file_extension": ".py",
   "mimetype": "text/x-python",
   "name": "python",
   "nbconvert_exporter": "python",
   "pygments_lexer": "ipython3",
   "version": "3.9.6"
  }
 },
 "nbformat": 4,
 "nbformat_minor": 5
}
